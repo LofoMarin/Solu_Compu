{
  "nbformat": 4,
  "nbformat_minor": 0,
  "metadata": {
    "colab": {
      "provenance": []
    },
    "kernelspec": {
      "name": "python3",
      "display_name": "Python 3"
    },
    "language_info": {
      "name": "python"
    }
  },
  "cells": [
    {
      "cell_type": "code",
      "execution_count": null,
      "metadata": {
        "id": "lnryWKbPygQY"
      },
      "outputs": [],
      "source": [
        "# Libraries\n",
        "import sympy as sp \n",
        "from sympy import parse_expr\n",
        "import numpy as np\n",
        "import matplotlib.pyplot as plt"
      ]
    },
    {
      "cell_type": "markdown",
      "source": [
        "# Soluciones Computacionales a Problemas de Ingeniería IST4360\n",
        "\n",
        "\n",
        "\n",
        "\n",
        "*   Estudiantes: Nathalia María Quintana García - María Silvana Suárez Alvarado\n",
        "*   Código: 200162663 - 200162233\n",
        "\n"
      ],
      "metadata": {
        "id": "omJgIemSKKPJ"
      }
    },
    {
      "cell_type": "markdown",
      "source": [
        "## Ejercicio 1\n",
        "La función $f(x) = \\tan (\\pi x) -6$ tiene una raíz en $(1/\\pi)\\arctan (6)$. Escoja tres métodos de su preferencia, fije los valores iniciales a usar en cada uno y haga un máximo de 10 iteraciones. ¿Cuál de los métodos se desempeña mejor?¿Por qué?"
      ],
      "metadata": {
        "id": "3EgXFiA4LAiM"
      }
    },
    {
      "cell_type": "code",
      "source": [
        "x = parse_expr('x')\n",
        "f = parse_expr(\"tan(pi * x) - 6\")\n",
        "\n",
        "iteraciones_maximas = 10"
      ],
      "metadata": {
        "id": "2qFQuQxdzMxN"
      },
      "execution_count": null,
      "outputs": []
    },
    {
      "cell_type": "code",
      "source": [
        "#@title newton\n",
        "\n",
        "punto_inicial = np.pi / 3\n",
        "\n",
        "i = 0\n",
        "errores = []\n",
        "\n",
        "derivada = sp.diff(f, x, 1)\n",
        "\n",
        "while i < iteraciones_maximas: \n",
        "\n",
        "  punto_siguiente = punto_inicial - f.subs(x, punto_inicial).evalf() / derivada.subs(x, punto_inicial).evalf() \n",
        "\n",
        "  error_actual = np.abs((punto_siguiente - punto_inicial) / punto_siguiente)\n",
        "\n",
        "  punto_inicial = punto_siguiente\n",
        "  i = i + 1\n",
        "\n",
        "  errores.append(error_actual)\n",
        "\n",
        "print(f\"f({punto_siguiente}) = {f.subs(x, punto_siguiente).evalf()}\")"
      ],
      "metadata": {
        "id": "TYkho02X73N9",
        "colab": {
          "base_uri": "https://localhost:8080/"
        },
        "outputId": "36eb1e92-c5d4-4c91-ad90-e4089d90a41e",
        "cellView": "form"
      },
      "execution_count": null,
      "outputs": [
        {
          "output_type": "stream",
          "name": "stdout",
          "text": [
            "f(7.44743154332781) = 4.54030274149884E-9\n"
          ]
        }
      ]
    },
    {
      "cell_type": "code",
      "source": [
        "plt.plot(errores)\n",
        "\n",
        "plt.ylabel(\"error\")\n",
        "plt.xlabel(\"iteraciones\")"
      ],
      "metadata": {
        "colab": {
          "base_uri": "https://localhost:8080/",
          "height": 296
        },
        "id": "V-aAsZMFos8Z",
        "outputId": "c63d02f4-9114-48e2-c775-f1366c2f1c4f"
      },
      "execution_count": null,
      "outputs": [
        {
          "output_type": "execute_result",
          "data": {
            "text/plain": [
              "Text(0.5, 0, 'iteraciones')"
            ]
          },
          "metadata": {},
          "execution_count": 105
        },
        {
          "output_type": "display_data",
          "data": {
            "text/plain": [
              "<Figure size 432x288 with 1 Axes>"
            ],
            "image/png": "[encoded data removed]"
          },
          "metadata": {
            "needs_background": "light"
          }
        }
      ]
    },
    {
      "cell_type": "code",
      "source": [
        "#@title secante\n",
        "\n",
        "punto_inicial = 0.1\n",
        "punto_parcial = 0.2\n",
        "\n",
        "i = 0 \n",
        "errores_2 = []\n",
        "\n",
        "while i < iteraciones_maximas: \n",
        "\n",
        "  punto_siguiente = punto_parcial - f.subs(x, punto_parcial).evalf() * (punto_parcial - punto_inicial) / (f.subs(x, punto_parcial).evalf() - f.subs(x, punto_inicial).evalf())\n",
        "  punto_inicial, punto_parcial = punto_parcial, punto_siguiente \n",
        "\n",
        "  error_actual = np.abs((punto_siguiente - punto_inicial) / punto_siguiente)\n",
        "\n",
        "  errores_2.append(error_actual)\n",
        "\n",
        "  i = i + 1\n",
        "\n",
        "print(f\"f({punto_parcial}) = {f.subs(x, punto_parcial).evalf()}\")"
      ],
      "metadata": {
        "id": "ACtEQRZa8dzY",
        "colab": {
          "base_uri": "https://localhost:8080/"
        },
        "outputId": "d6d995b1-7585-4d38-fed1-dfb192f35ff5",
        "cellView": "form"
      },
      "execution_count": null,
      "outputs": [
        {
          "output_type": "stream",
          "name": "stdout",
          "text": [
            "f(-104.587195159176) = -2.44122524583855\n"
          ]
        }
      ]
    },
    {
      "cell_type": "code",
      "source": [
        "plt.plot(errores_2)\n",
        "\n",
        "plt.ylabel(\"error\")\n",
        "plt.xlabel(\"iteraciones\")"
      ],
      "metadata": {
        "colab": {
          "base_uri": "https://localhost:8080/",
          "height": 296
        },
        "id": "QKDzPIujosaQ",
        "outputId": "ab693e65-ab2c-447d-acfd-7bcf32e8ce18"
      },
      "execution_count": null,
      "outputs": [
        {
          "output_type": "execute_result",
          "data": {
            "text/plain": [
              "Text(0.5, 0, 'iteraciones')"
            ]
          },
          "metadata": {},
          "execution_count": 80
        },
        {
          "output_type": "display_data",
          "data": {
            "text/plain": [
              "<Figure size 432x288 with 1 Axes>"
            ],
            "image/png": "[encoded data removed]"
          },
          "metadata": {
            "needs_background": "light"
          }
        }
      ]
    },
    {
      "cell_type": "code",
      "source": [
        "#@title bisection\n",
        "a = 0\n",
        "b = 0.5\n",
        "\n",
        "i = 0\n",
        "c_anterior = 0\n",
        "\n",
        "c_valores = []\n",
        "\n",
        "errores_3 = []\n",
        "\n",
        "while i < iteraciones_maximas: \n",
        "  \n",
        "  c_actual = (a + b) / 2\n",
        "\n",
        "  c_valores.append(c_actual)\n",
        "\n",
        "  if (f.subs(x,c_actual).evalf() == 0.0):\n",
        "\n",
        "    break\n",
        "\n",
        "  elif (f.subs(x,c_actual).evalf() * f.subs(x,a).evalf() < 0):\n",
        "\n",
        "    b = c_actual\n",
        "\n",
        "  else:\n",
        "\n",
        "    a = c_actual\n",
        "  \n",
        "  error_actual = np.abs((c_actual - c_anterior) / c_actual)\n",
        "\n",
        "  errores_3.append(error_actual)\n",
        "\n",
        "  c_anterior = c_actual\n",
        "\n",
        "  i = i + 1\n",
        "\n",
        "print(f\"f({c_actual}) = {f.subs(x, c_actual).evalf()}\")"
      ],
      "metadata": {
        "id": "IP-uptqq6WTN",
        "colab": {
          "base_uri": "https://localhost:8080/"
        },
        "outputId": "24d4532c-68a6-4c60-9809-1727e0c7b90f",
        "cellView": "form"
      },
      "execution_count": null,
      "outputs": [
        {
          "output_type": "stream",
          "name": "stdout",
          "text": [
            "f(0.44775390625) = 0.0377002195545230\n"
          ]
        }
      ]
    },
    {
      "cell_type": "code",
      "source": [
        "plt.plot(errores_3)\n",
        "\n",
        "plt.ylabel(\"error\")\n",
        "plt.xlabel(\"iteraciones\")"
      ],
      "metadata": {
        "colab": {
          "base_uri": "https://localhost:8080/",
          "height": 296
        },
        "id": "TSJ8Hxqyoi-t",
        "outputId": "b8d2c410-793e-49fe-fd76-a148d79c2261"
      },
      "execution_count": null,
      "outputs": [
        {
          "output_type": "execute_result",
          "data": {
            "text/plain": [
              "Text(0.5, 0, 'iteraciones')"
            ]
          },
          "metadata": {},
          "execution_count": 81
        },
        {
          "output_type": "display_data",
          "data": {
            "text/plain": [
              "<Figure size 432x288 with 1 Axes>"
            ],
            "image/png": "[encoded data removed]"
          },
          "metadata": {
            "needs_background": "light"
          }
        }
      ]
    },
    {
      "cell_type": "code",
      "source": [
        "plt.plot(errores, label=\"newton\")\n",
        "plt.plot(errores_2, label=\"secante\")\n",
        "plt.plot(errores_3, label=\"biseccion\")\n",
        "\n",
        "plt.ylabel(\"error\")\n",
        "plt.xlabel(\"iteraciones\")\n",
        "plt.title(\"errores: secante vs newton vs biseccion\")\n",
        "\n",
        "plt.legend()"
      ],
      "metadata": {
        "colab": {
          "base_uri": "https://localhost:8080/",
          "height": 312
        },
        "id": "8ttMlxcmt3rC",
        "outputId": "37bd31c0-e2de-4735-d89d-8ed08a286a64"
      },
      "execution_count": null,
      "outputs": [
        {
          "output_type": "execute_result",
          "data": {
            "text/plain": [
              "<matplotlib.legend.Legend at 0x7fb35892a7f0>"
            ]
          },
          "metadata": {},
          "execution_count": 85
        },
        {
          "output_type": "display_data",
          "data": {
            "text/plain": [
              "<Figure size 432x288 with 1 Axes>"
            ],
            "image/png": "[encoded data removed]"
          },
          "metadata": {
            "needs_background": "light"
          }
        }
      ]
    },
    {
      "cell_type": "code",
      "source": [
        "plt.plot(errores, label=\"newton\")\n",
        "plt.plot(errores_3, label=\"biseccion\")\n",
        "\n",
        "plt.ylabel(\"error\")\n",
        "plt.xlabel(\"iteraciones\")\n",
        "plt.title(\"errores: newton vs biseccion\")\n",
        "\n",
        "plt.legend()"
      ],
      "metadata": {
        "colab": {
          "base_uri": "https://localhost:8080/",
          "height": 312
        },
        "id": "rXM5cHJsva6y",
        "outputId": "ce7bb971-c223-480c-f2b5-2355c55f3d38"
      },
      "execution_count": null,
      "outputs": [
        {
          "output_type": "execute_result",
          "data": {
            "text/plain": [
              "<matplotlib.legend.Legend at 0x7fb358209a60>"
            ]
          },
          "metadata": {},
          "execution_count": 101
        },
        {
          "output_type": "display_data",
          "data": {
            "text/plain": [
              "<Figure size 432x288 with 1 Axes>"
            ],
            "image/png": "[encoded data removed]"
          },
          "metadata": {
            "needs_background": "light"
          }
        }
      ]
    },
    {
      "cell_type": "markdown",
      "source": [
        "Al observar el desempeño de los 3 algoritmos (iteraciones vs error) podemos evidenciar que el método secante, con sus repectivas predicciones anteriores a resolver el problema, tiene un error que varía demasiado para las primeras 4 iteraciones, aunque luego se minimice y se mantenga en un rango mucho menor donde la variación no es demasiado se puede observar que los métodos de newton y bisección tienen mejor rendimiento, por tanto, podemos descartar el método de la secante. Al observar la gráfica de iteraciones vs errores de los métodos newton y bisección se puede evidenciar que la diferencia entre ambos es casi que idéntica, sin embargo, al compararlas en un solo gráfico considerando esas dos se puede observar que el comportamiento del error para bisección es exponencial decreciente mientras que newton tiene partes lineales y otras que varían, pero al final el error es muy similar para ambas a partir de la 6ta iteración. Por otro lado, al observar las raíces calculadas el método newton parece tener una aproximación bastante decente, sin embargo, muy lejos de la raíz propuesta en el enunciado, caso contrario al método de bisección que se acerca demasiado a dicha solución propuesta en el enunciado con un error de precisión del 0.0007. Por tanto, el mejor método por el comportamiento del error y su aproximación a la raíz propuesta es el de bisección."
      ],
      "metadata": {
        "id": "ahXshcRvv5-i"
      }
    },
    {
      "cell_type": "markdown",
      "source": [
        "## Ejercicio 2\n",
        "La probabilidad de que en un juego de Racquetball (con dos jugadores A y B) el jugador A gane con un puntaje 21-0 viene dada por la expresión:\n",
        "$$P=\\frac{1+p}{2}\\left(\\frac{p}{1-p+p^2}\\right)^{21},$$\n",
        "donde $p$ denota la probabilidad de que el jugador A gane cualquier juego (indenpendiente del saque). Determine con una tolerancia de $10^{-3}$ el mínimo valor de $p$ tal que A ganará en al menos la mitad de los juegos con B."
      ],
      "metadata": {
        "id": "27gh9KyHbaCP"
      }
    },
    {
      "cell_type": "code",
      "source": [
        "x = parse_expr(\"x\")\n",
        "f = ((1 + x) / 2) * (x / (1 - x - x**2)) ** 21\n",
        "\n",
        "punto_inicial = 0.75\n",
        "i = 0\n",
        "errores = []\n",
        "\n",
        "derivada = sp.diff(f, x, 1)\n",
        "\n",
        "while i < iteraciones_maximas: \n",
        "\n",
        "  punto_siguiente = punto_inicial - f.subs(x, punto_inicial).evalf() / derivada.subs(x, punto_inicial).evalf() \n",
        "\n",
        "  error_actual = np.abs((punto_siguiente - punto_inicial) / punto_siguiente)\n",
        "\n",
        "  punto_inicial = punto_siguiente\n",
        "  i = i + 1\n",
        "\n",
        "  errores.append(error_actual)\n",
        "\n",
        "print(f\"p = {punto_siguiente}\")"
      ],
      "metadata": {
        "id": "_R-c0hJnKymd",
        "colab": {
          "base_uri": "https://localhost:8080/"
        },
        "outputId": "88c0fa51-ac50-422b-8d19-d684ff8aef72"
      },
      "execution_count": null,
      "outputs": [
        {
          "output_type": "stream",
          "name": "stdout",
          "text": [
            "p = 0.845537748627118\n"
          ]
        }
      ]
    },
    {
      "cell_type": "markdown",
      "source": [
        "## Ejercicio 3\n",
        "La función $f(x) = 4x^2-e^{x}-e^{-x}$ tiene dos raíces positivas $x_{1},\\, x_{2}$, use el método de Newton para aproximar estos valores con una tolerancia de $10^{-6}$."
      ],
      "metadata": {
        "id": "nIDIIJAjzyK6"
      }
    },
    {
      "cell_type": "code",
      "source": [
        "x = parse_expr(\"x\")\n",
        "f = 4 * x ** 2 - sp.exp(x) - sp.exp(-x)\n",
        "\n",
        "punto_inicial = 1\n",
        "\n",
        "tolerancia = 1 * 10 ** -6\n",
        "\n",
        "raices = set()\n",
        "\n",
        "derivada = sp.diff(f, x, 1)\n",
        "\n",
        "while True:\n",
        "\n",
        "    error_actual = 1\n",
        "    \n",
        "    if len(raices) == 2: break\n",
        "\n",
        "    while error_actual > tolerancia: \n",
        "\n",
        "        punto_siguiente = punto_inicial - f.subs(x, punto_inicial).evalf() / derivada.subs(x, punto_inicial).evalf() \n",
        "        \n",
        "        error_actual = np.abs((punto_siguiente - punto_inicial) / punto_siguiente)\n",
        "\n",
        "        punto_inicial = punto_siguiente\n",
        "\n",
        "    raices.add(punto_siguiente)\n",
        "    \n",
        "    punto_inicial = punto_siguiente + 2.5"
      ],
      "metadata": {
        "id": "7mZYU4ffypif"
      },
      "execution_count": null,
      "outputs": []
    },
    {
      "cell_type": "code",
      "source": [
        "raices"
      ],
      "metadata": {
        "colab": {
          "base_uri": "https://localhost:8080/"
        },
        "id": "sAsUHHWAHmlQ",
        "outputId": "28958df3-6957-4ded-e551-9cf24c4832a0"
      },
      "execution_count": null,
      "outputs": [
        {
          "output_type": "execute_result",
          "data": {
            "text/plain": [
              "{0.824498585291139, 4.30624527352011}"
            ]
          },
          "metadata": {},
          "execution_count": 73
        }
      ]
    },
    {
      "cell_type": "code",
      "source": [
        "for i in raices: print(f\"f({i}) = {f.subs(x, i).evalf()}\")"
      ],
      "metadata": {
        "colab": {
          "base_uri": "https://localhost:8080/"
        },
        "id": "8RH5Kv9eTJTK",
        "outputId": "4a443fd4-0dc4-4707-d76e-caa201a4b8d2"
      },
      "execution_count": null,
      "outputs": [
        {
          "output_type": "stream",
          "name": "stdout",
          "text": [
            "f(4.30624527352011) = 0\n",
            "f(0.824498585291139) = 0\n"
          ]
        }
      ]
    },
    {
      "cell_type": "markdown",
      "source": [
        "**Nota:** Por favor incluir en el archivo que contenga la solución los script, funciones, gráficas, código y cualquier otro elemento utilizado. No coloque respuestas sin justificación, muestre todo los desarrollos.\n",
        "\n",
        "**Recuerde:** En este curso no se tolerará el plagio. Sin excepción, en caso de presentarse esta situación, a los estudiantes involucrados se les iniciará proceso de investigación, y se actuará en conformidad con el Reglamento de Estudiantes de la Universidad del Norte. El plagio incluye: usar contenidos sin la debida referencia, de manera literal o con mínimos cambios que no alteren el espíritu del texto/código; adquirir con o sin intención, trabajos de terceros y presentarlos parcial o totalmente como propios; presentar trabajos en grupo donde alguno de los integrantes no trabajó o donde no se hubo trabajo en equipo demostrable; entre otras situaciones definidas en el manual de fraude académico de la Universidad del Norte ([pdf](https://guayacan.uninorte.edu.co/normatividad_interna/upload/File/Guia_Prevencion_Fraude%20estudiantes(5).pdf))."
      ],
      "metadata": {
        "id": "d_5BLbXGbux5"
      }
    }
  ]
}