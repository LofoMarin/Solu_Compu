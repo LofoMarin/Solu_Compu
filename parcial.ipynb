{
  "nbformat": 4,
  "nbformat_minor": 0,
  "metadata": {
    "colab": {
      "provenance": []
    },
    "kernelspec": {
      "name": "python3",
      "display_name": "Python 3"
    },
    "language_info": {
      "name": "python"
    }
  },
  "cells": [
    {
      "cell_type": "markdown",
      "source": [
        "#Punto 1"
      ],
      "metadata": {
        "id": "AiXqL0_izYj2"
      }
    },
    {
      "cell_type": "code",
      "execution_count": null,
      "metadata": {
        "id": "P8ILhhLcv14B"
      },
      "outputs": [],
      "source": [
        "numero = 1.8"
      ]
    },
    {
      "cell_type": "code",
      "source": [
        "signo = \"0\" if numero > 0 else \"1\"\n",
        "mantissa = None\n",
        "exponente = 127 "
      ],
      "metadata": {
        "id": "u5v-vbNzv9LQ"
      },
      "execution_count": null,
      "outputs": []
    },
    {
      "cell_type": "code",
      "source": [
        "#fuente: https://www.geeksforgeeks.org/python-program-to-convert-floating-to-binary/\n",
        "def float_bin(number, places = 3):\n",
        "\n",
        "\t# split() separates whole number and decimal\n",
        "\t# part and stores it in two separate variables\n",
        "\twhole, dec = str(number).split(\".\")\n",
        "\n",
        "\t# Convert both whole number and decimal\n",
        "\t# part from string type to integer type\n",
        "\twhole = int(whole)\n",
        "\tdec = int (dec)\n",
        "\n",
        "\t# Convert the whole number part to it's\n",
        "\t# respective binary form and remove the\n",
        "\t# \"0b\" from it.\n",
        "\tres = bin(whole).lstrip(\"0b\") + \".\"\n",
        "\n",
        "\t# Iterate the number of times, we want\n",
        "\t# the number of decimal places to be\n",
        "\tfor x in range(places):\n",
        "\n",
        "\t\t# Multiply the decimal value by 2\n",
        "\t\t# and separate the whole number part\n",
        "\t\t# and decimal part\n",
        "\t\twhole, dec = str((decimal_converter(dec)) * 2).split(\".\")\n",
        "\n",
        "\t\t# Convert the decimal part\n",
        "\t\t# to integer again\n",
        "\t\tdec = int(dec)\n",
        "\n",
        "\t\t# Keep adding the integer parts\n",
        "\t\t# receive to the result variable\n",
        "\t\tres += whole\n",
        "\n",
        "\treturn res\n",
        "\n",
        "# Function converts the value passed as\n",
        "# parameter to it's decimal representation\n",
        "def decimal_converter(num):\n",
        "\twhile num > 1:\n",
        "\t\tnum /= 10\n",
        "\treturn num\n",
        "\n",
        "result = float_bin(numero, 23)"
      ],
      "metadata": {
        "id": "9DE4Xbuvw9OH"
      },
      "execution_count": null,
      "outputs": []
    },
    {
      "cell_type": "code",
      "source": [
        "mantissa = result.split(\".\")[1]\n",
        "exponente = \"{0:b}\".format(exponente)"
      ],
      "metadata": {
        "id": "CruFzFI7yGjX"
      },
      "execution_count": null,
      "outputs": []
    },
    {
      "cell_type": "code",
      "source": [
        "representacion = signo + \"0\" + str(exponente) + mantissa #el cero añadido es producto de que internamente no se posicionaba correctamente con el codigo"
      ],
      "metadata": {
        "id": "fx9hlDTy2GWL"
      },
      "execution_count": null,
      "outputs": []
    },
    {
      "cell_type": "code",
      "source": [
        "representacion"
      ],
      "metadata": {
        "colab": {
          "base_uri": "https://localhost:8080/",
          "height": 35
        },
        "id": "MVDb2zVJ1Flr",
        "outputId": "5a926ac2-726c-451e-93df-a64e4118537f"
      },
      "execution_count": null,
      "outputs": [
        {
          "output_type": "execute_result",
          "data": {
            "text/plain": [
              "'00111111111001100110011001100110'"
            ],
            "application/vnd.google.colaboratory.intrinsic+json": {
              "type": "string"
            }
          },
          "metadata": {},
          "execution_count": 72
        }
      ]
    },
    {
      "cell_type": "code",
      "source": [
        "\"0011 1111 1110 0110 0110 0110 0110 0110\"\n",
        "3      f     e    6    6    6    6    6  #usando la tabla de bin to hex\n",
        "\"0x3fe66666\""
      ],
      "metadata": {
        "colab": {
          "base_uri": "https://localhost:8080/"
        },
        "id": "SYlq9hMe51bv",
        "outputId": "9c1d88b6-fff8-4598-dd12-c48eee9bdefe"
      },
      "execution_count": null,
      "outputs": [
        {
          "output_type": "stream",
          "name": "stdout",
          "text": [
            "\n",
            " Hexadecimal equivalent of 00111111111001100110011001100110:  3FE6GU"
          ]
        }
      ]
    },
    {
      "cell_type": "markdown",
      "source": [
        "#Punto 2\n"
      ],
      "metadata": {
        "id": "6w78Csk-zbAU"
      }
    },
    {
      "cell_type": "code",
      "source": [
        "from IPython.display import display, Math\n",
        "import sympy as sp\n",
        "from sympy.parsing.sympy_parser import parse_expr\n",
        "import warnings\n",
        "warnings.filterwarnings('ignore')\n",
        "import matplotlib.pyplot as plt\n",
        "import sympy.plotting as pls\n",
        "import seaborn as sns\n",
        "import numpy as np\n",
        "import math as mt"
      ],
      "metadata": {
        "id": "N1f1Q1d12xzr"
      },
      "execution_count": 109,
      "outputs": []
    },
    {
      "cell_type": "code",
      "source": [
        "funcion = parse_expr(\"(x + 1) ** (1/3)\")\n",
        "x = parse_expr(\"x\")"
      ],
      "metadata": {
        "id": "qJPF-DNq217f"
      },
      "execution_count": 111,
      "outputs": []
    },
    {
      "cell_type": "code",
      "source": [
        "funcion"
      ],
      "metadata": {
        "colab": {
          "base_uri": "https://localhost:8080/",
          "height": 38
        },
        "id": "0wSECDUr4IUR",
        "outputId": "8b17cf24-9cb2-4d2e-da2c-7f3453c59e00"
      },
      "execution_count": 112,
      "outputs": [
        {
          "output_type": "execute_result",
          "data": {
            "text/plain": [
              "(x + 1)**(1/3)"
            ],
            "text/latex": "$\\displaystyle \\sqrt[3]{x + 1}$"
          },
          "metadata": {},
          "execution_count": 112
        }
      ]
    },
    {
      "cell_type": "code",
      "source": [
        "valor = 4\n",
        "valor_real = funcion.subs(x, valor).evalf()\n",
        "\n",
        "a = [0, 1, 2]\n",
        "\n",
        "errores = [] #absolutos\n",
        "errores_r = [] #relativos\n",
        "polinomios = []\n",
        "iter = 0\n",
        "\n",
        "suma = 0\n",
        "\n",
        "for j in a:\n",
        "\n",
        "  for i in range(11):\n",
        "\n",
        "    derivada = sp.diff(funcion, x, i)\n",
        "    derivada_evaluada = derivada.subs(x, a[j]).evalf()\n",
        "    resta = (x - a[j]) ** i\n",
        "    factorial = np.math.factorial(i)\n",
        "\n",
        "    suma = suma + (derivada_evaluada * resta) / factorial\n",
        "\n",
        "    iter = iter + 1\n",
        "  \n",
        "  polinomios.append(suma)\n",
        "\n"
      ],
      "metadata": {
        "id": "fttt7FpW6VmL"
      },
      "execution_count": 144,
      "outputs": []
    },
    {
      "cell_type": "code",
      "source": [
        "for i in range(len(polinomios)):\n",
        "\n",
        "  error = np.abs(funcion.subs(x, valor).evalf() - polinomios[i].subs(x, valor).evalf())\n",
        "  error_r = (funcion.subs(x, valor).evalf() - polinomios[i].subs(x, valor).evalf()) / funcion.subs(x, valor).evalf()\n",
        "  errores.append(error)\n",
        "  errores_r.append(error_r)\n",
        "\n",
        "  #print(funcion.subs(x, valor).evalf() - )"
      ],
      "metadata": {
        "id": "8OtXskny64Vu"
      },
      "execution_count": 145,
      "outputs": []
    },
    {
      "cell_type": "code",
      "source": [
        "errores"
      ],
      "metadata": {
        "colab": {
          "base_uri": "https://localhost:8080/"
        },
        "id": "7jYkz99S9-mz",
        "outputId": "7943eea7-2e2b-4d73-bdba-9d5a04e4e824"
      },
      "execution_count": 146,
      "outputs": [
        {
          "output_type": "execute_result",
          "data": {
            "text/plain": [
              "[9521.32821369817, 9520.09969042039, 9518.38982217974]"
            ]
          },
          "metadata": {},
          "execution_count": 146
        }
      ]
    },
    {
      "cell_type": "code",
      "source": [
        "errores_r"
      ],
      "metadata": {
        "colab": {
          "base_uri": "https://localhost:8080/"
        },
        "id": "9QEg6FUs-eHz",
        "outputId": "19396591-a9f3-44fe-9191-e5171614f9bc"
      },
      "execution_count": 147,
      "outputs": [
        {
          "output_type": "execute_result",
          "data": {
            "text/plain": [
              "[5568.10651764001, 5567.38807286880, 5566.38813585567]"
            ]
          },
          "metadata": {},
          "execution_count": 147
        }
      ]
    },
    {
      "cell_type": "code",
      "source": [
        "taylor1 = polinomios[0].subs(x, valor).evalf()\n",
        "taylor2 = polinomios[1].subs(x, valor).evalf()\n",
        "taylor3 = polinomios[2].subs(x, valor).evalf()\n",
        "valor_real = funcion.subs(x, valor).evalf()"
      ],
      "metadata": {
        "id": "kmDBaOIVBxga"
      },
      "execution_count": 148,
      "outputs": []
    },
    {
      "cell_type": "code",
      "source": [
        "plt.grid()\n",
        "plt.plot(valor,taylor1,marker=\"s\")\n",
        "plt.plot(valor,taylor2,marker=\"*\")\n",
        "plt.plot(valor,taylor3,marker=\"h\")\n",
        "plt.plot(valor,valor_real,marker=\"p\")"
      ],
      "metadata": {
        "colab": {
          "base_uri": "https://localhost:8080/",
          "height": 282
        },
        "id": "lXJD5_REBcHi",
        "outputId": "c2e8a282-4fd4-4220-a66c-c1eba04d8cc4"
      },
      "execution_count": 149,
      "outputs": [
        {
          "output_type": "execute_result",
          "data": {
            "text/plain": [
              "[<matplotlib.lines.Line2D at 0x7fa7f8873c10>]"
            ]
          },
          "metadata": {},
          "execution_count": 149
        },
        {
          "output_type": "display_data",
          "data": {
            "text/plain": [
              "<Figure size 432x288 with 1 Axes>"
            ],
            "image/png": "[encoded data removed]"
          },
          "metadata": {
            "needs_background": "light"
          }
        }
      ]
    },
    {
      "cell_type": "code",
      "source": [
        "plt.plot(a, errores)\n",
        "plt.title(\"Repr\")\n",
        "plt.ylabel(\"error por expansion\")\n",
        "plt.xlabel(\"valor de a\")"
      ],
      "metadata": {
        "colab": {
          "base_uri": "https://localhost:8080/",
          "height": 312
        },
        "id": "EO38cHjLCawT",
        "outputId": "b4216698-8bdb-4f01-a613-c6e5aaf5dd3f"
      },
      "execution_count": 154,
      "outputs": [
        {
          "output_type": "execute_result",
          "data": {
            "text/plain": [
              "Text(0.5, 0, 'valor de a')"
            ]
          },
          "metadata": {},
          "execution_count": 154
        },
        {
          "output_type": "display_data",
          "data": {
            "text/plain": [
              "<Figure size 432x288 with 1 Axes>"
            ],
            "image/png": "[encoded data removed]"
          },
          "metadata": {
            "needs_background": "light"
          }
        }
      ]
    },
    {
      "cell_type": "code",
      "source": [
        "plt.plot(a, errores_r)\n",
        "plt.title(\"Repr\")\n",
        "plt.ylabel(\"error por expansion\")\n",
        "plt.xlabel(\"valor de a\")"
      ],
      "metadata": {
        "colab": {
          "base_uri": "https://localhost:8080/",
          "height": 312
        },
        "id": "vuCDRvc1CugG",
        "outputId": "cc697211-5a3c-4db4-c526-80c8ab28dd4f"
      },
      "execution_count": 155,
      "outputs": [
        {
          "output_type": "execute_result",
          "data": {
            "text/plain": [
              "Text(0.5, 0, 'valor de a')"
            ]
          },
          "metadata": {},
          "execution_count": 155
        },
        {
          "output_type": "display_data",
          "data": {
            "text/plain": [
              "<Figure size 432x288 with 1 Axes>"
            ],
            "image/png": "[encoded data removed]"
          },
          "metadata": {
            "needs_background": "light"
          }
        }
      ]
    },
    {
      "cell_type": "code",
      "source": [
        "error_min_por_a = min(errores)"
      ],
      "metadata": {
        "id": "u5fE9gMoEVzb"
      },
      "execution_count": 156,
      "outputs": []
    },
    {
      "cell_type": "code",
      "source": [
        "error_min_por_a"
      ],
      "metadata": {
        "colab": {
          "base_uri": "https://localhost:8080/",
          "height": 37
        },
        "id": "it_gv3ZqEZpk",
        "outputId": "29fc7ac5-ad8f-43fe-9fa4-ec2aef0bc321"
      },
      "execution_count": 157,
      "outputs": [
        {
          "output_type": "execute_result",
          "data": {
            "text/plain": [
              "9518.38982217974"
            ],
            "text/latex": "$\\displaystyle 9518.38982217974$"
          },
          "metadata": {},
          "execution_count": 157
        }
      ]
    },
    {
      "cell_type": "code",
      "source": [
        "errores"
      ],
      "metadata": {
        "colab": {
          "base_uri": "https://localhost:8080/"
        },
        "id": "hf4bU5A_Eivk",
        "outputId": "11d5d332-61fa-441d-e8ec-be537c303aa0"
      },
      "execution_count": 158,
      "outputs": [
        {
          "output_type": "execute_result",
          "data": {
            "text/plain": [
              "[9521.32821369817, 9520.09969042039, 9518.38982217974]"
            ]
          },
          "metadata": {},
          "execution_count": 158
        }
      ]
    },
    {
      "cell_type": "code",
      "source": [
        "a_menor_error = a[2]"
      ],
      "metadata": {
        "id": "QebocMiLEk5p"
      },
      "execution_count": 159,
      "outputs": []
    },
    {
      "cell_type": "code",
      "source": [
        "a_menor_error"
      ],
      "metadata": {
        "colab": {
          "base_uri": "https://localhost:8080/"
        },
        "id": "dwEltboWEn1v",
        "outputId": "a3dfeade-ad79-482c-a275-71565ddc101d"
      },
      "execution_count": 160,
      "outputs": [
        {
          "output_type": "execute_result",
          "data": {
            "text/plain": [
              "2"
            ]
          },
          "metadata": {},
          "execution_count": 160
        }
      ]
    },
    {
      "cell_type": "markdown",
      "source": [
        "Analítcamente se puede evidenciar que una serie hasta grado 10 no representan exactamente el valor real de f(4) debido a su gran margen de error, sin embargo, se puede evidenciar que para los mismos polinomios de mismo grado parece existir una relación de que entre mayor es el punto de expansión ligeramente el error es menor en el mismo grado para todos los polinomios, por tanto el mejor punto de expansión para grado 10 de esta serie es a = 2. \n",
        "\n",
        "Dato extra: para un orden 100 el valor es más aproximado\n",
        "\n"
      ],
      "metadata": {
        "id": "pkClC_P1Dduk"
      }
    },
    {
      "cell_type": "markdown",
      "source": [
        "#Punto 3\n"
      ],
      "metadata": {
        "id": "my0K-ljWEpsf"
      }
    },
    {
      "cell_type": "code",
      "source": [
        "f = parse_expr(\"x * ln(x) * (x + 1) ** (1/3)\")\n",
        "x = parse_expr(\"x\")"
      ],
      "metadata": {
        "id": "M68MYZusEuKE"
      },
      "execution_count": 166,
      "outputs": []
    },
    {
      "cell_type": "code",
      "source": [
        "h = [0.2, 0.5, 1.2]\n",
        "valor = 4\n",
        "errores_progresivas = []\n",
        "errores_regresivas = []\n",
        "errores_centradas = []\n",
        "valor_real = f.diff(x, 1).subs(x, valor)"
      ],
      "metadata": {
        "id": "wUJ-V6DiE2Ss"
      },
      "execution_count": 173,
      "outputs": []
    },
    {
      "cell_type": "code",
      "source": [
        "for i in range(len(h)):\n",
        "\n",
        "  progresiva = (f.subs(x, valor + h[i]).evalf() - f.subs(x, valor).evalf()) / h[i]\n",
        "  regresiva = (f.subs(x, valor).evalf() - f.subs(x, valor - h[i])) / h[i]\n",
        "  centrada = (f.subs(x, valor + h[i]).evalf() - f.subs(x, valor - h[i]).evalf()) / 2 * h[i]\n",
        "\n",
        "  errores_progresivas.append(np.abs(valor_real - progresiva))\n",
        "  errores_regresivas.append(np.abs(valor_real - regresiva))\n",
        "  errores_centradas.append(np.abs(valor_real - centrada))"
      ],
      "metadata": {
        "id": "9GjaBiqOFFBz"
      },
      "execution_count": 175,
      "outputs": []
    },
    {
      "cell_type": "code",
      "source": [
        "errores_progresivas"
      ],
      "metadata": {
        "colab": {
          "base_uri": "https://localhost:8080/"
        },
        "id": "cwVv1cvvFegw",
        "outputId": "1b171475-9a59-493f-fe65-dc204d4f70ed"
      },
      "execution_count": 176,
      "outputs": [
        {
          "output_type": "execute_result",
          "data": {
            "text/plain": [
              "[-19*5**(1/3)*log(4)/15 - 5**(1/3) + 4.80070583098724,\n",
              " -19*5**(1/3)*log(4)/15 - 5**(1/3) + 4.93038700236963,\n",
              " -19*5**(1/3)*log(4)/15 - 5**(1/3) + 5.22275241039093]"
            ]
          },
          "metadata": {},
          "execution_count": 176
        }
      ]
    },
    {
      "cell_type": "code",
      "source": [
        "errores_regresivas"
      ],
      "metadata": {
        "colab": {
          "base_uri": "https://localhost:8080/",
          "height": 55
        },
        "id": "-rGYO1OQFsRg",
        "outputId": "8613f717-f18c-43db-cacc-210ae7818b48"
      },
      "execution_count": 169,
      "outputs": [
        {
          "output_type": "execute_result",
          "data": {
            "text/plain": [
              "5**(1/3) + 19*5**(1/3)*log(4)/15"
            ],
            "text/latex": "$\\displaystyle \\sqrt[3]{5} + \\frac{19 \\sqrt[3]{5} \\log{\\left(4 \\right)}}{15}$"
          },
          "metadata": {},
          "execution_count": 169
        }
      ]
    },
    {
      "cell_type": "code",
      "source": [
        "errores_centradas"
      ],
      "metadata": {
        "colab": {
          "base_uri": "https://localhost:8080/"
        },
        "id": "Zk8LiRhLHeqh",
        "outputId": "4777aff0-5394-42c4-d488-d51dfcdc9fd3"
      },
      "execution_count": 177,
      "outputs": [
        {
          "output_type": "execute_result",
          "data": {
            "text/plain": [
              "[-0.188478655631166 + 5**(1/3) + 19*5**(1/3)*log(4)/15,\n",
              " -1.17709555816433 + 5**(1/3) + 19*5**(1/3)*log(4)/15,\n",
              " -19*5**(1/3)*log(4)/15 - 5**(1/3) + 6.75037831575245]"
            ]
          },
          "metadata": {},
          "execution_count": 177
        }
      ]
    },
    {
      "cell_type": "code",
      "source": [
        "plt.plot(h, errores_progresivas, '-o')\n",
        "plt.xscale('log')\n",
        "plt.yscale('log')\n",
        "\n",
        "plt.xlabel('h')\n",
        "plt.ylabel('Error')\n",
        "plt.title('Aproximación de la primera derivada de x * ln(x) * (x + 1) ** (1/3) (progresiva)')\n",
        "plt.show()"
      ],
      "metadata": {
        "colab": {
          "base_uri": "https://localhost:8080/",
          "height": 299
        },
        "id": "u29h9aIRHiN-",
        "outputId": "083daf53-387b-449e-8a1e-d405ef888e76"
      },
      "execution_count": 179,
      "outputs": [
        {
          "output_type": "display_data",
          "data": {
            "text/plain": [
              "<Figure size 432x288 with 1 Axes>"
            ],
            "image/png": "[encoded data removed]"
          },
          "metadata": {
            "needs_background": "light"
          }
        }
      ]
    },
    {
      "cell_type": "code",
      "source": [
        "plt.plot(h, errores_regresivas, '-o')\n",
        "plt.xscale('log')\n",
        "plt.yscale('log')\n",
        "\n",
        "plt.xlabel('h')\n",
        "plt.ylabel('Error')\n",
        "plt.title('Aproximación de la primera derivada de x * ln(x) * (x + 1) ** (1/3) (regresiva)')\n",
        "plt.show()"
      ],
      "metadata": {
        "colab": {
          "base_uri": "https://localhost:8080/",
          "height": 299
        },
        "id": "hNtg12uzHxdu",
        "outputId": "57085ba6-1610-426a-ea8a-b067d37d2c1f"
      },
      "execution_count": 180,
      "outputs": [
        {
          "output_type": "display_data",
          "data": {
            "text/plain": [
              "<Figure size 432x288 with 1 Axes>"
            ],
            "image/png": "[encoded data removed]"
          },
          "metadata": {
            "needs_background": "light"
          }
        }
      ]
    },
    {
      "cell_type": "code",
      "source": [
        "plt.plot(h, errores_centradas, '-o')\n",
        "plt.xscale('log')\n",
        "plt.yscale('log')\n",
        "\n",
        "plt.xlabel('h')\n",
        "plt.ylabel('Error')\n",
        "plt.title('Aproximación de la primera derivada de x * ln(x) * (x + 1) ** (1/3) (centrada)')\n",
        "plt.show()"
      ],
      "metadata": {
        "colab": {
          "base_uri": "https://localhost:8080/",
          "height": 299
        },
        "id": "IA8z1MaTH3nR",
        "outputId": "c5026523-b05f-4a97-b28d-bd6d0260ccc9"
      },
      "execution_count": 181,
      "outputs": [
        {
          "output_type": "display_data",
          "data": {
            "text/plain": [
              "<Figure size 432x288 with 1 Axes>"
            ],
            "image/png": "[encoded data removed]"
          },
          "metadata": {
            "needs_background": "light"
          }
        }
      ]
    },
    {
      "cell_type": "code",
      "source": [
        "errores_derivadas = [min(errores_progresivas), min(errores_regresivas), min(errores_centradas)]"
      ],
      "metadata": {
        "id": "QIJP0s3IIJzp"
      },
      "execution_count": 185,
      "outputs": []
    },
    {
      "cell_type": "code",
      "source": [
        "min(errores_derivadas)"
      ],
      "metadata": {
        "colab": {
          "base_uri": "https://localhost:8080/",
          "height": 55
        },
        "id": "Rf-cVVoLIrbt",
        "outputId": "39da6052-6a0b-4305-c855-7795bff7b1d9"
      },
      "execution_count": 187,
      "outputs": [
        {
          "output_type": "execute_result",
          "data": {
            "text/plain": [
              "-19*5**(1/3)*log(4)/15 - 5**(1/3) + 4.80070583098724"
            ],
            "text/latex": "$\\displaystyle - \\frac{19 \\sqrt[3]{5} \\log{\\left(4 \\right)}}{15} - \\sqrt[3]{5} + 4.80070583098724$"
          },
          "metadata": {},
          "execution_count": 187
        }
      ]
    },
    {
      "cell_type": "code",
      "source": [
        "errores_derivadas"
      ],
      "metadata": {
        "colab": {
          "base_uri": "https://localhost:8080/"
        },
        "id": "odBDebxBIo4o",
        "outputId": "65287bf9-b92a-4e1c-e677-78ff9181fee9"
      },
      "execution_count": 189,
      "outputs": [
        {
          "output_type": "execute_result",
          "data": {
            "text/plain": [
              "[-19*5**(1/3)*log(4)/15 - 5**(1/3) + 4.80070583098724,\n",
              " -4.62322695057108 + 5**(1/3) + 19*5**(1/3)*log(4)/15,\n",
              " -19*5**(1/3)*log(4)/15 - 5**(1/3) + 6.75037831575245]"
            ]
          },
          "metadata": {},
          "execution_count": 189
        }
      ]
    },
    {
      "cell_type": "markdown",
      "source": [
        "A medida que el valor de h incrementa el error aumenta para la aproximación regresiva y progresiva, caso contrario para la centrada, esto puede ser debido a la naturaleza de la función. El menor error es obtenido con el valor de h = 0.2 para la diferenciacion progresiva con un valor que se evidencia en los prints anteriores"
      ],
      "metadata": {
        "id": "uCFzFzeNJDev"
      }
    }
  ]
}