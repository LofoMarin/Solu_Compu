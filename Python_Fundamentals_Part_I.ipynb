{
  "cells": [
    {
      "cell_type": "markdown",
      "metadata": {
        "id": "nQRZ3u_b9bZd"
      },
      "source": [
        "# Python Fundamentals\n",
        "\n",
        "## Python Notebooks\n",
        "\n",
        "Python notebooks provide an interactive environment for code experimentation, visualization, and publication of results.\n",
        "\n",
        "The boxes below are called **cells** and they can contain code or formatted text (Markdown)."
      ]
    },
    {
      "cell_type": "markdown",
      "metadata": {
        "id": "8wq2MqgdhHtv"
      },
      "source": [
        "## Variables in Python\n",
        "\n",
        "A **variable** is what Python uses to store certain information of interest (e.g. text, numbers, Booleans, etc.)\n",
        "\n",
        "Each variable has a name so that we can easily refer to it. Python takes into account whether we write the variable in uppercase or lowercase (e.g. `a` and `A` are considered different!). We can define variables in Python as follows:\n",
        "\n",
        "```python\n",
        "# Assigning a value\n",
        "variable = value\n",
        "# Assigning multiple values\n",
        "variable1, variable2 = value1, value2\n",
        "```\n",
        "\n",
        "Python will automatically determine the most appropriate data type for a variable based on what value is being assigned to it. For example, if we write `a = 5` then Python will make `a` of type `int` (integer)."
      ]
    },
    {
      "cell_type": "markdown",
      "metadata": {
        "id": "xYiQ0GUShHtw"
      },
      "source": [
        "### Numbers\n",
        "\n",
        "There are two main numerical types in Python, `int` (integers) and `float` (floats). The decimal separator is the period:\n",
        "\n",
        "```python\n",
        "integer_ = 2\n",
        "float_ = 2.5\n",
        "```"
      ]
    },
    {
      "cell_type": "markdown",
      "metadata": {
        "id": "7db2o8ashHtw"
      },
      "source": [
        "### Text\n",
        "\n",
        "Variables that store text are of type `str` (strings). They generally must be enclosed in single or double quotes. If the text that is being assigned spans multiple lines, then it must be enclosed in triple quotes:\n",
        "\n",
        "```python\n",
        "string = \"Hello\"\n",
        "string = 'Hello'\n",
        "multiline = \"\"\"Hello\n",
        "                 World\"\"\"\n",
        "multiline = '''Hello\n",
        "                 World'''\n",
        "```"
      ]
    },
    {
      "cell_type": "markdown",
      "metadata": {
        "id": "f7fM0ge8hHtw"
      },
      "source": [
        "### Lists\n",
        "\n",
        "**Lists** are ordered sets of elements (e.g. numbers, text, lists, etc). They are delimited by square brackets (`[]`), and different elements are separated by commas:\n",
        "\n",
        "```python\n",
        "listNumbers = [1,2,3]\n",
        "StringList = ['a', 'b', 'c']\n",
        "listLists = [[1,2], [3,4], [5,6]]\n",
        "mixedList = [1, 'Group', [1,2,3,4]]\n",
        "emptylist = []\n",
        "```\n",
        "\n",
        "Lists are **dynamic**; i.e. they are mutable. For example, we can modify `StringList` aboove by reassigning it to the set `['d', 'e', 'f']`."
      ]
    },
    {
      "cell_type": "markdown",
      "metadata": {
        "id": "TaZ0wkQ_hHtw"
      },
      "source": [
        "### Tuples\n",
        "\n",
        "**Tuples** are also ordered sets of elements. Tuples are represented by writing the elements between parentheses (`()`), separated by commas:\n",
        "\n",
        "```python\n",
        "tupleNumbers = (1,2,3)\n",
        "tupleStrings = ('a', 'b', 'c')\n",
        "tupleLists = ([1,2], [3,4], [5,6])\n",
        "mixedTuple = (1, 'Group', [1,2,3,4])\n",
        "```\n",
        "\n",
        "Unlike lists, tuples are **static** and cannot be modified once created."
      ]
    },
    {
      "cell_type": "markdown",
      "metadata": {
        "id": "55PUea6AhHtx"
      },
      "source": [
        "### Question:\n",
        "\n",
        "How are tuples different from lists?"
      ]
    },
    {
      "cell_type": "markdown",
      "metadata": {
        "id": "nnt3uDIihHtx"
      },
      "source": [
        "### Dictionaries\n",
        "\n",
        "**Dictionaries** are sets of elements where each element can be identified by a unique **key**:\n",
        "\n",
        "```python\n",
        "dictNumbers = {'k1': 1, 'k2': 2}\n",
        "dictStrings = {'k1': 'a', 'k2': 'b', 'k3': 'c'}\n",
        "dictLists = {'k1': [1,2], 'k2': [3,4], 'k3': [5,6]}\n",
        "mixedDict = {'k1': 1, 'k2': 'Group', 'k3': [1,2,3,4]}\n",
        "```"
      ]
    },
    {
      "cell_type": "markdown",
      "metadata": {
        "id": "J35WVTefhHtx"
      },
      "source": [
        "### Boolean\n",
        "\n",
        "A **Boolean** variable is a variable that can only take two possible values: `True` or `False`:\n",
        "\n",
        "```python\n",
        "true = true\n",
        "false = False\n",
        "```"
      ]
    },
    {
      "cell_type": "markdown",
      "metadata": {
        "id": "N_ERc-hzhHtx"
      },
      "source": [
        "### None\n",
        "\n",
        "This is the data type that in other languages is known as Null (NaN). In Python it is called `NoneType`:\n",
        "\n",
        "```python\n",
        "null = None\n",
        "```"
      ]
    },
    {
      "cell_type": "markdown",
      "metadata": {
        "id": "JiQ4xhoshHtx"
      },
      "source": [
        "## Other useful features\n",
        "\n",
        "### The `print` function\n",
        "\n",
        "The command `print(<variable>)` prints the value of the variable. You'll see plenty of examples of this coming up in the next section."
      ]
    },
    {
      "cell_type": "markdown",
      "metadata": {
        "id": "sXKKKcpE9oUB"
      },
      "source": [
        "### Comments\n",
        "\n",
        "**Comments** are an essential part of good code. They allow you to concisely explain the key features & purpose of your code. Inline comments can be defined with `#`:"
      ]
    },
    {
      "cell_type": "code",
      "execution_count": null,
      "metadata": {
        "colab": {
          "base_uri": "https://localhost:8080/",
          "height": 34
        },
        "id": "BFipE-Vt9n-3",
        "outputId": "8c23f0d5-4428-40ad-fc2b-7394054cfcf4"
      },
      "outputs": [
        {
          "name": "stdout",
          "output_type": "stream",
          "text": [
            "It is an integer:  2\n"
          ]
        }
      ],
      "source": [
        "# Declaring an integer (int)\n",
        "x = 2\n",
        "print(\"It is an integer: \", x)"
      ]
    },
    {
      "cell_type": "code",
      "execution_count": null,
      "metadata": {
        "colab": {
          "base_uri": "https://localhost:8080/",
          "height": 34
        },
        "id": "9PwUJ1adFreY",
        "outputId": "6a434a60-6c42-40f1-f8ae-35bd23727c1a"
      },
      "outputs": [
        {
          "name": "stdout",
          "output_type": "stream",
          "text": [
            "It is a float:  2.5\n"
          ]
        }
      ],
      "source": [
        "# Declaring a float\n",
        "y = 2.5\n",
        "print(\"It is a float: \", y)"
      ]
    },
    {
      "cell_type": "code",
      "execution_count": null,
      "metadata": {
        "colab": {
          "base_uri": "https://localhost:8080/",
          "height": 51
        },
        "id": "F_m4IRhqEo9r",
        "outputId": "d448345b-d879-42bc-8385-91d8ee5589ad"
      },
      "outputs": [
        {
          "name": "stdout",
          "output_type": "stream",
          "text": [
            "Hello world Group\n"
          ]
        }
      ],
      "source": [
        "# Declaring a text string\n",
        "message = \"Hello world\"\n",
        "print(message, \"Group\")"
      ]
    },
    {
      "cell_type": "code",
      "execution_count": null,
      "metadata": {
        "colab": {
          "base_uri": "https://localhost:8080/",
          "height": 85
        },
        "id": "Ef0qUaAE9Qg-",
        "outputId": "cd22a2f5-c564-47b9-f7b5-f1c4994535df"
      },
      "outputs": [
        {
          "name": "stdout",
          "output_type": "stream",
          "text": [
            "Hello \n",
            "                World  Group\n"
          ]
        }
      ],
      "source": [
        "# Multiline text string\n",
        "multiline = \"\"\"Hello \n",
        "                World\"\"\"\n",
        "print(multiline, \" Group\")"
      ]
    },
    {
      "cell_type": "code",
      "execution_count": null,
      "metadata": {
        "colab": {
          "base_uri": "https://localhost:8080/",
          "height": 34
        },
        "id": "eo2ybr55dFy1",
        "outputId": "a3795dde-572f-4f3c-a682-e804495a3d77"
      },
      "outputs": [
        {
          "data": {
            "text/plain": [
              "'Hello \\n                World'"
            ]
          },
          "execution_count": 71,
          "metadata": {},
          "output_type": "execute_result"
        }
      ],
      "source": [
        "multiline"
      ]
    },
    {
      "cell_type": "code",
      "execution_count": null,
      "metadata": {
        "colab": {
          "base_uri": "https://localhost:8080/",
          "height": 102
        },
        "id": "4TeMiF79RuWZ",
        "outputId": "540f03a9-6b49-4cb2-c40b-5394ca949a5d"
      },
      "outputs": [
        {
          "name": "stdout",
          "output_type": "stream",
          "text": [
            "[1, 2, 3]\n",
            "['a', 'b', 'c']\n",
            "[[1, 2], [3, 4], [5, 6]]\n",
            "[1, 'Grupo', [1, 2, 3, 4]]\n",
            "[]\n"
          ]
        }
      ],
      "source": [
        "# Declaring a list\n",
        "numberList = [1,2,3]\n",
        "print(numberList)\n",
        "stringList = ['a','b','c']\n",
        "print(stringList)\n",
        "listList = [[1,2],[3,4],[5,6]]\n",
        "print(listList)\n",
        "mixList = [1,'Grupo',[1,2,3,4]]\n",
        "print(mixList)\n",
        "emptyList = []\n",
        "print(emptyList)"
      ]
    },
    {
      "cell_type": "code",
      "execution_count": null,
      "metadata": {
        "colab": {
          "base_uri": "https://localhost:8080/",
          "height": 85
        },
        "id": "-vZwr-fiSElu",
        "outputId": "9a94995d-bae4-4978-8bcb-ad973b6b6223"
      },
      "outputs": [
        {
          "name": "stdout",
          "output_type": "stream",
          "text": [
            "(1, 2, 3)\n",
            "('a', 'b', 'c')\n",
            "([1, 2], [3, 4], [5, 6])\n",
            "(1, 'Group', [1, 2, 3, 4])\n"
          ]
        }
      ],
      "source": [
        "# Declaring a Tuple\n",
        "numberTuple = (1,2,3)\n",
        "print(numberTuple)\n",
        "stringTuple = ('a','b','c')\n",
        "print(stringTuple)\n",
        "listsTuple = ([1,2],[3,4],[5,6])\n",
        "print(listsTuple)\n",
        "mixTuple = (1,'Group',[1,2,3,4])\n",
        "print(mixTuple)"
      ]
    },
    {
      "cell_type": "code",
      "execution_count": null,
      "metadata": {
        "colab": {
          "base_uri": "https://localhost:8080/",
          "height": 85
        },
        "id": "eEfYQVO0QUK0",
        "outputId": "c085f6c3-f512-4ab6-8e99-4074510d1fc5"
      },
      "outputs": [
        {
          "name": "stdout",
          "output_type": "stream",
          "text": [
            "{'k1': 1, 'k2': 2}\n",
            "{'k1': 'a', 'k2': 'b', 'k3': 'c'}\n",
            "{'k1': [1, 2], 'k2': [3, 4], 'k3': [5, 6]}\n",
            "{'k1': 1, 'k2': 'Group', 'k3': [1, 2, 3, 4]}\n"
          ]
        }
      ],
      "source": [
        "# Declaring dictionaries\n",
        "dictNumbers = {'k1':1,'k2':2}\n",
        "print(dictNumbers)\n",
        "dictLetters = {'k1':'a','k2':'b','k3':'c'}\n",
        "print(dictLetters)\n",
        "dictLists = {'k1':[1,2],'k2':[3,4],'k3':[5,6]}\n",
        "print(dictLists)\n",
        "dictMixed = {'k1':1,'k2':'Group','k3':[1,2,3,4]}\n",
        "print(dictMixed)"
      ]
    },
    {
      "cell_type": "code",
      "execution_count": null,
      "metadata": {
        "id": "XVxY6TvdT3Wq"
      },
      "outputs": [],
      "source": [
        "# Declaring booleans\n",
        "true = True\n",
        "false = False"
      ]
    },
    {
      "cell_type": "code",
      "execution_count": null,
      "metadata": {
        "id": "EkoVYvtxV1HE"
      },
      "outputs": [],
      "source": [
        "# Declaring nulls\n",
        "null = None"
      ]
    },
    {
      "cell_type": "code",
      "execution_count": null,
      "metadata": {
        "colab": {
          "base_uri": "https://localhost:8080/",
          "height": 68
        },
        "id": "ePanpd5_yuvs",
        "outputId": "4a0c8cab-9b55-420d-be10-10e9f697b6e6"
      },
      "outputs": [
        {
          "name": "stdout",
          "output_type": "stream",
          "text": [
            "var1 = 9\n",
            "var2 = Sara\n",
            "var3 = [13, 17, 23]\n"
          ]
        }
      ],
      "source": [
        "# Multiple assignments\n",
        "var1, var2, var3 = (5 + 4), \"Sara\", [13, 17, 23]\n",
        "print(\"var1 =\", var1 )\n",
        "print(\"var2 =\", var2 )\n",
        "print(\"var3 =\", var3 )"
      ]
    },
    {
      "cell_type": "code",
      "execution_count": null,
      "metadata": {
        "colab": {
          "base_uri": "https://localhost:8080/",
          "height": 51
        },
        "id": "ng7xqXo1y1OK",
        "outputId": "ebfc7d29-5054-4cd7-ac7f-4fb6033d1345"
      },
      "outputs": [
        {
          "name": "stdout",
          "output_type": "stream",
          "text": [
            "var1 = Sara\n",
            "var2 = 9\n"
          ]
        }
      ],
      "source": [
        "# Exchanging the values of two variables\n",
        "var1, var2 = var2, var1 \n",
        "\n",
        "print(\"var1 =\", var1)\n",
        "print(\"var2 =\", var2)"
      ]
    },
    {
      "cell_type": "code",
      "execution_count": null,
      "metadata": {
        "colab": {
          "base_uri": "https://localhost:8080/",
          "height": 34
        },
        "id": "lzYcQo3xy3X1",
        "outputId": "9725b47c-c6e2-4f5e-88e3-3ee80fe4b2d9"
      },
      "outputs": [
        {
          "name": "stdout",
          "output_type": "stream",
          "text": [
            "('Sara', 9, [13, 17, 23])\n"
          ]
        }
      ],
      "source": [
        "# Create a tuple with variables\n",
        "tupleVars = var1, var2, var3\n",
        "print(tupleVars)"
      ]
    },
    {
      "cell_type": "code",
      "execution_count": null,
      "metadata": {
        "colab": {
          "base_uri": "https://localhost:8080/",
          "height": 34
        },
        "id": "xmychpyTzbpH",
        "outputId": "86d544da-da77-4151-96ae-9e680620f00a"
      },
      "outputs": [
        {
          "name": "stdout",
          "output_type": "stream",
          "text": [
            "x1 = Sara x2 = 9 x3 = [13, 17, 23]\n"
          ]
        }
      ],
      "source": [
        "# Assign values from a tuple to variables\n",
        "x1, x2, x3 = tupleVars\n",
        "\n",
        "print(\"x1 =\", x1, \"x2 =\", x2, \"x3 =\", x3)"
      ]
    },
    {
      "cell_type": "markdown",
      "metadata": {
        "id": "4oeZ9NOVSrCp"
      },
      "source": [
        "### Determining data types\n",
        "\n",
        "To know the data type of a variable, use the method `type`:\n",
        "\n",
        "```python\n",
        "type(x)\n",
        "```"
      ]
    },
    {
      "cell_type": "code",
      "execution_count": null,
      "metadata": {
        "colab": {
          "base_uri": "https://localhost:8080/",
          "height": 51
        },
        "id": "3YewJ_loS_Ia",
        "outputId": "66b6d095-f7a6-4709-8c81-2eeb09dd0be9"
      },
      "outputs": [
        {
          "name": "stdout",
          "output_type": "stream",
          "text": [
            "2\n"
          ]
        },
        {
          "data": {
            "text/plain": [
              "int"
            ]
          },
          "execution_count": 81,
          "metadata": {},
          "output_type": "execute_result"
        }
      ],
      "source": [
        "print(x)\n",
        "type(x)"
      ]
    },
    {
      "cell_type": "code",
      "execution_count": null,
      "metadata": {
        "colab": {
          "base_uri": "https://localhost:8080/",
          "height": 51
        },
        "id": "G-4cFZyOTCnn",
        "outputId": "0ab8ff11-d7b9-4207-ffe6-1baca79c6f44"
      },
      "outputs": [
        {
          "name": "stdout",
          "output_type": "stream",
          "text": [
            "2.5\n"
          ]
        },
        {
          "data": {
            "text/plain": [
              "float"
            ]
          },
          "execution_count": 82,
          "metadata": {},
          "output_type": "execute_result"
        }
      ],
      "source": [
        "print(y)\n",
        "type(y)"
      ]
    },
    {
      "cell_type": "code",
      "execution_count": null,
      "metadata": {
        "colab": {
          "base_uri": "https://localhost:8080/",
          "height": 34
        },
        "id": "2f0ISTp8TMQ9",
        "outputId": "8cdff5f8-e1b6-49f4-dae2-39de465a04ac"
      },
      "outputs": [
        {
          "data": {
            "text/plain": [
              "str"
            ]
          },
          "execution_count": 83,
          "metadata": {},
          "output_type": "execute_result"
        }
      ],
      "source": [
        "type(message)"
      ]
    },
    {
      "cell_type": "code",
      "execution_count": null,
      "metadata": {
        "id": "EElQqkS5TDrA",
        "outputId": "63ab0118-1b40-4b5c-d130-6413838f6447"
      },
      "outputs": [
        {
          "data": {
            "text/plain": [
              "list"
            ]
          },
          "execution_count": 84,
          "metadata": {},
          "output_type": "execute_result"
        }
      ],
      "source": [
        "type(numberList)"
      ]
    },
    {
      "cell_type": "code",
      "execution_count": null,
      "metadata": {
        "id": "h3vxZvYHTFv0",
        "outputId": "73547a18-ffab-4816-9361-08d72ab5a1ad"
      },
      "outputs": [
        {
          "data": {
            "text/plain": [
              "tuple"
            ]
          },
          "execution_count": 85,
          "metadata": {},
          "output_type": "execute_result"
        }
      ],
      "source": [
        "type(listsTuple)"
      ]
    },
    {
      "cell_type": "code",
      "execution_count": null,
      "metadata": {
        "id": "htItuqj8THum",
        "outputId": "f7ec4ed2-0349-4e2b-df8c-3694267d3360"
      },
      "outputs": [
        {
          "data": {
            "text/plain": [
              "dict"
            ]
          },
          "execution_count": 86,
          "metadata": {},
          "output_type": "execute_result"
        }
      ],
      "source": [
        "type(dictLetters)"
      ]
    },
    {
      "cell_type": "code",
      "execution_count": null,
      "metadata": {
        "id": "Nw0sMJ5jTKP5",
        "outputId": "69fe0ce9-e082-4acd-89af-ab128ad98de7"
      },
      "outputs": [
        {
          "data": {
            "text/plain": [
              "bool"
            ]
          },
          "execution_count": 87,
          "metadata": {},
          "output_type": "execute_result"
        }
      ],
      "source": [
        "type(true)"
      ]
    },
    {
      "cell_type": "code",
      "execution_count": null,
      "metadata": {
        "id": "KAUkTMqlT_zw",
        "outputId": "433d4633-092f-4af0-a530-674d4f40b612"
      },
      "outputs": [
        {
          "data": {
            "text/plain": [
              "NoneType"
            ]
          },
          "execution_count": 88,
          "metadata": {},
          "output_type": "execute_result"
        }
      ],
      "source": [
        "type(null)"
      ]
    },
    {
      "cell_type": "markdown",
      "metadata": {
        "id": "J5FsgGFohHt2"
      },
      "source": [
        "## Basic operations"
      ]
    },
    {
      "cell_type": "markdown",
      "metadata": {
        "id": "QXww97zYV-tL"
      },
      "source": [
        "### Arithmetic operators\n",
        "\n",
        "**Arithmetic operators** allow you to perform calculations using Python variables:\n",
        "\n",
        "| Symbol | Task Performed |\n",
        "|----|---|\n",
        "| +  | Addition |\n",
        "| -  | Subtraction |\n",
        "| /  | division |\n",
        "| %  | mod |\n",
        "| *  | multiplication |\n",
        "| //  | floor division |\n",
        "| **  | exponentiation |\n",
        "| ~   | negation |\n",
        "\n",
        "Python will perform the operations differently depending on the type of data:"
      ]
    },
    {
      "cell_type": "code",
      "execution_count": null,
      "metadata": {
        "colab": {
          "base_uri": "https://localhost:8080/",
          "height": 51
        },
        "id": "SIaOq1g5V407",
        "outputId": "584bb407-01c7-4110-fcbc-d1bac49362ce"
      },
      "outputs": [
        {
          "name": "stdout",
          "output_type": "stream",
          "text": [
            "10\n",
            "0\n"
          ]
        }
      ],
      "source": [
        "# Addition and subtraction\n",
        "print(5 + 5)\n",
        "print(5 - 5)"
      ]
    },
    {
      "cell_type": "code",
      "execution_count": null,
      "metadata": {
        "colab": {
          "base_uri": "https://localhost:8080/",
          "height": 51
        },
        "id": "lMphMtfOWXRj",
        "outputId": "9302294d-e8be-4980-e8f5-d35e514ddac0"
      },
      "outputs": [
        {
          "name": "stdout",
          "output_type": "stream",
          "text": [
            "15\n",
            "5.0\n"
          ]
        }
      ],
      "source": [
        "# Multiplication and division\n",
        "print(3 * 5)\n",
        "print(10 / 2)"
      ]
    },
    {
      "cell_type": "code",
      "execution_count": null,
      "metadata": {
        "colab": {
          "base_uri": "https://localhost:8080/",
          "height": 51
        },
        "id": "JthtByGXWZRX",
        "outputId": "e1553f1d-7e72-469d-b559-d76ba7dafc6a"
      },
      "outputs": [
        {
          "name": "stdout",
          "output_type": "stream",
          "text": [
            "16\n",
            "4\n"
          ]
        }
      ],
      "source": [
        "# Exponentiation and modulus\n",
        "print(4 ** 2)\n",
        "print(18 % 7)"
      ]
    },
    {
      "cell_type": "code",
      "execution_count": null,
      "metadata": {
        "colab": {
          "base_uri": "https://localhost:8080/",
          "height": 34
        },
        "id": "QYBATeTNWbry",
        "outputId": "8cf5867d-c5e4-45e5-aae3-fdf8599a18b6"
      },
      "outputs": [
        {
          "name": "stdout",
          "output_type": "stream",
          "text": [
            "Hello Group\n"
          ]
        }
      ],
      "source": [
        "# String operations\n",
        "message1 = \"Hello \"\n",
        "message2 = \"Group\"\n",
        "print(message1 + message2)"
      ]
    },
    {
      "cell_type": "code",
      "execution_count": null,
      "metadata": {
        "colab": {
          "base_uri": "https://localhost:8080/",
          "height": 34
        },
        "id": "Fo_L_km3vFk2",
        "outputId": "909160dc-d77e-4c33-e441-46a287a18bd4"
      },
      "outputs": [
        {
          "name": "stdout",
          "output_type": "stream",
          "text": [
            "Hello Hello \n"
          ]
        }
      ],
      "source": [
        "# String operations\n",
        "message1 = \"Hello \"\n",
        "print(message1*2)"
      ]
    },
    {
      "cell_type": "code",
      "execution_count": null,
      "metadata": {
        "colab": {
          "base_uri": "https://localhost:8080/",
          "height": 34
        },
        "id": "okHLoEPPe_6_",
        "outputId": "4162e9d0-abe5-4bea-a6f2-e0875d64d8d5"
      },
      "outputs": [
        {
          "name": "stdout",
          "output_type": "stream",
          "text": [
            "1\n"
          ]
        }
      ],
      "source": [
        "print(true + false)"
      ]
    },
    {
      "cell_type": "code",
      "execution_count": null,
      "metadata": {
        "colab": {
          "base_uri": "https://localhost:8080/",
          "height": 34
        },
        "id": "JfFkdW_QfGI1",
        "outputId": "d74e1ae6-cd75-41f7-9bf9-345197784b05"
      },
      "outputs": [
        {
          "name": "stdout",
          "output_type": "stream",
          "text": [
            "3.5\n"
          ]
        }
      ],
      "source": [
        "print(1 + 2.5)"
      ]
    },
    {
      "cell_type": "markdown",
      "metadata": {
        "id": "ewhJQUd1xIzk"
      },
      "source": [
        "### Relational operators\n",
        "\n",
        "**Relational operators** allow you to compare Python variables:\n",
        "\n",
        "| Symbol | Task Performed |\n",
        "|----|---|\n",
        "| == | True, if values are equal |\n",
        "| is | True, if identical, i.e. the **same** object  |\n",
        "| !=  | True, if not equal to |\n",
        "| < | less than |\n",
        "| > | greater than |\n",
        "| <=  | less than or equal to |\n",
        "| >=  | greater than or equal to |\n",
        "| in  | test pertenence to a collection (list, set, dictionary) |"
      ]
    },
    {
      "cell_type": "code",
      "execution_count": null,
      "metadata": {
        "colab": {
          "base_uri": "https://localhost:8080/",
          "height": 34
        },
        "id": "DX7u7Bwuvqju",
        "outputId": "6f025068-eb3a-4676-fd2a-7e8bdd44005a"
      },
      "outputs": [
        {
          "data": {
            "text/plain": [
              "True"
            ]
          },
          "execution_count": 96,
          "metadata": {},
          "output_type": "execute_result"
        }
      ],
      "source": [
        "x == 2"
      ]
    },
    {
      "cell_type": "code",
      "execution_count": null,
      "metadata": {
        "colab": {
          "base_uri": "https://localhost:8080/",
          "height": 34
        },
        "id": "_ePQNuWsxVyn",
        "outputId": "477d9b0a-446a-406b-d17b-eca01f5b5e3c"
      },
      "outputs": [
        {
          "data": {
            "text/plain": [
              "False"
            ]
          },
          "execution_count": 97,
          "metadata": {},
          "output_type": "execute_result"
        }
      ],
      "source": [
        "x != 2"
      ]
    },
    {
      "cell_type": "code",
      "execution_count": null,
      "metadata": {
        "colab": {
          "base_uri": "https://localhost:8080/",
          "height": 34
        },
        "id": "o0sZeceWxe1q",
        "outputId": "45ad226b-1e72-4068-e7ad-1c20d485dda4"
      },
      "outputs": [
        {
          "data": {
            "text/plain": [
              "True"
            ]
          },
          "execution_count": 98,
          "metadata": {},
          "output_type": "execute_result"
        }
      ],
      "source": [
        "x > 1"
      ]
    },
    {
      "cell_type": "code",
      "execution_count": null,
      "metadata": {
        "colab": {
          "base_uri": "https://localhost:8080/",
          "height": 34
        },
        "id": "OMzRVPLCU0tY",
        "outputId": "9eaa568c-ea4c-425a-f022-7de2365e5d3f"
      },
      "outputs": [
        {
          "data": {
            "text/plain": [
              "[1, 2, 3]"
            ]
          },
          "execution_count": 99,
          "metadata": {},
          "output_type": "execute_result"
        }
      ],
      "source": [
        "numberList"
      ]
    },
    {
      "cell_type": "code",
      "execution_count": null,
      "metadata": {
        "colab": {
          "base_uri": "https://localhost:8080/",
          "height": 34
        },
        "id": "lSxRyT8yxhXl",
        "outputId": "7c012eef-f16f-44dc-f12b-d976f0edcd46"
      },
      "outputs": [
        {
          "data": {
            "text/plain": [
              "True"
            ]
          },
          "execution_count": 100,
          "metadata": {},
          "output_type": "execute_result"
        }
      ],
      "source": [
        "numberList == [1,2,3]"
      ]
    },
    {
      "cell_type": "code",
      "execution_count": null,
      "metadata": {
        "colab": {
          "base_uri": "https://localhost:8080/",
          "height": 34
        },
        "id": "7xANJ8z0yGiT",
        "outputId": "495ecfee-2f83-4f4c-af8b-63f98a9f08ec"
      },
      "outputs": [
        {
          "data": {
            "text/plain": [
              "False"
            ]
          },
          "execution_count": 101,
          "metadata": {},
          "output_type": "execute_result"
        }
      ],
      "source": [
        "numberList is [1,2,3]"
      ]
    },
    {
      "cell_type": "code",
      "execution_count": null,
      "metadata": {
        "id": "jYTQcIrQyNPO"
      },
      "outputs": [],
      "source": [
        "object = numberList"
      ]
    },
    {
      "cell_type": "code",
      "execution_count": null,
      "metadata": {
        "colab": {
          "base_uri": "https://localhost:8080/",
          "height": 34
        },
        "id": "tcfMl4DkySoV",
        "outputId": "9467ec21-acee-45f1-812e-14dfb5b82317"
      },
      "outputs": [
        {
          "data": {
            "text/plain": [
              "True"
            ]
          },
          "execution_count": 103,
          "metadata": {},
          "output_type": "execute_result"
        }
      ],
      "source": [
        "numberList is object"
      ]
    },
    {
      "cell_type": "code",
      "execution_count": null,
      "metadata": {
        "colab": {
          "base_uri": "https://localhost:8080/",
          "height": 34
        },
        "id": "d0ukty2gyU_g",
        "outputId": "34a0ae05-b2b0-49af-834d-433b4649ca7d"
      },
      "outputs": [
        {
          "data": {
            "text/plain": [
              "True"
            ]
          },
          "execution_count": 104,
          "metadata": {},
          "output_type": "execute_result"
        }
      ],
      "source": [
        "null is None"
      ]
    },
    {
      "cell_type": "markdown",
      "metadata": {
        "id": "6wJlJ4wbzryr"
      },
      "source": [
        "### Conversions between types\n",
        "\n",
        "Python allows you to explicitly convert variables of one type to another. This is called **casting**:\n",
        "\n",
        "```python\n",
        "int(<variable>)\n",
        "float(<variable>)\n",
        "str(<variable>)\n",
        "bool(<variable>)\n",
        "list(<variable>)\n",
        "tuple(<variable>)\n",
        "dict(<variable>)\n",
        "```"
      ]
    },
    {
      "cell_type": "code",
      "execution_count": null,
      "metadata": {
        "id": "ISaM6FKyyZ3M",
        "outputId": "8f385518-ef44-495f-9090-a4878fe1d42e"
      },
      "outputs": [
        {
          "name": "stdout",
          "output_type": "stream",
          "text": [
            "['a', 'b', 'c']\n",
            "<class 'list'>\n",
            "('a', 'b', 'c')\n",
            "<class 'tuple'>\n"
          ]
        }
      ],
      "source": [
        "# Convert List to Tuple\n",
        "print(stringList)\n",
        "print(type(stringList))\n",
        "print(tuple(stringList))\n",
        "print(type(tuple(stringList)))"
      ]
    },
    {
      "cell_type": "code",
      "execution_count": null,
      "metadata": {
        "id": "UBIJVcId0wW8",
        "outputId": "61fbba4d-cc45-493b-9cc7-e3b1059ceae7"
      },
      "outputs": [
        {
          "name": "stdout",
          "output_type": "stream",
          "text": [
            "123\n",
            "<class 'str'>\n",
            "123\n",
            "<class 'int'>\n"
          ]
        }
      ],
      "source": [
        "# Convert from string to integer\n",
        "print('123')\n",
        "print(type('123'))\n",
        "print(int('123'))\n",
        "print(type(int('123')))"
      ]
    },
    {
      "cell_type": "code",
      "execution_count": null,
      "metadata": {
        "id": "BRiLSVzzgjtY",
        "outputId": "d92ef84e-5a17-4c06-8682-7da07c152188"
      },
      "outputs": [
        {
          "ename": "ValueError",
          "evalue": "could not convert string to float: 'Juan'",
          "output_type": "error",
          "traceback": [
            "\u001b[0;31m---------------------------------------------------------------------------\u001b[0m",
            "\u001b[0;31mValueError\u001b[0m                                Traceback (most recent call last)",
            "\u001b[0;32m<ipython-input-107-ccff7ace794c>\u001b[0m in \u001b[0;36m<module>\u001b[0;34m\u001b[0m\n\u001b[0;32m----> 1\u001b[0;31m \u001b[0mfloat\u001b[0m\u001b[0;34m(\u001b[0m\u001b[0;34m\"Juan\"\u001b[0m\u001b[0;34m)\u001b[0m\u001b[0;34m\u001b[0m\u001b[0;34m\u001b[0m\u001b[0m\n\u001b[0m",
            "\u001b[0;31mValueError\u001b[0m: could not convert string to float: 'Juan'"
          ]
        }
      ],
      "source": [
        "float(\"Juan\")"
      ]
    },
    {
      "cell_type": "markdown",
      "metadata": {
        "id": "DVpFtIj32mmw"
      },
      "source": [
        "## Built-in functions\n",
        "\n",
        "A **function** is a block of code with an associated name, which receives zero or more arguments as input, follows a series of instructions, and returns a value or performs a task.\n",
        "\n",
        "Python has a series of [built-in](https://docs.python.org/3/library/functions.html) functions integrated into the language. Examples of these functions were given just earlier, such as converting data types and printing."
      ]
    },
    {
      "cell_type": "code",
      "execution_count": null,
      "metadata": {
        "colab": {
          "base_uri": "https://localhost:8080/",
          "height": 51
        },
        "id": "Qb6bB4_w2HyO",
        "outputId": "e35afa3d-6eaa-401b-c030-e78b792622b7"
      },
      "outputs": [
        {
          "name": "stdout",
          "output_type": "stream",
          "text": [
            "Please enter an integer:502\n",
            "252004\n"
          ]
        }
      ],
      "source": [
        "# Enter value by keyboard\n",
        "input1 = int(input(\"Please enter an integer:\"))\n",
        "print(input1**2)"
      ]
    },
    {
      "cell_type": "code",
      "execution_count": null,
      "metadata": {
        "id": "woZoZTWq4Gtt",
        "outputId": "ad9ea34b-fb6e-4eb2-e6a2-48b018382b5e"
      },
      "outputs": [
        {
          "name": "stdout",
          "output_type": "stream",
          "text": [
            "1\n"
          ]
        }
      ],
      "source": [
        "# Absolute value of a number\n",
        "print(abs(-1))"
      ]
    },
    {
      "cell_type": "markdown",
      "metadata": {
        "id": "N40jkNVI4YmN"
      },
      "source": [
        "### Exercise 1:\n",
        "\n",
        "Run the next 3 cells and infer what the built-in `round()` function does with one or two arguments."
      ]
    },
    {
      "cell_type": "code",
      "execution_count": null,
      "metadata": {
        "colab": {
          "base_uri": "https://localhost:8080/",
          "height": 34
        },
        "id": "VkyhSmMk4RaH",
        "outputId": "bcb6adb5-cf49-4303-a914-71fadb129f5b"
      },
      "outputs": [
        {
          "data": {
            "text/plain": [
              "-5"
            ]
          },
          "execution_count": 110,
          "metadata": {},
          "output_type": "execute_result"
        }
      ],
      "source": [
        "round( -4.78 )"
      ]
    },
    {
      "cell_type": "code",
      "execution_count": null,
      "metadata": {
        "colab": {
          "base_uri": "https://localhost:8080/",
          "height": 34
        },
        "id": "WapQDqox4cHj",
        "outputId": "4ee46eff-3a4e-4586-a797-40e6e7bcd4e8"
      },
      "outputs": [
        {
          "data": {
            "text/plain": [
              "-3.1415"
            ]
          },
          "execution_count": 111,
          "metadata": {},
          "output_type": "execute_result"
        }
      ],
      "source": [
        "round( -3.141516297, 4 )"
      ]
    },
    {
      "cell_type": "code",
      "execution_count": null,
      "metadata": {
        "colab": {
          "base_uri": "https://localhost:8080/",
          "height": 34
        },
        "id": "-U7anAw14hOp",
        "outputId": "ee758d0c-e0bb-4d72-f3cb-e367dc84b716"
      },
      "outputs": [
        {
          "data": {
            "text/plain": [
              "-3.14152"
            ]
          },
          "execution_count": 112,
          "metadata": {},
          "output_type": "execute_result"
        }
      ],
      "source": [
        "round( -3.141516297, 5 )"
      ]
    },
    {
      "cell_type": "markdown",
      "metadata": {
        "id": "08Nk8EON4nI-"
      },
      "source": [
        "### Exercise 2:\n",
        "\n",
        "\n",
        "From the [built-in](https://docs.python.org/3/library/functions.html) page, read up on how to use the `min()` and `max()` functions. Then:\n",
        "\n",
        "- Create a list with the values 42, 17 and 68\n",
        "- Using the `min()` function, print the minimum value\n",
        "- Using the `max()` function, print the maximum value"
      ]
    },
    {
      "cell_type": "code",
      "execution_count": null,
      "metadata": {
        "id": "Be4ueHtS48L9"
      },
      "outputs": [],
      "source": [
        "# Your code ..."
      ]
    },
    {
      "cell_type": "markdown",
      "metadata": {
        "id": "8EcYyyUg5sje"
      },
      "source": [
        "### Additional help\n",
        "\n",
        "Python has the `help()` and `?` operators, which return a description of the function we wish to know more about:"
      ]
    },
    {
      "cell_type": "code",
      "execution_count": null,
      "metadata": {
        "id": "FhI6URox5r1C"
      },
      "outputs": [],
      "source": [
        "#help(range)"
      ]
    },
    {
      "cell_type": "code",
      "execution_count": null,
      "metadata": {
        "id": "NwiBPFNL4htU"
      },
      "outputs": [],
      "source": [
        "?range"
      ]
    },
    {
      "cell_type": "markdown",
      "metadata": {
        "id": "LVu8VIk46X8P"
      },
      "source": [
        "### Exercise 3:\n",
        "\n",
        "Use the built-in `range()` function and pass the parameters `(1, 100, 5)` to it, then convert the result to a list and print it. What is the result?"
      ]
    },
    {
      "cell_type": "code",
      "execution_count": null,
      "metadata": {
        "id": "VH9a6FPw6Q5o"
      },
      "outputs": [],
      "source": [
        "# Your code ..."
      ]
    },
    {
      "cell_type": "markdown",
      "metadata": {
        "id": "zr-8Z7B6hHt6"
      },
      "source": [
        "## Variables deep-dive"
      ]
    },
    {
      "cell_type": "markdown",
      "metadata": {
        "id": "Q8gb4Oeu64PR"
      },
      "source": [
        "### Handling strings\n",
        "\n",
        "**IMPORTANT:** Strings can be defined with either a double quote (\"...\") or a single quote ('...'), but the two syntaxes do exactly the same thing!"
      ]
    },
    {
      "cell_type": "code",
      "execution_count": null,
      "metadata": {
        "id": "jSLgU0z66-zg",
        "outputId": "11c7e20d-0444-42c6-af37-d4b21abd54b1"
      },
      "outputs": [
        {
          "data": {
            "text/plain": [
              "True"
            ]
          },
          "execution_count": 113,
          "metadata": {},
          "output_type": "execute_result"
        }
      ],
      "source": [
        "'Juan' == \"Juan\""
      ]
    },
    {
      "cell_type": "code",
      "execution_count": null,
      "metadata": {
        "id": "GKPmUo9t7BGL",
        "outputId": "5a6d950c-34fb-4596-8137-b777eb10f475"
      },
      "outputs": [
        {
          "data": {
            "text/plain": [
              "True"
            ]
          },
          "execution_count": 114,
          "metadata": {},
          "output_type": "execute_result"
        }
      ],
      "source": [
        "'Juan said: \"Yeah\"' == \"Juan said: \\\"Yeah\\\"\""
      ]
    },
    {
      "cell_type": "code",
      "execution_count": null,
      "metadata": {
        "id": "JBC5jESk7Cg5",
        "outputId": "01b8b34b-f3a6-414d-8ee0-1639a7e4fd77"
      },
      "outputs": [
        {
          "data": {
            "text/plain": [
              "True"
            ]
          },
          "execution_count": 115,
          "metadata": {},
          "output_type": "execute_result"
        }
      ],
      "source": [
        "\"Juan's sisters\" == 'Juan\\'s sisters' "
      ]
    },
    {
      "cell_type": "code",
      "execution_count": null,
      "metadata": {
        "colab": {
          "base_uri": "https://localhost:8080/",
          "height": 34
        },
        "id": "AecDLAtz7EaW",
        "outputId": "cbe36f6e-cdbc-4876-c66f-e6dc2e3040fa"
      },
      "outputs": [
        {
          "data": {
            "text/plain": [
              "'I feel 😄'"
            ]
          },
          "execution_count": 116,
          "metadata": {},
          "output_type": "execute_result"
        }
      ],
      "source": [
        "'I feel \\U0001F604'"
      ]
    },
    {
      "cell_type": "markdown",
      "metadata": {
        "id": "q2HaBEgu7Q09"
      },
      "source": [
        "#### String interpolation\n",
        "\n",
        "The easiest way to dynamically insert variables into strings is through string interpolation. The syntax is `f \"....{var1}...{var2}\"`."
      ]
    },
    {
      "cell_type": "code",
      "execution_count": null,
      "metadata": {
        "colab": {
          "base_uri": "https://localhost:8080/",
          "height": 34
        },
        "id": "XvtpEddD7N34",
        "outputId": "d892b44b-e06f-4088-fc19-29ad250ac6d8"
      },
      "outputs": [
        {
          "data": {
            "text/plain": [
              "'Juan is 1.7 meters tall and has 2 brothers and sisters'"
            ]
          },
          "execution_count": 117,
          "metadata": {},
          "output_type": "execute_result"
        }
      ],
      "source": [
        "juans_height = 1.70\n",
        "num_siblings = 2 \n",
        "\n",
        "f\"Juan is {juans_height} meters tall and has {num_siblings} brothers and sisters\""
      ]
    },
    {
      "cell_type": "markdown",
      "metadata": {
        "id": "aR8X5EiE7coN"
      },
      "source": [
        "Precision can also be specified with the syntax `... {var:.#f} ...`, where `#` is the number of decimal digits."
      ]
    },
    {
      "cell_type": "code",
      "execution_count": null,
      "metadata": {
        "colab": {
          "base_uri": "https://localhost:8080/",
          "height": 34
        },
        "id": "MYGFxfZw7GIg",
        "outputId": "661b22c7-dfd5-46a5-f198-8a3c07f13e04"
      },
      "outputs": [
        {
          "data": {
            "text/plain": [
              "'Juan is 1.70 meters tall'"
            ]
          },
          "execution_count": 118,
          "metadata": {},
          "output_type": "execute_result"
        }
      ],
      "source": [
        "f\"Juan is {juans_height:.2f} meters tall\""
      ]
    },
    {
      "cell_type": "code",
      "execution_count": null,
      "metadata": {
        "colab": {
          "base_uri": "https://localhost:8080/",
          "height": 34
        },
        "id": "kd7aEh247fiA",
        "outputId": "63b08bc5-9b1a-422d-f147-2466f2432a47"
      },
      "outputs": [
        {
          "data": {
            "text/plain": [
              "'Juan is 10 cm taller than Luisa'"
            ]
          },
          "execution_count": 119,
          "metadata": {},
          "output_type": "execute_result"
        }
      ],
      "source": [
        "luisas_height = 1.60\n",
        "f\"Juan is { round( (juans_height - luisas_height)* 100 )  } cm taller than Luisa\""
      ]
    },
    {
      "cell_type": "code",
      "execution_count": null,
      "metadata": {
        "id": "LQZPEbML8jE1",
        "outputId": "baf41752-1274-45ab-a8a4-eb7bddb97ac8"
      },
      "outputs": [
        {
          "data": {
            "text/plain": [
              "'Juan is 1.7 meters tall and has 2 brothers and sisters'"
            ]
          },
          "execution_count": 120,
          "metadata": {},
          "output_type": "execute_result"
        }
      ],
      "source": [
        "\"Juan is {jh} meters tall and has {ns} brothers and sisters\".format( jh= juans_height, ns=num_siblings  )"
      ]
    },
    {
      "cell_type": "markdown",
      "metadata": {
        "id": "MaDxbMSBhHt-"
      },
      "source": [
        "The following gives the same output, although is not as efficient:"
      ]
    },
    {
      "cell_type": "code",
      "execution_count": null,
      "metadata": {
        "id": "TBunBtXjUsoR",
        "outputId": "fc9dbac2-a69c-4a05-a14a-2088f810f14e"
      },
      "outputs": [
        {
          "data": {
            "text/plain": [
              "'Juan is 1.7 meters tall and has 2 brothers and sisters'"
            ]
          },
          "execution_count": 121,
          "metadata": {},
          "output_type": "execute_result"
        }
      ],
      "source": [
        "\"Juan is \" + str(juans_height) + \" meters tall and has \" + str(num_siblings) + \" brothers and sisters\" "
      ]
    },
    {
      "cell_type": "markdown",
      "metadata": {
        "id": "moIWuEuSVDeY"
      },
      "source": [
        "A string can also contain special codes like newline (`\\n`) and tab (`\\t`):"
      ]
    },
    {
      "cell_type": "code",
      "execution_count": null,
      "metadata": {
        "colab": {
          "base_uri": "https://localhost:8080/",
          "height": 68
        },
        "id": "muMtTOvCUyTA",
        "outputId": "f614deed-e362-49b5-cf9e-3245abc77378"
      },
      "outputs": [
        {
          "name": "stdout",
          "output_type": "stream",
          "text": [
            "Juan is 1.7 meters tall\n",
            "\tand has 2 brothers\n",
            "and sisters\n"
          ]
        }
      ],
      "source": [
        "a_str = f\"Juan is {juans_height} meters tall\\n\\tand has {num_siblings} brothers\\nand sisters\"\n",
        "print( a_str )"
      ]
    },
    {
      "cell_type": "markdown",
      "metadata": {
        "id": "ogKJg_EnV6Rz"
      },
      "source": [
        "#### String indexing\n",
        "\n",
        "Python strings are character strings, and each character resides in an index starting at $0$ (for the first character) and ending at $ length -1 $ (for the last character).\n",
        "\n",
        "|G|r|o|u|p|\n",
        "|-|-|-|-|-|\n",
        "|0|1|2|3|4|\n",
        "|-|-|-|-|-|\n",
        "|-5|-4|-3|-2|-1|\n"
      ]
    },
    {
      "cell_type": "code",
      "execution_count": null,
      "metadata": {
        "id": "eH2_X2f_VHb_"
      },
      "outputs": [],
      "source": [
        "phrase = \"Juan's height u\""
      ]
    },
    {
      "cell_type": "code",
      "execution_count": null,
      "metadata": {
        "colab": {
          "base_uri": "https://localhost:8080/",
          "height": 51
        },
        "id": "NxDyPy2eX-c3",
        "outputId": "abfdb4de-a441-46f9-8d5d-f0e7e9f7c565"
      },
      "outputs": [
        {
          "name": "stdout",
          "output_type": "stream",
          "text": [
            "First character:  J\n",
            "Last character:  u\n"
          ]
        }
      ],
      "source": [
        "print(\"First character: \", phrase[0])\n",
        "print(\"Last character: \", phrase[-1])"
      ]
    },
    {
      "cell_type": "code",
      "execution_count": null,
      "metadata": {
        "id": "anXi-2fLYBA7",
        "outputId": "1d808852-97a7-4fa5-a487-c6de0ea4d41c"
      },
      "outputs": [
        {
          "name": "stdout",
          "output_type": "stream",
          "text": [
            "<class 'str'>\n"
          ]
        }
      ],
      "source": [
        "print(type(phrase[0]))"
      ]
    },
    {
      "cell_type": "markdown",
      "metadata": {
        "id": "qrpLrpeZYUvH"
      },
      "source": [
        "Strings are immutable:"
      ]
    },
    {
      "cell_type": "code",
      "execution_count": null,
      "metadata": {
        "colab": {
          "base_uri": "https://localhost:8080/",
          "height": 164
        },
        "id": "9uvqrUN7YPk2",
        "outputId": "67d91726-3d38-416a-fa64-765f4874b778"
      },
      "outputs": [
        {
          "ename": "TypeError",
          "evalue": "'str' object does not support item assignment",
          "output_type": "error",
          "traceback": [
            "\u001b[0;31m---------------------------------------------------------------------------\u001b[0m",
            "\u001b[0;31mTypeError\u001b[0m                                 Traceback (most recent call last)",
            "\u001b[0;32m<ipython-input-126-26f205e85bae>\u001b[0m in \u001b[0;36m<module>\u001b[0;34m\u001b[0m\n\u001b[0;32m----> 1\u001b[0;31m \u001b[0mphrase\u001b[0m\u001b[0;34m[\u001b[0m\u001b[0;36m1\u001b[0m\u001b[0;34m]\u001b[0m \u001b[0;34m=\u001b[0m \u001b[0;34m'o'\u001b[0m\u001b[0;34m\u001b[0m\u001b[0;34m\u001b[0m\u001b[0m\n\u001b[0m",
            "\u001b[0;31mTypeError\u001b[0m: 'str' object does not support item assignment"
          ]
        }
      ],
      "source": [
        "phrase[1] = 'o'"
      ]
    },
    {
      "cell_type": "markdown",
      "metadata": {
        "id": "Qgn2BDHPZSlV"
      },
      "source": [
        "If you want to change the value of a character in a string, you must use the proper functions of the `str` object:"
      ]
    },
    {
      "cell_type": "code",
      "execution_count": null,
      "metadata": {
        "colab": {
          "base_uri": "https://localhost:8080/",
          "height": 34
        },
        "id": "vz3CFTw0ZR4l",
        "outputId": "862fd43c-8f1c-47d2-9656-16e0664824a5"
      },
      "outputs": [
        {
          "data": {
            "text/plain": [
              "\"Joan's height o\""
            ]
          },
          "execution_count": 127,
          "metadata": {},
          "output_type": "execute_result"
        }
      ],
      "source": [
        "str.replace(phrase,'u','o')"
      ]
    },
    {
      "cell_type": "code",
      "execution_count": null,
      "metadata": {
        "colab": {
          "base_uri": "https://localhost:8080/",
          "height": 34
        },
        "id": "SwFs43R4XEb3",
        "outputId": "de50029b-b3b5-4216-e60b-fc2dc3791c66"
      },
      "outputs": [
        {
          "data": {
            "text/plain": [
              "\"Juan's height u\""
            ]
          },
          "execution_count": 128,
          "metadata": {},
          "output_type": "execute_result"
        }
      ],
      "source": [
        "phrase"
      ]
    },
    {
      "cell_type": "code",
      "execution_count": null,
      "metadata": {
        "id": "jQRoC1ccuaPO",
        "outputId": "493aace9-3c9a-4e21-d6c5-17e105d5d202"
      },
      "outputs": [
        {
          "name": "stdout",
          "output_type": "stream",
          "text": [
            "Joan's height o\n"
          ]
        }
      ],
      "source": [
        "phrase = str.replace(phrase,'u','o')\n",
        "print(phrase)"
      ]
    },
    {
      "cell_type": "markdown",
      "metadata": {
        "id": "-NR8eEZuZ8CI"
      },
      "source": [
        "If you want to know the size of the character string, use the `len(<string>)` method:"
      ]
    },
    {
      "cell_type": "code",
      "execution_count": null,
      "metadata": {
        "colab": {
          "base_uri": "https://localhost:8080/",
          "height": 34
        },
        "id": "R-DN26BbYaKe",
        "outputId": "a8bfb67e-0f92-4ce7-ebe9-4e24e829c1b4"
      },
      "outputs": [
        {
          "data": {
            "text/plain": [
              "15"
            ]
          },
          "execution_count": 130,
          "metadata": {},
          "output_type": "execute_result"
        }
      ],
      "source": [
        "len(phrase)"
      ]
    },
    {
      "cell_type": "markdown",
      "metadata": {
        "id": "dRYVXYPbg-Up"
      },
      "source": [
        "If you want to know if a character is in a character's string, use the `in` operator."
      ]
    },
    {
      "cell_type": "code",
      "execution_count": null,
      "metadata": {
        "colab": {
          "base_uri": "https://localhost:8080/",
          "height": 34
        },
        "id": "Em3epH4FgyuK",
        "outputId": "20da3387-9e29-4b81-c52a-49f8a12b6b26"
      },
      "outputs": [
        {
          "data": {
            "text/plain": [
              "True"
            ]
          },
          "execution_count": 131,
          "metadata": {},
          "output_type": "execute_result"
        }
      ],
      "source": [
        "'a' in phrase"
      ]
    },
    {
      "cell_type": "markdown",
      "metadata": {
        "id": "2ExiuuVDbAjU"
      },
      "source": [
        "#### String slicing\n",
        "\n",
        "**Slicing** in Python is a powerful way to extract sub-parts of a string, lists, and tuples:\n",
        "\n",
        "```\n",
        "str[start:end]\n",
        "````\n",
        "\n",
        "`start` specifies where the sub-string starts, and `end` where it ends (excluding the element at the `end` index).\n",
        "\n",
        "|G|r|o|u|p|\n",
        "|-|-|-|-|-|\n",
        "|0|1|2|3|4|\n",
        "\n",
        "```python\n",
        "word = \"Group\"\n",
        "print(word[0:2])\n",
        "```\n",
        "|G|r|\n",
        "|-|-|\n",
        "|0|1|\n"
      ]
    },
    {
      "cell_type": "code",
      "execution_count": null,
      "metadata": {
        "colab": {
          "base_uri": "https://localhost:8080/",
          "height": 34
        },
        "id": "bYxBWAfha9JH",
        "outputId": "cb3a424e-af3c-49f0-d15e-de9fe303f8eb"
      },
      "outputs": [
        {
          "name": "stdout",
          "output_type": "stream",
          "text": [
            "Gr\n"
          ]
        }
      ],
      "source": [
        "word = \"Group\"\n",
        "print(word[0:2])"
      ]
    },
    {
      "cell_type": "code",
      "execution_count": null,
      "metadata": {
        "colab": {
          "base_uri": "https://localhost:8080/",
          "height": 34
        },
        "id": "RC9_OuVYaDfS",
        "outputId": "a1e8be74-6e98-4d4e-bee5-852512439f9e"
      },
      "outputs": [
        {
          "name": "stdout",
          "output_type": "stream",
          "text": [
            "Grou\n"
          ]
        }
      ],
      "source": [
        "# Sub-string from starting position, 4 characters.\n",
        "print(word[0:4])"
      ]
    },
    {
      "cell_type": "code",
      "execution_count": null,
      "metadata": {
        "colab": {
          "base_uri": "https://localhost:8080/",
          "height": 34
        },
        "id": "TvEA0WgEcbwD",
        "outputId": "312ba4f0-420a-4387-cc98-7ceae8b41ae9"
      },
      "outputs": [
        {
          "name": "stdout",
          "output_type": "stream",
          "text": [
            "Grou\n"
          ]
        }
      ],
      "source": [
        "# Exactly the same as above, only 0 is the implicit starting index\n",
        "print(word[:4])"
      ]
    },
    {
      "cell_type": "code",
      "execution_count": null,
      "metadata": {
        "colab": {
          "base_uri": "https://localhost:8080/",
          "height": 34
        },
        "id": "_BaUosZ4df_C",
        "outputId": "fffd2596-81ed-4b24-cf08-0ea9868379c1"
      },
      "outputs": [
        {
          "name": "stdout",
          "output_type": "stream",
          "text": [
            "p\n"
          ]
        }
      ],
      "source": [
        "# Substring from the fourth character to the end\n",
        "print(word[4:])"
      ]
    },
    {
      "cell_type": "code",
      "execution_count": null,
      "metadata": {
        "id": "HhjF7fNzfYSD",
        "outputId": "69ac8c17-9cb3-4657-ed7c-1ecb80ba96df"
      },
      "outputs": [
        {
          "name": "stdout",
          "output_type": "stream",
          "text": [
            "rou\n"
          ]
        }
      ],
      "source": [
        "# Substring from character at position 1 to character at position 4\n",
        "print(word[1:4])"
      ]
    },
    {
      "cell_type": "code",
      "execution_count": null,
      "metadata": {
        "colab": {
          "base_uri": "https://localhost:8080/",
          "height": 34
        },
        "id": "dHhDxLfNfnMP",
        "outputId": "f30fdce0-bb0d-449b-c278-06acad8c4ee3"
      },
      "outputs": [
        {
          "name": "stdout",
          "output_type": "stream",
          "text": [
            "oup\n"
          ]
        }
      ],
      "source": [
        "# Substring with negative index, -1 is the final implicit index.\n",
        "print(word[-3:])"
      ]
    },
    {
      "cell_type": "code",
      "execution_count": null,
      "metadata": {
        "colab": {
          "base_uri": "https://localhost:8080/",
          "height": 34
        },
        "id": "_43uhB74fwah",
        "outputId": "4e634737-a7b7-4888-9876-11a34aed55d0"
      },
      "outputs": [
        {
          "name": "stdout",
          "output_type": "stream",
          "text": [
            "rou\n"
          ]
        }
      ],
      "source": [
        "# Substring with negative index\n",
        "print(word[-4:-1])"
      ]
    },
    {
      "cell_type": "markdown",
      "metadata": {
        "id": "7aZp14WQgk-b"
      },
      "source": [
        "### List management\n",
        "\n",
        "There are also a number of things we can do with lists:"
      ]
    },
    {
      "cell_type": "code",
      "execution_count": null,
      "metadata": {
        "id": "rJfiHrfOhdOI"
      },
      "outputs": [],
      "source": [
        "list = [1,2.5,'Group',[1,2],10,'Group']"
      ]
    },
    {
      "cell_type": "code",
      "execution_count": null,
      "metadata": {
        "id": "Eqkpt_OehqHd",
        "outputId": "29cd75d1-ad51-4857-f067-af1f4f671960"
      },
      "outputs": [
        {
          "name": "stdout",
          "output_type": "stream",
          "text": [
            "First item in the list:  1\n",
            "Last item in the list:  Group\n"
          ]
        }
      ],
      "source": [
        "print(\"First item in the list: \",list[0])\n",
        "print(\"Last item in the list: \",list[-1])"
      ]
    },
    {
      "cell_type": "code",
      "execution_count": null,
      "metadata": {
        "id": "hrQ2yMfjh-Le",
        "outputId": "a9bce8bc-3e8f-411d-9ebe-f7704bdb6bd5"
      },
      "outputs": [
        {
          "name": "stdout",
          "output_type": "stream",
          "text": [
            "[1, 2]\n"
          ]
        }
      ],
      "source": [
        "# Get the element from position 3\n",
        "print(list[3])"
      ]
    },
    {
      "cell_type": "markdown",
      "metadata": {
        "id": "2K5o5O7aiOXq"
      },
      "source": [
        "If position 3 is a list, then we can access the elements of said list as follows:"
      ]
    },
    {
      "cell_type": "code",
      "execution_count": null,
      "metadata": {
        "colab": {
          "base_uri": "https://localhost:8080/",
          "height": 34
        },
        "id": "vZZHIxiCiKF-",
        "outputId": "de65ce3f-b7a9-425f-dbd9-b5d41b0a9d73"
      },
      "outputs": [
        {
          "name": "stdout",
          "output_type": "stream",
          "text": [
            "2\n"
          ]
        }
      ],
      "source": [
        "# Get element of position 3, get element 1 of this list\n",
        "print(list[3][1])"
      ]
    },
    {
      "cell_type": "code",
      "execution_count": null,
      "metadata": {
        "colab": {
          "base_uri": "https://localhost:8080/",
          "height": 34
        },
        "id": "UUduKW-ZiNa0",
        "outputId": "677bfcce-8425-4a0f-c148-ce016b05b264"
      },
      "outputs": [
        {
          "name": "stdout",
          "output_type": "stream",
          "text": [
            "[2.5, 'Group']\n"
          ]
        }
      ],
      "source": [
        "# Get the elements from position 1 to 3\n",
        "print(list[1:3])"
      ]
    },
    {
      "cell_type": "code",
      "execution_count": null,
      "metadata": {
        "colab": {
          "base_uri": "https://localhost:8080/",
          "height": 34
        },
        "id": "K56Tf3SDiv9D",
        "outputId": "70c55514-820f-4027-acfc-5a1a2fea5f7c"
      },
      "outputs": [
        {
          "name": "stdout",
          "output_type": "stream",
          "text": [
            "[1, 2.5, 'Group', [1, 2], 10, 'Group', 'New']\n"
          ]
        }
      ],
      "source": [
        "# Add an item to the list\n",
        "list.append('New')\n",
        "print(list)"
      ]
    },
    {
      "cell_type": "code",
      "execution_count": null,
      "metadata": {
        "colab": {
          "base_uri": "https://localhost:8080/",
          "height": 34
        },
        "id": "jL7rmUmEjQf3",
        "outputId": "31c5c5a4-2374-4e41-d45b-63fa02f0de19"
      },
      "outputs": [
        {
          "name": "stdout",
          "output_type": "stream",
          "text": [
            "[1, 2.5, 'Group', [1, 2], 10, 'Group', 'New', 'Element', 45]\n"
          ]
        }
      ],
      "source": [
        "# Extend allows adding elements but when adding a list each element of this is added as one more element within the other list\n",
        "list.extend(['Element',45])\n",
        "print(list)"
      ]
    },
    {
      "cell_type": "code",
      "execution_count": null,
      "metadata": {
        "colab": {
          "base_uri": "https://localhost:8080/",
          "height": 34
        },
        "id": "l9PyPRKsAJOZ",
        "outputId": "91a3f904-addc-4bd5-eda4-c638093060cf"
      },
      "outputs": [
        {
          "name": "stdout",
          "output_type": "stream",
          "text": [
            "[1, 2.5, 'Group', 1, [1, 2], 10, 'Group', 'New', 'Element', 45]\n"
          ]
        }
      ],
      "source": [
        "# Insert an element at the given position\n",
        "list.insert(3,1)\n",
        "print(list)"
      ]
    },
    {
      "cell_type": "code",
      "execution_count": null,
      "metadata": {
        "colab": {
          "base_uri": "https://localhost:8080/",
          "height": 34
        },
        "id": "oBzaPwCSjh9X",
        "outputId": "854dcf97-837b-4831-9cb1-3628a49824ab"
      },
      "outputs": [
        {
          "name": "stdout",
          "output_type": "stream",
          "text": [
            "[1, 2.5, 'Group', 1, [1, 2], 'Group', 'New', 'Element', 45]\n"
          ]
        }
      ],
      "source": [
        "# Remove an item from the list\n",
        "list.remove(10)\n",
        "print(list)"
      ]
    },
    {
      "cell_type": "code",
      "execution_count": null,
      "metadata": {
        "colab": {
          "base_uri": "https://localhost:8080/",
          "height": 34
        },
        "id": "PYAuUj1Ajrct",
        "outputId": "52995ba9-eb73-49b4-ebe5-137322b3e8c4"
      },
      "outputs": [
        {
          "name": "stdout",
          "output_type": "stream",
          "text": [
            "2\n"
          ]
        }
      ],
      "source": [
        "# Returns the index number of the element passed to it by parameter\n",
        "print(list.index('Group'))"
      ]
    },
    {
      "cell_type": "code",
      "execution_count": null,
      "metadata": {
        "colab": {
          "base_uri": "https://localhost:8080/",
          "height": 51
        },
        "id": "1aH6nX11AiWG",
        "outputId": "1d04ffd8-14ac-4131-a931-facdea40116f"
      },
      "outputs": [
        {
          "name": "stdout",
          "output_type": "stream",
          "text": [
            "Group\n",
            "[1, 2.5, 1, [1, 2], 'Group', 'New', 'Element', 45]\n"
          ]
        }
      ],
      "source": [
        "# Returns the element at the given position in the list and removes it\n",
        "print(list.pop(2))\n",
        "print(list)"
      ]
    },
    {
      "cell_type": "code",
      "execution_count": null,
      "metadata": {
        "colab": {
          "base_uri": "https://localhost:8080/",
          "height": 34
        },
        "id": "9R6HePjPkA-Q",
        "outputId": "5f32b332-e738-4d21-ae64-c1d4dda1677c"
      },
      "outputs": [
        {
          "name": "stdout",
          "output_type": "stream",
          "text": [
            "1\n"
          ]
        }
      ],
      "source": [
        "# Returns how many times an element of a list is repeated\n",
        "print(list.count('Group'))"
      ]
    },
    {
      "cell_type": "code",
      "execution_count": null,
      "metadata": {
        "colab": {
          "base_uri": "https://localhost:8080/",
          "height": 34
        },
        "id": "i3OWc52-kMZH",
        "outputId": "7b1cc1e1-0fc3-4723-ce07-4769370eb1f7"
      },
      "outputs": [
        {
          "name": "stdout",
          "output_type": "stream",
          "text": [
            "[45, 'Element', 'New', 'Group', [1, 2], 1, 2.5, 1]\n"
          ]
        }
      ],
      "source": [
        "# Invert the elements of a list\n",
        "list.reverse()\n",
        "print(list)"
      ]
    },
    {
      "cell_type": "code",
      "execution_count": null,
      "metadata": {
        "id": "djMAaRAay0cc",
        "outputId": "34330666-a4be-461d-d3ec-92ab5dce0637"
      },
      "outputs": [
        {
          "name": "stdout",
          "output_type": "stream",
          "text": [
            "Help on NoneType object:\n",
            "\n",
            "class NoneType(object)\n",
            " |  Methods defined here:\n",
            " |  \n",
            " |  __bool__(self, /)\n",
            " |      self != 0\n",
            " |  \n",
            " |  __new__(*args, **kwargs) from builtins.type\n",
            " |      Create and return a new object.  See help(type) for accurate signature.\n",
            " |  \n",
            " |  __repr__(self, /)\n",
            " |      Return repr(self).\n",
            "\n"
          ]
        }
      ],
      "source": [
        "help(list.reverse())"
      ]
    },
    {
      "cell_type": "code",
      "execution_count": null,
      "metadata": {
        "id": "svNMggBgCq6_",
        "outputId": "9b39a3d5-29d6-4421-a90f-14c534f317f0"
      },
      "outputs": [
        {
          "name": "stdout",
          "output_type": "stream",
          "text": [
            "[3, 2.5, 1, [1, 2], 'Group', 'New', 'Element', 45]\n"
          ]
        }
      ],
      "source": [
        "# Lists are mutable\n",
        "list[0] = 3\n",
        "print(list)"
      ]
    },
    {
      "cell_type": "code",
      "execution_count": null,
      "metadata": {
        "colab": {
          "base_uri": "https://localhost:8080/",
          "height": 34
        },
        "id": "1s6yNFss1HLM",
        "outputId": "e0e2ea77-b3d4-4ee4-a3f8-6349c7091f84"
      },
      "outputs": [
        {
          "data": {
            "text/plain": [
              "True"
            ]
          },
          "execution_count": 154,
          "metadata": {},
          "output_type": "execute_result"
        }
      ],
      "source": [
        "3 in list"
      ]
    },
    {
      "cell_type": "markdown",
      "metadata": {
        "id": "cww9WuV7Atw5"
      },
      "source": [
        "### Dictionary management\n",
        "\n",
        "Contrary to lists, dictionaries have no implicit order. They are created by putting their elements in braces (`{\"a\": \"Alicante\",\"b\": \"Barcelona\"}`). Keys are called the **words** and values the **definitions**. Logically, there cannot be two equivalent keys, but there can be two equal values:"
      ]
    },
    {
      "cell_type": "code",
      "execution_count": null,
      "metadata": {
        "colab": {
          "base_uri": "https://localhost:8080/",
          "height": 34
        },
        "id": "_fJ3dy5fAsw-",
        "outputId": "fa24ed95-c98e-4d38-a860-19ddd9567084"
      },
      "outputs": [
        {
          "name": "stdout",
          "output_type": "stream",
          "text": [
            "{'Pilot 1': 'Fernando Alonso', 'Pilot 2': 'Kimi Raikkonen', 'Pilot 3': 'Felipe Massa'}\n"
          ]
        }
      ],
      "source": [
        "dictionary = {'Pilot 1':'Fernando Alonso', \n",
        "               'Pilot 2':'Kimi Raikkonen', \n",
        "               'Pilot 3':'Felipe Massa'}\n",
        "print(dictionary)"
      ]
    },
    {
      "cell_type": "code",
      "execution_count": null,
      "metadata": {
        "colab": {
          "base_uri": "https://localhost:8080/",
          "height": 51
        },
        "id": "nKRs88CoCL8y",
        "outputId": "369a1741-3ec2-4376-817a-57410cefdd91"
      },
      "outputs": [
        {
          "name": "stdout",
          "output_type": "stream",
          "text": [
            "Fernando Alonso\n",
            "Fernando Alonso\n"
          ]
        }
      ],
      "source": [
        "# Returns the value that corresponds to the key entered\n",
        "print(dictionary.get('Pilot 1'))\n",
        "print(dictionary['Pilot 1'])"
      ]
    },
    {
      "cell_type": "code",
      "execution_count": null,
      "metadata": {
        "colab": {
          "base_uri": "https://localhost:8080/",
          "height": 51
        },
        "id": "7rore5CBCYmu",
        "outputId": "630dd299-73ab-4309-973a-33533f34b350"
      },
      "outputs": [
        {
          "name": "stdout",
          "output_type": "stream",
          "text": [
            "Fernando Alonso\n",
            "{'Pilot 2': 'Kimi Raikkonen', 'Pilot 3': 'Felipe Massa'}\n"
          ]
        }
      ],
      "source": [
        "# Returns the value that corresponds to the entered key, and then deletes the key and value\n",
        "print(dictionary.pop('Pilot 1'))\n",
        "print(dictionary)"
      ]
    },
    {
      "cell_type": "code",
      "execution_count": null,
      "metadata": {
        "colab": {
          "base_uri": "https://localhost:8080/",
          "height": 34
        },
        "id": "S6sRHQy-CmkT",
        "outputId": "ef547911-424c-4efa-b484-1b2aa3299b48"
      },
      "outputs": [
        {
          "name": "stdout",
          "output_type": "stream",
          "text": [
            "{'Pilot 2': 'Sebastian Vettel', 'Pilot 3': 'Felipe Massa', 'Pilot 4': 'Lewis Hamilton'}\n"
          ]
        }
      ],
      "source": [
        "# Updates the value of a certain key or creates it if it doesn't exist\n",
        "dictionary.update({'Pilot 4':'Lewis Hamilton'})\n",
        "dictionary.update({'Pilot 2':'Sebastian Vettel'})\n",
        "print(dictionary)"
      ]
    },
    {
      "cell_type": "code",
      "execution_count": null,
      "metadata": {
        "colab": {
          "base_uri": "https://localhost:8080/",
          "height": 34
        },
        "id": "0DONnb6b0V8G",
        "outputId": "d4a366ab-f37c-4edf-9a61-ea4a3555aaf7"
      },
      "outputs": [
        {
          "name": "stdout",
          "output_type": "stream",
          "text": [
            "{'Pilot 2': 'Sebastian Vettel', 'Pilot 3': 'Felipe Massa', 'Pilot 4': 'Lewis Hamilton', 'Pilot 5': 'Juan Perez'}\n"
          ]
        }
      ],
      "source": [
        "dictionary['Pilot 5'] = 'Juan Perez'\n",
        "print(dictionary)"
      ]
    },
    {
      "cell_type": "code",
      "execution_count": null,
      "metadata": {
        "colab": {
          "base_uri": "https://localhost:8080/",
          "height": 68
        },
        "id": "RpqEwTofC-hX",
        "outputId": "940e278b-8d05-4228-85d4-8ae5c6f3ef77"
      },
      "outputs": [
        {
          "name": "stdout",
          "output_type": "stream",
          "text": [
            "True\n",
            "False\n",
            "False\n"
          ]
        }
      ],
      "source": [
        "# \"key\" in dictionary: returns true (True) or false (False) if the key exists in the dictionary\n",
        "print (\"Pilot 2\" in dictionary)\n",
        "print (\"pilot 1\" in dictionary)\n",
        "print (\"Sebastian Vettel\" in dictionary)"
      ]
    },
    {
      "cell_type": "code",
      "execution_count": null,
      "metadata": {
        "colab": {
          "base_uri": "https://localhost:8080/",
          "height": 34
        },
        "id": "ZMddoLF0DOXe",
        "outputId": "c1a2f146-9e7d-49fb-f173-dcfc74000b38"
      },
      "outputs": [
        {
          "name": "stdout",
          "output_type": "stream",
          "text": [
            "True\n"
          ]
        }
      ],
      "source": [
        "# \"definition\" in dictionary.values (): returns true (True) or false (False) if the definition exists in the dictionary\n",
        "print (\"Sebastian Vettel\" in dictionary.values())"
      ]
    },
    {
      "cell_type": "code",
      "execution_count": null,
      "metadata": {
        "colab": {
          "base_uri": "https://localhost:8080/",
          "height": 34
        },
        "id": "yQFfmXyCDTAb",
        "outputId": "623e9376-7b4c-498f-93f6-b6401dae0f5d"
      },
      "outputs": [
        {
          "name": "stdout",
          "output_type": "stream",
          "text": [
            "{'Pilot 3': 'Felipe Massa', 'Pilot 4': 'Lewis Hamilton', 'Pilot 5': 'Juan Perez'}\n"
          ]
        }
      ],
      "source": [
        "# del dictionary['key']: Eliminates the value (and the key) associated with the indicated key.\n",
        "del dictionary['Pilot 2']\n",
        "print(dictionary)"
      ]
    },
    {
      "cell_type": "markdown",
      "metadata": {
        "id": "SGhcO1nd_7qa"
      },
      "source": [
        "### Tuples handling\n",
        "\n",
        "Tuples are immutable - once created, neither their content nor their size can be changed:"
      ]
    },
    {
      "cell_type": "code",
      "execution_count": null,
      "metadata": {
        "id": "0iID8f9fFr6r"
      },
      "outputs": [],
      "source": [
        "tuple1 = (1,2,3,4,5)\n",
        "tuple2 = (6,7,8,9,10)"
      ]
    },
    {
      "cell_type": "code",
      "execution_count": null,
      "metadata": {
        "id": "2YqtrLDNFxW4",
        "outputId": "ad437964-fd35-4427-d40b-ce47f3314e1c"
      },
      "outputs": [
        {
          "name": "stdout",
          "output_type": "stream",
          "text": [
            "(1, 2, 3, 4, 5, 6, 7, 8, 9, 10)\n"
          ]
        }
      ],
      "source": [
        "# Concatenate tuples\n",
        "tuple3 = tuple1 + tuple2\n",
        "print(tuple3)"
      ]
    },
    {
      "cell_type": "code",
      "execution_count": null,
      "metadata": {
        "id": "zBobFz2QF_LE",
        "outputId": "5b08b37f-0a22-4618-f873-da18bce90d6b"
      },
      "outputs": [
        {
          "name": "stdout",
          "output_type": "stream",
          "text": [
            "(1, 2, 3, 4, 5, 1, 2, 3, 4, 5, 1, 2, 3, 4, 5)\n"
          ]
        }
      ],
      "source": [
        "# Repeat tuples\n",
        "print(tuple1 * 3)"
      ]
    },
    {
      "cell_type": "code",
      "execution_count": null,
      "metadata": {
        "id": "sgAWbjg6GEbd",
        "outputId": "32dffbdc-3126-4d0b-a18c-ab31bc9cf624"
      },
      "outputs": [
        {
          "name": "stdout",
          "output_type": "stream",
          "text": [
            "False\n",
            "True\n"
          ]
        }
      ],
      "source": [
        "# Validate if an element is in the tuple\n",
        "print(7 in tuple1)\n",
        "print(7 in tuple2)"
      ]
    },
    {
      "cell_type": "code",
      "execution_count": null,
      "metadata": {
        "id": "cqgdN7jpGOEM",
        "outputId": "391009a1-fea3-45fe-cbe4-0b931434d07a"
      },
      "outputs": [
        {
          "name": "stdout",
          "output_type": "stream",
          "text": [
            "4\n"
          ]
        }
      ],
      "source": [
        "# Returns the index of the element\n",
        "print(tuple1.index(5))"
      ]
    },
    {
      "cell_type": "code",
      "execution_count": null,
      "metadata": {
        "id": "drA9XgaDGZHt",
        "outputId": "097bfeb8-87f1-4339-e67b-70be61323c41"
      },
      "outputs": [
        {
          "name": "stdout",
          "output_type": "stream",
          "text": [
            "4\n"
          ]
        }
      ],
      "source": [
        "# Returns how many times is a repeated element\n",
        "tuple4 = (65,67,5,67,34,76,67,231,98,67)\n",
        "print(tuple4.count(67))"
      ]
    },
    {
      "cell_type": "code",
      "execution_count": null,
      "metadata": {
        "id": "bI1ej2m4GqMW",
        "outputId": "1ce04bcf-213a-4958-b023-b1435b2f8e2f"
      },
      "outputs": [
        {
          "name": "stdout",
          "output_type": "stream",
          "text": [
            "34\n",
            "67\n",
            "(65, 67, 5, 67)\n",
            "(76, 67, 231, 98, 67)\n",
            "(34, 76, 67, 231)\n",
            "(67, 34, 76)\n"
          ]
        }
      ],
      "source": [
        "# Indexing\n",
        "print(tuple4[4])\n",
        "print(tuple4[-4])\n",
        "print(tuple4[:4])\n",
        "print(tuple4[5:])\n",
        "print(tuple4[-6:-2])\n",
        "print(tuple4[3:6])"
      ]
    },
    {
      "cell_type": "markdown",
      "metadata": {
        "id": "e091jzoIgnHz"
      },
      "source": [
        "## User-defined functions\n",
        "\n",
        "You can define your own functions in Python using the `def` statement:"
      ]
    },
    {
      "cell_type": "code",
      "execution_count": null,
      "metadata": {
        "id": "B-oMd4YVgh-3"
      },
      "outputs": [],
      "source": [
        "def myFunction():\n",
        "    print(\"Hello World\")"
      ]
    },
    {
      "cell_type": "code",
      "execution_count": null,
      "metadata": {
        "colab": {
          "base_uri": "https://localhost:8080/",
          "height": 34
        },
        "id": "EX3W5HRJgCGY",
        "outputId": "b3351e58-10af-4755-f163-263cdeb2efcd"
      },
      "outputs": [
        {
          "name": "stdout",
          "output_type": "stream",
          "text": [
            "Hello World\n"
          ]
        }
      ],
      "source": [
        "myFunction()"
      ]
    },
    {
      "cell_type": "code",
      "execution_count": null,
      "metadata": {
        "colab": {
          "base_uri": "https://localhost:8080/",
          "height": 51
        },
        "id": "nWFS9JEv2_88",
        "outputId": "b0a3bcbf-098b-438a-8669-6456e94dd1ce"
      },
      "outputs": [
        {
          "name": "stdout",
          "output_type": "stream",
          "text": [
            "Hello World\n",
            "None\n"
          ]
        }
      ],
      "source": [
        "output = myFunction()\n",
        "print(output)"
      ]
    },
    {
      "cell_type": "markdown",
      "metadata": {
        "id": "nt47tYe6lXk4"
      },
      "source": [
        "You'll notice that `myFunction()` doesn't give any output despite printing \"Hello World\". This is because it has not been instructed to **return** a value. This can be done using the `return` keyword, and the result can be assigned to a variable:"
      ]
    },
    {
      "cell_type": "code",
      "execution_count": null,
      "metadata": {
        "id": "aBZ2fGXslUKW"
      },
      "outputs": [],
      "source": [
        "def myFunction():\n",
        "    return \"Hello World\""
      ]
    },
    {
      "cell_type": "code",
      "execution_count": null,
      "metadata": {
        "colab": {
          "base_uri": "https://localhost:8080/",
          "height": 51
        },
        "id": "iwUwBPdmln5G",
        "outputId": "8cea7d7e-31fa-492a-f091-48957d72081b"
      },
      "outputs": [
        {
          "name": "stdout",
          "output_type": "stream",
          "text": [
            "Hello World\n",
            "Hello World\n"
          ]
        }
      ],
      "source": [
        "message = myFunction()\n",
        "print(message)\n",
        "print(myFunction())"
      ]
    },
    {
      "cell_type": "markdown",
      "metadata": {
        "id": "UnADeiPAlvbJ"
      },
      "source": [
        "Functions can also receive input parameters in order to do their job:"
      ]
    },
    {
      "cell_type": "code",
      "execution_count": null,
      "metadata": {
        "id": "Jkk_pRIGlr5R"
      },
      "outputs": [],
      "source": [
        "def myFunction(first_name, last_name):\n",
        "    return first_name + ' ' + last_name"
      ]
    },
    {
      "cell_type": "code",
      "execution_count": null,
      "metadata": {
        "id": "RHNUpJVPl-Ab",
        "outputId": "5f28b7c5-ec47-4521-cec9-3b942501f38f"
      },
      "outputs": [
        {
          "name": "stdout",
          "output_type": "stream",
          "text": [
            "Juan Perez\n"
          ]
        }
      ],
      "source": [
        "message = myFunction(\"Juan\", \"Perez\")\n",
        "print(message)"
      ]
    },
    {
      "cell_type": "markdown",
      "metadata": {
        "id": "som2cF3NoNNi"
      },
      "source": [
        "Furthermore, these input parameters can be given default values:"
      ]
    },
    {
      "cell_type": "code",
      "execution_count": null,
      "metadata": {
        "id": "ORPtW5HcoerO"
      },
      "outputs": [],
      "source": [
        "def myFunction(first_name, last_name, message = 'Hello'):\n",
        "    return message + ' ' + first_name + ' ' + last_name"
      ]
    },
    {
      "cell_type": "code",
      "execution_count": null,
      "metadata": {
        "colab": {
          "base_uri": "https://localhost:8080/",
          "height": 34
        },
        "id": "zDWgEwOOoh7_",
        "outputId": "bebbd3e6-6b24-41e4-8382-107bc0896b6d"
      },
      "outputs": [
        {
          "name": "stdout",
          "output_type": "stream",
          "text": [
            "Hello Juan Perez\n"
          ]
        }
      ],
      "source": [
        "message = myFunction(\"Juan\",\"Perez\")\n",
        "print(message)"
      ]
    },
    {
      "cell_type": "code",
      "execution_count": null,
      "metadata": {
        "colab": {
          "base_uri": "https://localhost:8080/",
          "height": 34
        },
        "id": "fSS2k2ZQojfM",
        "outputId": "e3e0bbba-42b3-4f3b-9bf6-9af66bc13874"
      },
      "outputs": [
        {
          "name": "stdout",
          "output_type": "stream",
          "text": [
            "Bye Juan Perez\n"
          ]
        }
      ],
      "source": [
        "message = myFunction(\"Juan\",\"Perez\",\"Bye\")\n",
        "print(message)"
      ]
    },
    {
      "cell_type": "markdown",
      "metadata": {
        "id": "hFTNODUAmD-v"
      },
      "source": [
        "### Exercise 4:\n",
        "\n",
        "Write a function that calculates a value according to the following formula:\n",
        "\n",
        "$Q = sqrt ((2 * C) / H)$\n",
        "\n",
        "where $C$ and $H$ are whole numbers. The function must return the value of $Q$.\n",
        "\n",
        "**Hint:** In Python you can import libraries or packages using `import`. For this exercise, we should important the math library `math`. To use the `sqrt` method, simply write `math.sqrt(<number>)`."
      ]
    },
    {
      "cell_type": "code",
      "execution_count": null,
      "metadata": {
        "id": "IPmk2xcim1s2"
      },
      "outputs": [],
      "source": [
        "# Your code ..."
      ]
    },
    {
      "cell_type": "markdown",
      "metadata": {
        "id": "MEZrtKFBo9D3"
      },
      "source": [
        "### Exercise 5:\n",
        "\n",
        "Write a function that calculates the area of a triangle:\n",
        "\n",
        "$Area = (Base * Height) / 2$\n",
        "\n",
        "where $Base$ and $Height$ are integers or real numbers. The function must return the value of $Area$."
      ]
    },
    {
      "cell_type": "code",
      "execution_count": null,
      "metadata": {
        "id": "zYVK465Oo8R2"
      },
      "outputs": [],
      "source": [
        "# Your code ..."
      ]
    },
    {
      "cell_type": "markdown",
      "metadata": {
        "id": "6d7bbtJhp4KL"
      },
      "source": [
        "### Exercise 6:\n",
        "\n",
        "Write a function that receives as a parameter an integer and a list, it must add the number raised to the cube to the list and return the list with the new element."
      ]
    },
    {
      "cell_type": "code",
      "execution_count": null,
      "metadata": {
        "id": "hal1dT42p1tC"
      },
      "outputs": [],
      "source": [
        "# Your code ..."
      ]
    },
    {
      "cell_type": "markdown",
      "metadata": {
        "id": "_BJi1dmXHe9e"
      },
      "source": [
        "## Sets in Python\n",
        "\n",
        "Python has a `set` data type which allows us to work with sets and perform set operations on these variables. A **set** is an unordered collection of *distinct* values (e.g. (1, 2, 3} is a set but {1, 1, 2} is not). It is defined in braces (`{}`) and elements are separated with commas.\n",
        "\n",
        "```python\n",
        "c = {1,2,3}\n",
        "```"
      ]
    },
    {
      "cell_type": "code",
      "execution_count": null,
      "metadata": {
        "id": "vH2b2v91HeGu"
      },
      "outputs": [],
      "source": [
        "# Defining sets\n",
        "c1 = {1, 2, 3, 4, 5, 6}\n",
        "c2 = {2, 4, 6, 8, 10}\n",
        "c3 = {1, 2, 3}\n",
        "c4 = {4, 5, 6}"
      ]
    },
    {
      "cell_type": "code",
      "execution_count": null,
      "metadata": {
        "colab": {
          "base_uri": "https://localhost:8080/",
          "height": 51
        },
        "id": "1ZN6ZH3zIGFu",
        "outputId": "8be07b31-6037-43c4-c99d-0b427e1a2dd1"
      },
      "outputs": [
        {
          "name": "stdout",
          "output_type": "stream",
          "text": [
            "{1, 2, 3, 4, 5, 6, 8, 10}\n",
            "{1, 2, 3, 4, 5, 6, 8, 10}\n"
          ]
        }
      ],
      "source": [
        "# Union of sets\n",
        "print(c1|c2)\n",
        "print(c1|c2|c3)"
      ]
    },
    {
      "cell_type": "code",
      "execution_count": null,
      "metadata": {
        "colab": {
          "base_uri": "https://localhost:8080/",
          "height": 34
        },
        "id": "06giFyw4IhSG",
        "outputId": "8e509237-5ad8-4e0e-b8ec-5ccf2675668c"
      },
      "outputs": [
        {
          "name": "stdout",
          "output_type": "stream",
          "text": [
            "{1, 2, 3, 4, 5, 6, 8, 10}\n"
          ]
        }
      ],
      "source": [
        "# The union can also be done with the method\n",
        "print(c1.union(c2))"
      ]
    },
    {
      "cell_type": "code",
      "execution_count": null,
      "metadata": {
        "colab": {
          "base_uri": "https://localhost:8080/",
          "height": 51
        },
        "id": "PU7yfesqIKnD",
        "outputId": "8cac85ac-ce15-4c5a-e200-3e9001a781b8"
      },
      "outputs": [
        {
          "name": "stdout",
          "output_type": "stream",
          "text": [
            "{2, 4, 6}\n",
            "set()\n"
          ]
        }
      ],
      "source": [
        "# Intersection of sets\n",
        "print(c1 & c2)\n",
        "print(c1 & c2 & c3 & c4)"
      ]
    },
    {
      "cell_type": "code",
      "execution_count": null,
      "metadata": {
        "colab": {
          "base_uri": "https://localhost:8080/",
          "height": 34
        },
        "id": "lBva9uaFIm7z",
        "outputId": "87d313b3-d43c-4402-bdde-01c00093d3aa"
      },
      "outputs": [
        {
          "name": "stdout",
          "output_type": "stream",
          "text": [
            "{2}\n"
          ]
        }
      ],
      "source": [
        "# The intersection can also be done with the method\n",
        "print(c1.intersection(c2, c3))"
      ]
    },
    {
      "cell_type": "code",
      "execution_count": null,
      "metadata": {
        "colab": {
          "base_uri": "https://localhost:8080/",
          "height": 34
        },
        "id": "yflsGQ9hIW9t",
        "outputId": "48045caa-1d79-45e2-a3f8-b6b5ec0a99ec"
      },
      "outputs": [
        {
          "name": "stdout",
          "output_type": "stream",
          "text": [
            "{1, 3, 5}\n"
          ]
        }
      ],
      "source": [
        "# Difference of sets\n",
        "print(c1 - c2)"
      ]
    },
    {
      "cell_type": "code",
      "execution_count": null,
      "metadata": {
        "colab": {
          "base_uri": "https://localhost:8080/",
          "height": 34
        },
        "id": "aEMq5n2MJAns",
        "outputId": "a48695f5-6042-4c25-c861-d563543213a6"
      },
      "outputs": [
        {
          "name": "stdout",
          "output_type": "stream",
          "text": [
            "{1, 3, 5}\n"
          ]
        }
      ],
      "source": [
        "# Difference of sets with the method\n",
        "print(c1.difference(c2))"
      ]
    },
    {
      "cell_type": "code",
      "execution_count": null,
      "metadata": {
        "colab": {
          "base_uri": "https://localhost:8080/",
          "height": 34
        },
        "id": "CF1rCOAXIbpC",
        "outputId": "bc1dbfda-7358-4cf2-956f-162bd6375496"
      },
      "outputs": [
        {
          "name": "stdout",
          "output_type": "stream",
          "text": [
            "{1, 3, 5, 8, 10}\n"
          ]
        }
      ],
      "source": [
        "# Exclusive union\n",
        "print(c1^c2)"
      ]
    },
    {
      "cell_type": "code",
      "execution_count": null,
      "metadata": {
        "colab": {
          "base_uri": "https://localhost:8080/",
          "height": 34
        },
        "id": "Z82kOAwuJHrr",
        "outputId": "3a463abd-51a9-4717-dbfb-c35ee612d111"
      },
      "outputs": [
        {
          "name": "stdout",
          "output_type": "stream",
          "text": [
            "{1, 3, 5, 8, 10}\n"
          ]
        }
      ],
      "source": [
        "# Exclusive union with the method\n",
        "print(c1.symmetric_difference(c2))"
      ]
    },
    {
      "cell_type": "code",
      "execution_count": null,
      "metadata": {
        "id": "jgiwzvtaAoNg",
        "outputId": "3e1d1ac6-fb16-43fd-d31a-63814081b7ca"
      },
      "outputs": [
        {
          "name": "stdout",
          "output_type": "stream",
          "text": [
            "no\n"
          ]
        }
      ],
      "source": [
        "z = 11\n",
        "if  z > 10 and z == 0 :\n",
        "    print(\"ok\")\n",
        "else:\n",
        "    print(\"no\")   "
      ]
    },
    {
      "cell_type": "code",
      "execution_count": null,
      "metadata": {
        "id": "e5IINCKi7bq0",
        "outputId": "4381a088-f3ef-4c04-84b7-035f442b4fa3"
      },
      "outputs": [
        {
          "name": "stdout",
          "output_type": "stream",
          "text": [
            "z is between -10 and 10 but not zero\n"
          ]
        }
      ],
      "source": [
        "z = -6\n",
        "if  z > 10 :   \n",
        "    print( \"This is big!!!\")\n",
        "elif z == 0 : \n",
        "    print( \"z is Zero!!!\")\n",
        "elif z > -10 : \n",
        "    print( \"z is between -10 and 10 but not zero\")\n",
        "else : \n",
        "    print( \"z is probably negative. Who knows... computers are weird...\")"
      ]
    }
  ],
  "metadata": {
    "colab": {
      "provenance": []
    },
    "kernelspec": {
      "display_name": "Python 3 (ipykernel)",
      "language": "python",
      "name": "python3"
    },
    "language_info": {
      "codemirror_mode": {
        "name": "ipython",
        "version": 3
      },
      "file_extension": ".py",
      "mimetype": "text/x-python",
      "name": "python",
      "nbconvert_exporter": "python",
      "pygments_lexer": "ipython3",
      "version": "3.9.7"
    }
  },
  "nbformat": 4,
  "nbformat_minor": 0
}