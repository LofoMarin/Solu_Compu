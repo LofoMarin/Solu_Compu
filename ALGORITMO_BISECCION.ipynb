{
  "nbformat": 4,
  "nbformat_minor": 0,
  "metadata": {
    "colab": {
      "provenance": []
    },
    "kernelspec": {
      "name": "python3",
      "display_name": "Python 3"
    },
    "language_info": {
      "name": "python"
    }
  },
  "cells": [
    {
      "cell_type": "markdown",
      "source": [
        "##Ejemplo\n",
        "\n",
        "Determinar el coeficiente de re\u0002sistencia c necesario para que un paracaidista de masa m = 68.1 kg tenga una velocidad de 40 m/s \n",
        "después de una caída libre de t = 10 s. Nota: La aceleración de la gravedad es de 9.81 m/s2\n"
      ],
      "metadata": {
        "id": "zk2H3OlN8e17"
      }
    },
    {
      "cell_type": "code",
      "source": [
        "from sympy.deprecated.class_registry import C\n",
        "\n",
        "import math as mt\n",
        "import sympy as sp\n",
        "import matplotlib.pyplot as plt\n",
        "\n",
        "def coef(c):\n",
        "  t = 10\n",
        "  g = 9.81\n",
        "  v = 40\n",
        "  m = 68.1\n",
        "\n",
        "  x = sp.symbols(\"C\")\n",
        "  exp = sp.exp(-(x/m)*t)\n",
        "  F = (((g*m)/x)*(1-exp))-v\n",
        "  f = F.subs(x,c)\n",
        "  return f\n",
        "\n"
      ],
      "metadata": {
        "id": "Ucr135S3fUoj"
      },
      "execution_count": null,
      "outputs": []
    },
    {
      "cell_type": "code",
      "source": [
        "n= 20  # intervalo que deseo observar\n",
        "for k in range (4,n+1,4):  \n",
        "  c=k\n",
        "  fc= coef(k)\n",
        "  print(\"El valor de C es:\", c)\n",
        "  print(\"El valor correspondiente de f(C) es:\", fc)\n",
        "  plt.plot(c,fc,\"mo\")\n",
        "plt.show()"
      ],
      "metadata": {
        "colab": {
          "base_uri": "https://localhost:8080/",
          "height": 439
        },
        "id": "esnv1S_4DabB",
        "outputId": "d27aaf21-a3ea-4e98-8bff-f9ba4084e5c2"
      },
      "execution_count": null,
      "outputs": [
        {
          "output_type": "stream",
          "name": "stdout",
          "text": [
            "El valor de C es: 4\n",
            "El valor correspondiente de f(C) es: 34.1904715666930\n",
            "El valor de C es: 8\n",
            "El valor correspondiente de f(C) es: 17.7122575374702\n",
            "El valor de C es: 12\n",
            "El valor correspondiente de f(C) es: 6.11394307592145\n",
            "El valor de C es: 16\n",
            "El valor correspondiente de f(C) es: -2.23026070605118\n",
            "El valor de C es: 20\n",
            "El valor correspondiente de f(C) es: -8.36838446536182\n"
          ]
        },
        {
          "output_type": "display_data",
          "data": {
            "text/plain": [
              "<Figure size 432x288 with 1 Axes>"
            ],
            "image/png": "[encoded data removed]"
          },
          "metadata": {
            "needs_background": "light"
          }
        }
      ]
    },
    {
      "cell_type": "code",
      "execution_count": null,
      "metadata": {
        "id": "-bIX8RVsL-jz",
        "colab": {
          "base_uri": "https://localhost:8080/"
        },
        "outputId": "9aedc84c-0de9-43a3-f140-2e4017819ce0"
      },
      "outputs": [
        {
          "output_type": "stream",
          "name": "stdout",
          "text": [
            "Escoja un valor menor que la raíz12\n",
            "Escoja un valor mayor que la raíz16\n",
            "x_inf= 12\n",
            "x_sup= 16\n",
            "Estimación número 4 de la raíz 14.0\n",
            "Demostración f(x_inf)f(x_aprox)= 9.85027368267151\n",
            "La raiz se encuentra dentro del subintervalo derecho.\n",
            "x_inf= 14.0\n",
            "x_sup= 16\n",
            "Estimación número 8 de la raíz 15.0\n",
            "Demostración f(x_inf)f(x_aprox)= -0.619406669373919\n",
            "La raíz se encuentra dentro del subintervalo izquierdo.\n",
            "x_inf= 14.0\n",
            "x_sup= 15.0\n",
            "Estimación número 12 de la raíz 14.5\n",
            "Demostración f(x_inf)f(x_aprox)= 0.956517280775615\n",
            "La raiz se encuentra dentro del subintervalo derecho.\n",
            "x_inf= 14.5\n",
            "x_sup= 15.0\n",
            "Estimación número 16 de la raíz 14.75\n",
            "Demostración f(x_inf)f(x_aprox)= 0.0592689112027841\n",
            "La raiz se encuentra dentro del subintervalo derecho.\n",
            "x_inf= 14.75\n",
            "x_sup= 15.0\n",
            "Estimación número 20 de la raíz 14.875\n",
            "Demostración f(x_inf)f(x_aprox)= -0.0143253286591702\n",
            "La raíz se encuentra dentro del subintervalo izquierdo.\n",
            "x_inf= 14.75\n",
            "x_sup= 14.875\n",
            "Estimación número 24 de la raíz 14.8125\n",
            "Demostración f(x_inf)f(x_aprox)= -0.00220935811699923\n",
            "La raíz se encuentra dentro del subintervalo izquierdo.\n",
            "x_inf= 14.75\n",
            "x_sup= 14.8125\n",
            "Estimación número 28 de la raíz 14.78125\n",
            "Demostración f(x_inf)f(x_aprox)= 0.00387088539581089\n",
            "La raiz se encuentra dentro del subintervalo derecho.\n"
          ]
        }
      ],
      "source": [
        "from sympy.core.sympify import kernS\n",
        "# Ahora tenemos que escoger valores que encierren la raiz\n",
        " \n",
        "x_inf=int(input(\"Escoja un valor menor que la raíz\")) #xl\n",
        "x_sup=int(input(\"Escoja un valor mayor que la raíz\"))  #xu\n",
        "\n",
        "error_nuevo=[]\n",
        "\n",
        "for i in range (4,30,4):\n",
        "\n",
        "  x_aprox=(x_inf+x_sup)/2 #el nuevo\n",
        "  error_nuevo.append(x_aprox)\n",
        "\n",
        "  print(\"x_inf=\", x_inf)\n",
        "  print(\"x_sup=\",x_sup)\n",
        "  print(\"Estimación número\", i, \"de la raíz\", x_aprox)\n",
        "\n",
        "  vf=coef(x_inf)*coef(x_aprox)\n",
        "  print(\"Demostración f(x_inf)f(x_aprox)=\",vf)\n",
        "\n",
        "  if vf<0:\n",
        "    print(\"La raíz se encuentra dentro del subintervalo izquierdo.\")\n",
        "    x_sup=x_aprox  \n",
        "  elif vf>0:\n",
        "    print(\"La raiz se encuentra dentro del subintervalo derecho.\")\n",
        "    x_inf=x_aprox\n",
        "  else:\n",
        "    x_aprox=x_aprox\n",
        "    print(\"La raiz se encuentra dentro del subintervalo.\")\n"
      ]
    },
    {
      "cell_type": "code",
      "source": [
        "from pickle import STOP\n",
        "from IPython.core import error\n",
        "error_est = float(input(\"Digite el valor del criterio de terminación para el error.\"))\n",
        "\n",
        "cont=0\n",
        "real=14.8011\n",
        "for k in error_nuevo:\n",
        "  error_rel=abs((k-real)/k)*100\n",
        "  cont=cont + 1\n",
        "  real = k\n",
        "  print(error_rel)\n",
        "  if error_rel>error_est:\n",
        "    print(\"Iteración\", cont)\n",
        "    print(\"Error relativo porcentual = \", error_rel)\n",
        "  elif error_rel<error_est:\n",
        "    print(\"El error relativo porcentual ahora cumple con el criterio de terminación (error estimado) en la iteración\", cont)\n",
        "\n",
        "  plt.plot(cont,error_rel,\"go\")\n",
        "plt.show()\n",
        "\n"
      ],
      "metadata": {
        "colab": {
          "base_uri": "https://localhost:8080/",
          "height": 612
        },
        "id": "u93VJRI2vW7j",
        "outputId": "cd05946e-deef-4298-eda7-779828f05065"
      },
      "execution_count": null,
      "outputs": [
        {
          "output_type": "stream",
          "name": "stdout",
          "text": [
            "Digite el valor del criterio de terminación para el error.0.5\n",
            "5.722142857142857\n",
            "Iteración 1\n",
            "Error relativo porcentual =  5.722142857142857\n",
            "6.666666666666667\n",
            "Iteración 2\n",
            "Error relativo porcentual =  6.666666666666667\n",
            "3.4482758620689653\n",
            "Iteración 3\n",
            "Error relativo porcentual =  3.4482758620689653\n",
            "1.694915254237288\n",
            "Iteración 4\n",
            "Error relativo porcentual =  1.694915254237288\n",
            "0.8403361344537815\n",
            "Iteración 5\n",
            "Error relativo porcentual =  0.8403361344537815\n",
            "0.42194092827004215\n",
            "El error relativo porcentual ahora cumple con el criterio de terminación (error estimado) en la iteración 6\n",
            "0.21141649048625794\n",
            "El error relativo porcentual ahora cumple con el criterio de terminación (error estimado) en la iteración 7\n"
          ]
        },
        {
          "output_type": "display_data",
          "data": {
            "text/plain": [
              "<Figure size 432x288 with 1 Axes>"
            ],
            "image/png": "[encoded data removed]"
          },
          "metadata": {
            "needs_background": "light"
          }
        }
      ]
    }
  ]
}