{
  "nbformat": 4,
  "nbformat_minor": 0,
  "metadata": {
    "colab": {
      "provenance": []
    },
    "kernelspec": {
      "name": "python3",
      "display_name": "Python 3"
    },
    "language_info": {
      "name": "python"
    }
  },
  "cells": [
    {
      "cell_type": "markdown",
      "source": [
        "# Punto 3"
      ],
      "metadata": {
        "id": "WEMX6xoO7628"
      }
    },
    {
      "cell_type": "code",
      "source": [
        "from IPython.display import display, Math\n",
        "import sympy as sp\n",
        "from sympy.parsing.sympy_parser import parse_expr\n",
        "import warnings\n",
        "warnings.filterwarnings('ignore')\n",
        "import matplotlib.pyplot as plt\n",
        "import sympy.plotting as pls\n",
        "import seaborn as sns"
      ],
      "metadata": {
        "id": "_iVspETi6BvN"
      },
      "execution_count": null,
      "outputs": []
    },
    {
      "cell_type": "code",
      "source": [
        "x = parse_expr('x')\n",
        "f = parse_expr('sin(x)')\n",
        "x0 = 0\n",
        "n = 6"
      ],
      "metadata": {
        "id": "vEJz0ukN75Bj"
      },
      "execution_count": null,
      "outputs": []
    },
    {
      "cell_type": "code",
      "source": [
        "p = sp.series(expr=f, x=x, x0=x0, n=n)\n",
        "display(Math(sp.latex(p)))"
      ],
      "metadata": {
        "colab": {
          "base_uri": "https://localhost:8080/",
          "height": 54
        },
        "id": "xdB6bykw8VF6",
        "outputId": "8cbc588b-850b-45c9-a3cc-dde893503e64"
      },
      "execution_count": null,
      "outputs": [
        {
          "output_type": "display_data",
          "data": {
            "text/plain": [
              "<IPython.core.display.Math object>"
            ],
            "text/latex": "$\\displaystyle 1 - \\frac{x^{2}}{6} + \\frac{x^{4}}{120} + O\\left(x^{6}\\right)$"
          },
          "metadata": {}
        }
      ]
    },
    {
      "cell_type": "code",
      "source": [
        "max_n = 8\n",
        "p = [sp.series(expr=f, x=x, x0=x0, n=ni).removeO() for ni in range(2, max_n)]\n",
        "p_latex = [sp.latex(pol) for pol in p]\n",
        "distLatex = [display(Math(q)) for q in p_latex]\n",
        "n_pol = len(p)"
      ],
      "metadata": {
        "colab": {
          "base_uri": "https://localhost:8080/",
          "height": 208
        },
        "id": "1xSKL-zf9JUL",
        "outputId": "b21b8d20-17c3-4a08-a609-61e44e7cae9d"
      },
      "execution_count": null,
      "outputs": [
        {
          "output_type": "display_data",
          "data": {
            "text/plain": [
              "<IPython.core.display.Math object>"
            ],
            "text/latex": "$\\displaystyle x$"
          },
          "metadata": {}
        },
        {
          "output_type": "display_data",
          "data": {
            "text/plain": [
              "<IPython.core.display.Math object>"
            ],
            "text/latex": "$\\displaystyle x$"
          },
          "metadata": {}
        },
        {
          "output_type": "display_data",
          "data": {
            "text/plain": [
              "<IPython.core.display.Math object>"
            ],
            "text/latex": "$\\displaystyle - \\frac{x^{3}}{6} + x$"
          },
          "metadata": {}
        },
        {
          "output_type": "display_data",
          "data": {
            "text/plain": [
              "<IPython.core.display.Math object>"
            ],
            "text/latex": "$\\displaystyle - \\frac{x^{3}}{6} + x$"
          },
          "metadata": {}
        },
        {
          "output_type": "display_data",
          "data": {
            "text/plain": [
              "<IPython.core.display.Math object>"
            ],
            "text/latex": "$\\displaystyle \\frac{x^{5}}{120} - \\frac{x^{3}}{6} + x$"
          },
          "metadata": {}
        },
        {
          "output_type": "display_data",
          "data": {
            "text/plain": [
              "<IPython.core.display.Math object>"
            ],
            "text/latex": "$\\displaystyle \\frac{x^{5}}{120} - \\frac{x^{3}}{6} + x$"
          },
          "metadata": {}
        }
      ]
    },
    {
      "cell_type": "code",
      "source": [
        "sns.set_style('whitegrid')\n",
        "cmap = sns.color_palette('flare')\n",
        "sns.palplot(cmap)"
      ],
      "metadata": {
        "colab": {
          "base_uri": "https://localhost:8080/",
          "height": 85
        },
        "id": "W8zImgtyDK1J",
        "outputId": "9b9f73a4-5814-455e-e6cc-2a4140d5f318"
      },
      "execution_count": null,
      "outputs": [
        {
          "output_type": "display_data",
          "data": {
            "text/plain": [
              "<Figure size 432x72 with 1 Axes>"
            ],
            "image/png": "[encoded data removed]"
          },
          "metadata": {}
        }
      ]
    },
    {
      "cell_type": "code",
      "source": [
        "fig = pls.plot(f,xlim=[(-5*3.14),(5*3.14)],ylim=[-10, 10], line_color='r', show=False)\n",
        "labs = ['$f(x)$']\n",
        "for n in range(n_pol):\n",
        "  c = cmap[n]\n",
        "  labs.append(f'$p_{n+1}(x)$')\n",
        "  fig.extend(pls.plot(p[n],xlim=[(-5*3.14),(5*3.14)],ylim=[-10,10], line_color=c, show=False))\n",
        "for n in range(n_pol+1): fig[n].label = labs[n]\n",
        "fig.legend = True\n",
        "fig.show()"
      ],
      "metadata": {
        "id": "dy5hyDusGNsx",
        "colab": {
          "base_uri": "https://localhost:8080/",
          "height": 297
        },
        "outputId": "c9214ec3-0e4f-434e-a677-0ca6f5dea707"
      },
      "execution_count": null,
      "outputs": [
        {
          "output_type": "display_data",
          "data": {
            "text/plain": [
              "<Figure size 432x288 with 1 Axes>"
            ],
            "image/png": "[encoded data removed]"
          },
          "metadata": {}
        }
      ]
    },
    {
      "cell_type": "markdown",
      "source": [
        "# Punto 1"
      ],
      "metadata": {
        "id": "sx74UYHcIH_P"
      }
    },
    {
      "cell_type": "code",
      "source": [
        "import numpy as np\n",
        "import math as mat"
      ],
      "metadata": {
        "id": "-TUhJCv5IKc_"
      },
      "execution_count": null,
      "outputs": []
    },
    {
      "cell_type": "code",
      "source": [
        "x = parse_expr('x')\n",
        "f = parse_expr('sinc(x)')\n",
        "x0 = 0\n",
        "n = 1"
      ],
      "metadata": {
        "id": "Es7qw_MlJ_CG"
      },
      "execution_count": null,
      "outputs": []
    },
    {
      "cell_type": "code",
      "source": [
        "p = sp.series(expr=f, x=x, x0=x0, n=n)\n",
        "display(Math(sp.latex(p)))"
      ],
      "metadata": {
        "colab": {
          "base_uri": "https://localhost:8080/",
          "height": 54
        },
        "id": "D9fwQ0WoxUH0",
        "outputId": "809ae6ce-4506-4194-bd43-147fc29d89a9"
      },
      "execution_count": null,
      "outputs": [
        {
          "output_type": "display_data",
          "data": {
            "text/plain": [
              "<IPython.core.display.Math object>"
            ],
            "text/latex": "$\\displaystyle 1 - \\frac{x^{2}}{6} + \\frac{x^{4}}{120} - \\frac{x^{6}}{5040} + \\frac{x^{8}}{362880} - \\frac{x^{10}}{39916800} + O\\left(x^{12}\\right)$"
          },
          "metadata": {}
        }
      ]
    },
    {
      "cell_type": "code",
      "source": [
        "max_n = 12\n",
        "p = [sp.series(expr=f, x=x, x0=x0, n=ni).removeO() for ni in range(2, max_n)]\n",
        "p_latex = [sp.latex(pol) for pol in p]\n",
        "distLatex = [display(Math(q)) for q in p_latex]\n",
        "n_pol = len(p)"
      ],
      "metadata": {
        "colab": {
          "base_uri": "https://localhost:8080/",
          "height": 369
        },
        "id": "mRXiPEEVxrw0",
        "outputId": "7cdbe4cf-d310-432d-fec2-69ee3a6fbece"
      },
      "execution_count": null,
      "outputs": [
        {
          "output_type": "display_data",
          "data": {
            "text/plain": [
              "<IPython.core.display.Math object>"
            ],
            "text/latex": "$\\displaystyle 1$"
          },
          "metadata": {}
        },
        {
          "output_type": "display_data",
          "data": {
            "text/plain": [
              "<IPython.core.display.Math object>"
            ],
            "text/latex": "$\\displaystyle 1 - \\frac{x^{2}}{6}$"
          },
          "metadata": {}
        },
        {
          "output_type": "display_data",
          "data": {
            "text/plain": [
              "<IPython.core.display.Math object>"
            ],
            "text/latex": "$\\displaystyle 1 - \\frac{x^{2}}{6}$"
          },
          "metadata": {}
        },
        {
          "output_type": "display_data",
          "data": {
            "text/plain": [
              "<IPython.core.display.Math object>"
            ],
            "text/latex": "$\\displaystyle \\frac{x^{4}}{120} - \\frac{x^{2}}{6} + 1$"
          },
          "metadata": {}
        },
        {
          "output_type": "display_data",
          "data": {
            "text/plain": [
              "<IPython.core.display.Math object>"
            ],
            "text/latex": "$\\displaystyle \\frac{x^{4}}{120} - \\frac{x^{2}}{6} + 1$"
          },
          "metadata": {}
        },
        {
          "output_type": "display_data",
          "data": {
            "text/plain": [
              "<IPython.core.display.Math object>"
            ],
            "text/latex": "$\\displaystyle - \\frac{x^{6}}{5040} + \\frac{x^{4}}{120} - \\frac{x^{2}}{6} + 1$"
          },
          "metadata": {}
        },
        {
          "output_type": "display_data",
          "data": {
            "text/plain": [
              "<IPython.core.display.Math object>"
            ],
            "text/latex": "$\\displaystyle - \\frac{x^{6}}{5040} + \\frac{x^{4}}{120} - \\frac{x^{2}}{6} + 1$"
          },
          "metadata": {}
        },
        {
          "output_type": "display_data",
          "data": {
            "text/plain": [
              "<IPython.core.display.Math object>"
            ],
            "text/latex": "$\\displaystyle \\frac{x^{8}}{362880} - \\frac{x^{6}}{5040} + \\frac{x^{4}}{120} - \\frac{x^{2}}{6} + 1$"
          },
          "metadata": {}
        },
        {
          "output_type": "display_data",
          "data": {
            "text/plain": [
              "<IPython.core.display.Math object>"
            ],
            "text/latex": "$\\displaystyle \\frac{x^{8}}{362880} - \\frac{x^{6}}{5040} + \\frac{x^{4}}{120} - \\frac{x^{2}}{6} + 1$"
          },
          "metadata": {}
        },
        {
          "output_type": "display_data",
          "data": {
            "text/plain": [
              "<IPython.core.display.Math object>"
            ],
            "text/latex": "$\\displaystyle - \\frac{x^{10}}{39916800} + \\frac{x^{8}}{362880} - \\frac{x^{6}}{5040} + \\frac{x^{4}}{120} - \\frac{x^{2}}{6} + 1$"
          },
          "metadata": {}
        }
      ]
    }
  ]
}