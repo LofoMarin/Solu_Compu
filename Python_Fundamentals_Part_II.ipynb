{
  "cells": [
    {
      "cell_type": "markdown",
      "metadata": {
        "id": "FCOmRmGSxJG_"
      },
      "source": [
        "# Python Fundamentals Part II"
      ]
    },
    {
      "cell_type": "markdown",
      "metadata": {
        "id": "Ath2U-5gChXX"
      },
      "source": [
        "## Control structures"
      ]
    },
    {
      "cell_type": "markdown",
      "metadata": {
        "id": "HiYG9LosZZJ4"
      },
      "source": [
        "### `if` statements\n",
        "\n",
        "`if` statements allow your program to take different paths depending on the run-time conditions. They generally come in `if...elif...else` blocks. The program will check each written condition in sequence and once one of them is true, will execute the code block associated with that condition:\n",
        "\n",
        "```python\n",
        "if condition1:\n",
        "   block1\n",
        "elif condition2:\n",
        "   block2\n",
        "else:\n",
        "   block3\n",
        "```\n",
        "\n",
        "Thus, if `condition1` were true, then `block1` would be executed. If it were false but `condition2` were true, then `block2` would be executed. Else, if both of the first two conditions were false, then `block3` would be executed."
      ]
    },
    {
      "cell_type": "markdown",
      "metadata": {
        "id": "ChxNNAw8Ca5f"
      },
      "source": [
        "### Exercise 1:\n",
        "\n",
        "What is the output if the following Python code is executed? Why?\n",
        "\n",
        "```python\n",
        "area = 10.0\n",
        "if(area < 9) :\n",
        "    print(\"small\")\n",
        "elif(area < 12) :\n",
        "    print(\"medium\")\n",
        "else :\n",
        "    print(\"large\")\n",
        "````\n",
        "\n",
        "a. small\n",
        "\n",
        "b. medium\n",
        "\n",
        "c. large\n",
        "\n",
        "d. Syntax error"
      ]
    },
    {
      "cell_type": "code",
      "execution_count": null,
      "metadata": {
        "id": "4Renzlf5rrYP",
        "outputId": "8818127c-1d9f-451c-8df0-4ae37266cab0"
      },
      "outputs": [
        {
          "name": "stdout",
          "output_type": "stream",
          "text": [
            "looking around in the bedroom.\n",
            "medium size, nice!\n"
          ]
        }
      ],
      "source": [
        "# Define variables\n",
        "room = \"bed\"\n",
        "size = 180.0\n",
        "\n",
        "# if-elif-else construct for room\n",
        "if room == \"bed\" :\n",
        "    print(\"looking around in the bedroom.\")\n",
        "elif room == \"kit\" :\n",
        "    print(\"looking around in the kitchen.\")\n",
        "else :\n",
        "    print(\"looking around elsewhere.\")\n",
        "\n",
        "# if statement for area\n",
        "if size > 180 :\n",
        "  print(\"big place!\")\n",
        "elif size > 100 :\n",
        "    print(\"medium size, nice!\")\n",
        "else: \n",
        "    print(\"pretty small.\")"
      ]
    },
    {
      "cell_type": "markdown",
      "metadata": {
        "id": "mT4OXWlDM_cC"
      },
      "source": [
        "### Exercise 2:\n",
        "\n",
        "Given an integer $n$, write code that does the following:\n",
        "\n",
        "1. If $n$ is odd, print 'Strange'\n",
        "2. If $n$ is even and is in the range inclusive of 2 to 5, print 'No Strange'\n",
        "3. If $n$ is even and is in the range inclusive of 6 to 20, print 'Strange'\n",
        "4. If $n$ is even and is larger than 20, print 'No Stranger'\n",
        "\n",
        "**Examples:**\n",
        "$n = 3$, $n$ is odd and odd numbers are of type 'Strange', so it should print 'Strange'.\n",
        "\n",
        "$n = 24$, $n$ is even and is greater than 20, even numbers greater than 20 are of type 'Not Strange', so it should print 'Not Strange'."
      ]
    },
    {
      "cell_type": "code",
      "execution_count": null,
      "metadata": {
        "id": "Ut_f2X0cPh9F",
        "outputId": "6c621257-4d8d-485d-92b5-275e5c9cb7c6"
      },
      "outputs": [
        {
          "name": "stdout",
          "output_type": "stream",
          "text": [
            "Input integer n. n = 4\n",
            "No Strange\n"
          ]
        }
      ],
      "source": [
        "n = int(input('Input integer n. n = '))\n",
        "if n%2==1:\n",
        "    print('Strange')\n",
        "elif n<=5:\n",
        "    print('No Strange')\n",
        "elif n<=20:\n",
        "    print('Strange')\n",
        "else:\n",
        "    print('No Stranger')"
      ]
    },
    {
      "cell_type": "markdown",
      "metadata": {
        "id": "u9wCsKUL7lnC"
      },
      "source": [
        "### `while` loops\n",
        "\n",
        "The `while` loop is executed as long as the given condition is true. If the condition is false even at the beginning, then the `while` block is not executed and the code immediately proceeds to the code following the block. By convention, in Python any nonzero integer value counts as true and 0 is false. The condition can also be a list or any sequence, where the empty sequence means false. The body of the loop must be indented:\n",
        "\n",
        "```python\n",
        "while condition:\n",
        "   block\n",
        "```"
      ]
    },
    {
      "cell_type": "markdown",
      "metadata": {
        "id": "nHpYr3xiCrPP"
      },
      "source": [
        "### Exercise 3:\n",
        "\n",
        "How many prints will this `while` loop make?\n",
        "\n",
        "```python\n",
        "x = 1\n",
        "while x < 4 :\n",
        "    print(x)\n",
        "    x = x + 1\n",
        "```\n",
        "\n",
        "a. 0\n",
        "\n",
        "b. 1\n",
        "\n",
        "c. 2 \n",
        "\n",
        "d. 3 "
      ]
    },
    {
      "cell_type": "code",
      "execution_count": null,
      "metadata": {
        "id": "rZsObeQtxJHL",
        "outputId": "ebf08db9-105e-4eeb-94d5-cb0d3f846b01"
      },
      "outputs": [
        {
          "name": "stdout",
          "output_type": "stream",
          "text": [
            "Infinite Cycle\n",
            "Infinite Cycle\n",
            "Infinite Cycle\n",
            "Infinite Cycle\n",
            "Infinite Cycle\n",
            "Infinite Cycle\n",
            "Infinite Cycle\n",
            "Infinite Cycle\n",
            "Infinite Cycle\n",
            "Infinite Cycle\n",
            "Infinite Cycle\n",
            "Infinite Cycle\n",
            "Infinite Cycle\n",
            "Infinite Cycle\n",
            "Infinite Cycle\n",
            "Infinite Cycle\n",
            "Infinite Cycle\n",
            "Infinite Cycle\n",
            "Infinite Cycle\n",
            "Infinite Cycle\n",
            "Infinite Cycle\n",
            "Infinite Cycle\n",
            "Infinite Cycle\n",
            "Infinite Cycle\n",
            "Infinite Cycle\n",
            "Infinite Cycle\n",
            "Infinite Cycle\n",
            "Infinite Cycle\n",
            "Infinite Cycle\n",
            "Infinite Cycle\n",
            "Infinite Cycle\n",
            "Infinite Cycle\n",
            "Infinite Cycle\n",
            "Infinite Cycle\n",
            "Infinite Cycle\n",
            "Infinite Cycle\n",
            "Infinite Cycle\n",
            "Infinite Cycle\n",
            "Infinite Cycle\n",
            "Infinite Cycle\n",
            "Infinite Cycle\n",
            "Infinite Cycle\n",
            "Infinite Cycle\n",
            "Infinite Cycle\n",
            "Infinite Cycle\n",
            "Infinite Cycle\n",
            "Infinite Cycle\n",
            "Infinite Cycle\n",
            "Infinite Cycle\n",
            "Infinite Cycle\n",
            "Infinite Cycle\n",
            "Infinite Cycle\n",
            "Infinite Cycle\n",
            "Infinite Cycle\n",
            "Infinite Cycle\n",
            "Infinite Cycle\n",
            "Infinite Cycle\n",
            "Infinite Cycle\n",
            "Infinite Cycle\n",
            "Infinite Cycle\n",
            "Infinite Cycle\n",
            "Infinite Cycle\n",
            "Infinite Cycle\n",
            "Infinite Cycle\n",
            "Infinite Cycle\n",
            "Infinite Cycle\n",
            "Infinite Cycle\n",
            "Infinite Cycle\n",
            "Infinite Cycle\n",
            "Infinite Cycle\n",
            "Infinite Cycle\n",
            "Infinite Cycle\n",
            "Infinite Cycle\n",
            "Infinite Cycle\n",
            "Infinite Cycle\n",
            "Infinite Cycle\n",
            "Infinite Cycle\n",
            "Infinite Cycle\n",
            "Infinite Cycle\n",
            "Infinite Cycle\n",
            "Infinite Cycle\n",
            "Infinite Cycle\n",
            "Infinite Cycle\n",
            "Infinite Cycle\n",
            "Infinite Cycle\n",
            "Infinite Cycle\n",
            "Infinite Cycle\n",
            "Infinite Cycle\n",
            "Infinite Cycle\n",
            "Infinite Cycle\n",
            "Infinite Cycle\n",
            "Infinite Cycle\n",
            "Infinite Cycle\n",
            "Infinite Cycle\n",
            "Infinite Cycle\n",
            "Infinite Cycle\n",
            "Infinite Cycle\n",
            "Infinite Cycle\n",
            "Infinite Cycle\n",
            "Infinite Cycle\n",
            "Infinite Cycle\n",
            "Infinite Cycle\n",
            "Infinite Cycle\n",
            "Infinite Cycle\n",
            "Infinite Cycle\n",
            "Infinite Cycle\n",
            "Infinite Cycle\n",
            "Infinite Cycle\n",
            "Infinite Cycle\n",
            "Infinite Cycle\n",
            "Infinite Cycle\n",
            "Infinite Cycle\n",
            "Infinite Cycle\n",
            "Infinite Cycle\n",
            "Infinite Cycle\n",
            "Infinite Cycle\n",
            "Infinite Cycle\n",
            "Infinite Cycle\n",
            "Infinite Cycle\n",
            "Infinite Cycle\n",
            "Infinite Cycle\n",
            "Infinite Cycle\n",
            "Infinite Cycle\n",
            "Infinite Cycle\n",
            "Infinite Cycle\n",
            "Infinite Cycle\n",
            "Infinite Cycle\n",
            "Infinite Cycle\n",
            "Infinite Cycle\n",
            "Infinite Cycle\n",
            "Infinite Cycle\n",
            "Infinite Cycle\n",
            "Infinite Cycle\n",
            "Infinite Cycle\n",
            "Infinite Cycle\n",
            "Infinite Cycle\n",
            "Infinite Cycle\n",
            "Infinite Cycle\n",
            "Infinite Cycle\n",
            "Infinite Cycle\n",
            "Infinite Cycle\n",
            "Infinite Cycle\n",
            "Infinite Cycle\n",
            "Infinite Cycle\n",
            "Infinite Cycle\n",
            "Infinite Cycle\n",
            "Infinite Cycle\n",
            "Infinite Cycle\n",
            "Infinite Cycle\n",
            "Infinite Cycle\n",
            "Infinite Cycle\n",
            "Infinite Cycle\n",
            "Infinite Cycle\n",
            "Infinite Cycle\n",
            "Infinite Cycle\n",
            "Infinite Cycle\n",
            "Infinite Cycle\n",
            "Infinite Cycle\n",
            "Infinite Cycle\n",
            "Infinite Cycle\n",
            "Infinite Cycle\n",
            "Infinite Cycle\n",
            "Infinite Cycle\n",
            "Infinite Cycle\n",
            "Infinite Cycle\n",
            "Infinite Cycle\n",
            "Infinite Cycle\n",
            "Infinite Cycle\n",
            "Infinite Cycle\n",
            "Infinite Cycle\n",
            "Infinite Cycle\n",
            "Infinite Cycle\n",
            "Infinite Cycle\n",
            "Infinite Cycle\n",
            "Infinite Cycle\n",
            "Infinite Cycle\n",
            "Infinite Cycle\n",
            "Infinite Cycle\n",
            "Infinite Cycle\n",
            "Infinite Cycle\n",
            "Infinite Cycle\n",
            "Infinite Cycle\n",
            "Infinite Cycle\n",
            "Infinite Cycle\n",
            "Infinite Cycle\n",
            "Infinite Cycle\n",
            "Infinite Cycle\n",
            "Infinite Cycle\n",
            "Infinite Cycle\n",
            "Infinite Cycle\n",
            "Infinite Cycle\n",
            "Infinite Cycle\n",
            "Infinite Cycle\n",
            "Infinite Cycle\n",
            "Infinite Cycle\n",
            "Infinite Cycle\n",
            "Infinite Cycle\n",
            "Infinite Cycle\n",
            "Infinite Cycle\n",
            "Infinite Cycle\n",
            "Infinite Cycle\n",
            "Infinite Cycle\n",
            "Infinite Cycle\n",
            "Infinite Cycle\n",
            "Infinite Cycle\n",
            "Infinite Cycle\n",
            "Infinite Cycle\n",
            "Infinite Cycle\n",
            "Infinite Cycle\n",
            "Infinite Cycle\n",
            "Infinite Cycle\n",
            "Infinite Cycle\n",
            "Infinite Cycle\n",
            "Infinite Cycle\n",
            "Infinite Cycle\n",
            "Infinite Cycle\n",
            "Infinite Cycle\n",
            "Infinite Cycle\n",
            "Infinite Cycle\n",
            "Infinite Cycle\n",
            "Infinite Cycle\n",
            "Infinite Cycle\n",
            "Infinite Cycle\n",
            "Infinite Cycle\n",
            "Infinite Cycle\n",
            "Infinite Cycle\n",
            "Infinite Cycle\n",
            "Infinite Cycle\n",
            "Infinite Cycle\n",
            "Infinite Cycle\n",
            "Infinite Cycle\n",
            "Infinite Cycle\n",
            "Infinite Cycle\n",
            "Infinite Cycle\n",
            "Infinite Cycle\n",
            "Infinite Cycle\n",
            "Infinite Cycle\n",
            "Infinite Cycle\n",
            "Infinite Cycle\n",
            "Infinite Cycle\n",
            "Infinite Cycle\n",
            "Infinite Cycle\n",
            "Infinite Cycle\n",
            "Infinite Cycle\n",
            "Infinite Cycle\n",
            "Infinite Cycle\n",
            "Infinite Cycle\n",
            "Infinite Cycle\n",
            "Infinite Cycle\n",
            "Infinite Cycle\n",
            "Infinite Cycle\n",
            "Infinite Cycle\n",
            "Infinite Cycle\n",
            "Infinite Cycle\n",
            "Infinite Cycle\n",
            "Infinite Cycle\n",
            "Infinite Cycle\n",
            "Infinite Cycle\n",
            "Infinite Cycle\n",
            "Infinite Cycle\n",
            "Infinite Cycle\n",
            "Infinite Cycle\n",
            "Infinite Cycle\n",
            "Infinite Cycle\n",
            "Infinite Cycle\n",
            "Infinite Cycle\n",
            "Infinite Cycle\n",
            "Infinite Cycle\n",
            "Infinite Cycle\n",
            "Infinite Cycle\n",
            "Infinite Cycle\n",
            "Infinite Cycle\n",
            "Infinite Cycle\n",
            "Infinite Cycle\n",
            "Infinite Cycle\n",
            "Infinite Cycle\n",
            "Infinite Cycle\n",
            "Infinite Cycle\n",
            "Infinite Cycle\n",
            "Infinite Cycle\n",
            "Infinite Cycle\n",
            "Infinite Cycle\n",
            "Infinite Cycle\n",
            "Infinite Cycle\n",
            "Infinite Cycle\n",
            "Infinite Cycle\n",
            "Infinite Cycle\n",
            "Infinite Cycle\n",
            "Infinite Cycle\n",
            "Infinite Cycle\n",
            "Infinite Cycle\n",
            "Infinite Cycle\n",
            "Infinite Cycle\n",
            "Infinite Cycle\n",
            "Infinite Cycle\n",
            "Infinite Cycle\n",
            "Infinite Cycle\n",
            "Infinite Cycle\n",
            "Infinite Cycle\n",
            "Infinite Cycle\n",
            "Infinite Cycle\n",
            "Infinite Cycle\n",
            "Infinite Cycle\n",
            "Infinite Cycle\n",
            "Infinite Cycle\n",
            "Infinite Cycle\n",
            "Infinite Cycle\n",
            "Infinite Cycle\n",
            "Infinite Cycle\n",
            "Infinite Cycle\n",
            "Infinite Cycle\n",
            "Infinite Cycle\n",
            "Infinite Cycle\n",
            "Infinite Cycle\n",
            "Infinite Cycle\n",
            "Infinite Cycle\n",
            "Infinite Cycle\n",
            "Infinite Cycle\n",
            "Infinite Cycle\n",
            "Infinite Cycle\n",
            "Infinite Cycle\n",
            "Infinite Cycle\n",
            "Infinite Cycle\n",
            "Infinite Cycle\n",
            "Infinite Cycle\n",
            "Infinite Cycle\n",
            "Infinite Cycle\n",
            "Infinite Cycle\n",
            "Infinite Cycle\n",
            "Infinite Cycle\n",
            "Infinite Cycle\n",
            "Infinite Cycle\n",
            "Infinite Cycle\n",
            "Infinite Cycle\n",
            "Infinite Cycle\n",
            "Infinite Cycle\n",
            "Infinite Cycle\n",
            "Infinite Cycle\n",
            "Infinite Cycle\n",
            "Infinite Cycle\n",
            "Infinite Cycle\n",
            "Infinite Cycle\n",
            "Infinite Cycle\n",
            "Infinite Cycle\n",
            "Infinite Cycle\n",
            "Infinite Cycle\n",
            "Infinite Cycle\n",
            "Infinite Cycle\n",
            "Infinite Cycle\n",
            "Infinite Cycle\n",
            "Infinite Cycle\n",
            "Infinite Cycle\n",
            "Infinite Cycle\n",
            "Infinite Cycle\n",
            "Infinite Cycle\n",
            "Infinite Cycle\n",
            "Infinite Cycle\n",
            "Infinite Cycle\n",
            "Infinite Cycle\n",
            "Infinite Cycle\n",
            "Infinite Cycle\n",
            "Infinite Cycle\n",
            "Infinite Cycle\n",
            "Infinite Cycle\n",
            "Infinite Cycle\n",
            "Infinite Cycle\n",
            "Infinite Cycle\n",
            "Infinite Cycle\n",
            "Infinite Cycle\n",
            "Infinite Cycle\n",
            "Infinite Cycle\n",
            "Infinite Cycle\n",
            "Infinite Cycle\n",
            "Infinite Cycle\n",
            "Infinite Cycle\n",
            "Infinite Cycle\n",
            "Infinite Cycle\n",
            "Infinite Cycle\n",
            "Infinite Cycle\n",
            "Infinite Cycle\n",
            "Infinite Cycle\n",
            "Infinite Cycle\n",
            "Infinite Cycle\n",
            "Infinite Cycle\n",
            "Infinite Cycle\n",
            "Infinite Cycle\n",
            "Infinite Cycle\n",
            "Infinite Cycle\n",
            "Infinite Cycle\n",
            "Infinite Cycle\n",
            "Infinite Cycle\n",
            "Infinite Cycle\n",
            "Infinite Cycle\n",
            "Infinite Cycle\n",
            "Infinite Cycle\n",
            "Infinite Cycle\n",
            "Infinite Cycle\n",
            "Infinite Cycle\n",
            "Infinite Cycle\n",
            "Infinite Cycle\n",
            "Infinite Cycle\n",
            "Infinite Cycle\n",
            "Infinite Cycle\n",
            "Infinite Cycle\n",
            "Infinite Cycle\n",
            "Infinite Cycle\n",
            "Infinite Cycle\n",
            "Infinite Cycle\n",
            "Infinite Cycle\n",
            "Infinite Cycle\n",
            "Infinite Cycle\n",
            "Infinite Cycle\n",
            "Infinite Cycle\n",
            "Infinite Cycle\n",
            "Infinite Cycle\n",
            "Infinite Cycle\n",
            "Infinite Cycle\n",
            "Infinite Cycle\n",
            "Infinite Cycle\n",
            "Infinite Cycle\n",
            "Infinite Cycle\n",
            "Infinite Cycle\n",
            "Infinite Cycle\n",
            "Infinite Cycle\n",
            "Infinite Cycle\n",
            "Infinite Cycle\n",
            "Infinite Cycle\n",
            "Infinite Cycle\n",
            "Infinite Cycle\n",
            "Infinite Cycle\n",
            "Infinite Cycle\n",
            "Infinite Cycle\n",
            "Infinite Cycle\n",
            "Infinite Cycle\n",
            "Infinite Cycle\n",
            "Infinite Cycle\n",
            "Infinite Cycle\n",
            "Infinite Cycle\n",
            "Infinite Cycle\n",
            "Infinite Cycle\n",
            "Infinite Cycle\n",
            "Infinite Cycle\n",
            "Infinite Cycle\n",
            "Infinite Cycle\n",
            "Infinite Cycle\n",
            "Infinite Cycle\n",
            "Infinite Cycle\n",
            "Infinite Cycle\n",
            "Infinite Cycle\n",
            "Infinite Cycle\n",
            "Infinite Cycle\n",
            "Infinite Cycle\n",
            "Infinite Cycle\n",
            "Infinite Cycle\n",
            "Infinite Cycle\n",
            "Infinite Cycle\n",
            "Infinite Cycle\n",
            "Infinite Cycle\n",
            "Infinite Cycle\n",
            "Infinite Cycle\n",
            "Infinite Cycle\n",
            "Infinite Cycle\n",
            "Infinite Cycle\n",
            "Infinite Cycle\n",
            "Infinite Cycle\n",
            "Infinite Cycle\n",
            "Infinite Cycle\n",
            "Infinite Cycle\n",
            "Infinite Cycle\n",
            "Infinite Cycle\n",
            "Infinite Cycle\n",
            "Infinite Cycle\n",
            "Infinite Cycle\n",
            "Infinite Cycle\n",
            "Infinite Cycle\n",
            "Infinite Cycle\n",
            "Infinite Cycle\n",
            "Infinite Cycle\n",
            "Infinite Cycle\n",
            "Infinite Cycle\n",
            "Infinite Cycle\n",
            "Infinite Cycle\n",
            "Infinite Cycle\n",
            "Infinite Cycle\n",
            "Infinite Cycle\n",
            "Infinite Cycle\n",
            "Infinite Cycle\n",
            "Infinite Cycle\n",
            "Infinite Cycle\n",
            "Infinite Cycle\n",
            "Infinite Cycle\n",
            "Infinite Cycle\n",
            "Infinite Cycle\n",
            "Infinite Cycle\n",
            "Infinite Cycle\n",
            "Infinite Cycle\n",
            "Infinite Cycle\n",
            "Infinite Cycle\n",
            "Infinite Cycle\n",
            "Infinite Cycle\n",
            "Infinite Cycle\n",
            "Infinite Cycle\n",
            "Infinite Cycle\n",
            "Infinite Cycle\n",
            "Infinite Cycle\n",
            "Infinite Cycle\n",
            "Infinite Cycle\n",
            "Infinite Cycle\n",
            "Infinite Cycle\n",
            "Infinite Cycle\n",
            "Infinite Cycle\n",
            "Infinite Cycle\n",
            "Infinite Cycle\n",
            "Infinite Cycle\n",
            "Infinite Cycle\n",
            "Infinite Cycle\n",
            "Infinite Cycle\n",
            "Infinite Cycle\n",
            "Infinite Cycle\n",
            "Infinite Cycle\n",
            "Infinite Cycle\n",
            "Infinite Cycle\n",
            "Infinite Cycle\n",
            "Infinite Cycle\n",
            "Infinite Cycle\n",
            "Infinite Cycle\n",
            "Infinite Cycle\n",
            "Infinite Cycle\n",
            "Infinite Cycle\n",
            "Infinite Cycle\n",
            "Infinite Cycle\n",
            "Infinite Cycle\n",
            "Infinite Cycle\n",
            "Infinite Cycle\n",
            "Infinite Cycle\n",
            "Infinite Cycle\n",
            "Infinite Cycle\n",
            "Infinite Cycle\n",
            "Infinite Cycle\n",
            "Infinite Cycle\n",
            "Infinite Cycle\n",
            "Infinite Cycle\n",
            "Infinite Cycle\n",
            "Infinite Cycle\n",
            "Infinite Cycle\n",
            "Infinite Cycle\n",
            "Infinite Cycle\n",
            "Infinite Cycle\n",
            "Infinite Cycle\n",
            "Infinite Cycle\n",
            "Infinite Cycle\n",
            "Infinite Cycle\n",
            "Infinite Cycle\n",
            "Infinite Cycle\n",
            "Infinite Cycle\n",
            "Infinite Cycle\n",
            "Infinite Cycle\n",
            "Infinite Cycle\n",
            "Infinite Cycle\n",
            "Infinite Cycle\n",
            "Infinite Cycle\n",
            "Infinite Cycle\n",
            "Infinite Cycle\n",
            "Infinite Cycle\n",
            "Infinite Cycle\n",
            "Infinite Cycle\n",
            "Infinite Cycle\n",
            "Infinite Cycle\n",
            "Infinite Cycle\n",
            "Infinite Cycle\n",
            "Infinite Cycle\n",
            "Infinite Cycle\n",
            "Infinite Cycle\n",
            "Infinite Cycle\n",
            "Infinite Cycle\n",
            "Infinite Cycle\n",
            "Infinite Cycle\n",
            "Infinite Cycle\n",
            "Infinite Cycle\n",
            "Infinite Cycle\n",
            "Infinite Cycle\n",
            "Infinite Cycle\n",
            "Infinite Cycle\n",
            "Infinite Cycle\n",
            "Infinite Cycle\n",
            "Infinite Cycle\n",
            "Infinite Cycle\n",
            "Infinite Cycle\n",
            "Infinite Cycle\n",
            "Infinite Cycle\n",
            "Infinite Cycle\n",
            "Infinite Cycle\n",
            "Infinite Cycle\n",
            "Infinite Cycle\n",
            "Infinite Cycle\n",
            "Infinite Cycle\n",
            "Infinite Cycle\n",
            "Infinite Cycle\n",
            "Infinite Cycle\n",
            "Infinite Cycle\n",
            "Infinite Cycle\n",
            "Infinite Cycle\n",
            "Infinite Cycle\n",
            "Infinite Cycle\n",
            "Infinite Cycle\n",
            "Infinite Cycle\n",
            "Infinite Cycle\n",
            "Infinite Cycle\n",
            "Infinite Cycle\n",
            "Infinite Cycle\n",
            "Infinite Cycle\n",
            "Infinite Cycle\n",
            "Infinite Cycle\n",
            "Infinite Cycle\n",
            "Infinite Cycle\n",
            "Infinite Cycle\n",
            "Infinite Cycle\n",
            "Infinite Cycle\n",
            "Infinite Cycle\n",
            "Infinite Cycle\n",
            "Infinite Cycle\n",
            "Infinite Cycle\n",
            "Infinite Cycle\n",
            "Infinite Cycle\n",
            "Infinite Cycle\n",
            "Infinite Cycle\n",
            "Infinite Cycle\n",
            "Infinite Cycle\n",
            "Infinite Cycle\n",
            "Infinite Cycle\n",
            "Infinite Cycle\n",
            "Infinite Cycle\n",
            "Infinite Cycle\n",
            "Infinite Cycle\n",
            "Infinite Cycle\n",
            "Infinite Cycle\n",
            "Infinite Cycle\n",
            "Infinite Cycle\n",
            "Infinite Cycle\n",
            "Infinite Cycle\n",
            "Infinite Cycle\n",
            "Infinite Cycle\n",
            "Infinite Cycle\n",
            "Infinite Cycle\n",
            "Infinite Cycle\n",
            "Infinite Cycle\n",
            "Infinite Cycle\n",
            "Infinite Cycle\n",
            "Infinite Cycle\n",
            "Infinite Cycle\n",
            "Infinite Cycle\n",
            "Infinite Cycle\n",
            "Infinite Cycle\n",
            "Infinite Cycle\n",
            "Infinite Cycle\n",
            "Infinite Cycle\n",
            "Infinite Cycle\n",
            "Infinite Cycle\n",
            "Infinite Cycle\n",
            "Infinite Cycle\n",
            "Infinite Cycle\n",
            "Infinite Cycle\n",
            "Infinite Cycle\n",
            "Infinite Cycle\n",
            "Infinite Cycle\n",
            "Infinite Cycle\n",
            "Infinite Cycle\n",
            "Infinite Cycle\n",
            "Infinite Cycle\n",
            "Infinite Cycle\n",
            "Infinite Cycle\n",
            "Infinite Cycle\n",
            "Infinite Cycle\n",
            "Infinite Cycle\n",
            "Infinite Cycle\n",
            "Infinite Cycle\n",
            "Infinite Cycle\n",
            "Infinite Cycle\n",
            "Infinite Cycle\n",
            "Infinite Cycle\n",
            "Infinite Cycle\n",
            "Infinite Cycle\n",
            "Infinite Cycle\n",
            "Infinite Cycle\n",
            "Infinite Cycle\n",
            "Infinite Cycle\n",
            "Infinite Cycle\n",
            "Infinite Cycle\n",
            "Infinite Cycle\n",
            "Infinite Cycle\n",
            "Infinite Cycle\n",
            "Infinite Cycle\n",
            "Infinite Cycle\n",
            "Infinite Cycle\n",
            "Infinite Cycle\n",
            "Infinite Cycle\n",
            "Infinite Cycle\n",
            "Infinite Cycle\n",
            "Infinite Cycle\n",
            "Infinite Cycle\n",
            "Infinite Cycle\n",
            "Infinite Cycle\n",
            "Infinite Cycle\n",
            "Infinite Cycle\n",
            "Infinite Cycle\n",
            "Infinite Cycle\n",
            "Infinite Cycle\n",
            "Infinite Cycle\n",
            "Infinite Cycle\n",
            "Infinite Cycle\n",
            "Infinite Cycle\n",
            "Infinite Cycle\n",
            "Infinite Cycle\n",
            "Infinite Cycle\n",
            "Infinite Cycle\n",
            "Infinite Cycle\n",
            "Infinite Cycle\n",
            "Infinite Cycle\n",
            "Infinite Cycle\n",
            "Infinite Cycle\n",
            "Infinite Cycle\n",
            "Infinite Cycle\n",
            "Infinite Cycle\n",
            "Infinite Cycle\n",
            "Infinite Cycle\n",
            "Infinite Cycle\n",
            "Infinite Cycle\n",
            "Infinite Cycle\n",
            "Infinite Cycle\n",
            "Infinite Cycle\n",
            "Infinite Cycle\n",
            "Infinite Cycle\n",
            "Infinite Cycle\n",
            "Infinite Cycle\n",
            "Infinite Cycle\n",
            "Infinite Cycle\n",
            "Infinite Cycle\n",
            "Infinite Cycle\n",
            "Infinite Cycle\n",
            "Infinite Cycle\n",
            "Infinite Cycle\n",
            "Infinite Cycle\n",
            "Infinite Cycle\n",
            "Infinite Cycle\n",
            "Infinite Cycle\n",
            "Infinite Cycle\n",
            "Infinite Cycle\n",
            "Infinite Cycle\n",
            "Infinite Cycle\n",
            "Infinite Cycle\n",
            "Infinite Cycle\n",
            "Infinite Cycle\n",
            "Infinite Cycle\n",
            "Infinite Cycle\n",
            "Infinite Cycle\n",
            "Infinite Cycle\n",
            "Infinite Cycle\n",
            "Infinite Cycle\n",
            "Infinite Cycle\n",
            "Infinite Cycle\n",
            "Infinite Cycle\n",
            "Infinite Cycle\n",
            "Infinite Cycle\n",
            "Infinite Cycle\n",
            "Infinite Cycle\n",
            "Infinite Cycle\n",
            "Infinite Cycle\n",
            "Infinite Cycle\n",
            "Infinite Cycle\n",
            "Infinite Cycle\n",
            "Infinite Cycle\n",
            "Infinite Cycle\n",
            "Infinite Cycle\n",
            "Infinite Cycle\n",
            "Infinite Cycle\n",
            "Infinite Cycle\n",
            "Infinite Cycle\n",
            "Infinite Cycle\n",
            "Infinite Cycle\n",
            "Infinite Cycle\n",
            "Infinite Cycle\n",
            "Infinite Cycle\n",
            "Infinite Cycle\n",
            "Infinite Cycle\n",
            "Infinite Cycle\n",
            "Infinite Cycle\n",
            "Infinite Cycle\n",
            "Infinite Cycle\n",
            "Infinite Cycle\n",
            "Infinite Cycle\n",
            "Infinite Cycle\n",
            "Infinite Cycle\n",
            "Infinite Cycle\n",
            "Infinite Cycle\n",
            "Infinite Cycle\n",
            "Infinite Cycle\n",
            "Infinite Cycle\n",
            "Infinite Cycle\n",
            "Infinite Cycle\n",
            "Infinite Cycle\n",
            "Infinite Cycle\n",
            "Infinite Cycle\n",
            "Infinite Cycle\n",
            "Infinite Cycle\n",
            "Infinite Cycle\n",
            "Infinite Cycle\n",
            "Infinite Cycle\n",
            "Infinite Cycle\n",
            "Infinite Cycle\n",
            "Infinite Cycle\n",
            "Infinite Cycle\n",
            "Infinite Cycle\n",
            "Infinite Cycle\n",
            "Infinite Cycle\n",
            "Infinite Cycle\n",
            "Infinite Cycle\n",
            "Infinite Cycle\n",
            "Infinite Cycle\n",
            "Infinite Cycle\n",
            "Infinite Cycle\n",
            "Infinite Cycle\n",
            "Infinite Cycle\n",
            "Infinite Cycle\n",
            "Infinite Cycle\n",
            "Infinite Cycle\n",
            "Infinite Cycle\n",
            "Infinite Cycle\n",
            "Infinite Cycle\n",
            "Infinite Cycle\n",
            "Infinite Cycle\n",
            "Infinite Cycle\n",
            "Infinite Cycle\n",
            "Infinite Cycle\n",
            "Infinite Cycle\n",
            "Infinite Cycle\n",
            "Infinite Cycle\n",
            "Infinite Cycle\n",
            "Infinite Cycle\n",
            "Infinite Cycle\n",
            "Infinite Cycle\n",
            "Infinite Cycle\n",
            "Infinite Cycle\n",
            "Infinite Cycle\n",
            "Infinite Cycle\n",
            "Infinite Cycle\n",
            "Infinite Cycle\n",
            "Infinite Cycle\n",
            "Infinite Cycle\n",
            "Infinite Cycle\n",
            "Infinite Cycle\n",
            "Infinite Cycle\n",
            "Infinite Cycle\n",
            "Infinite Cycle\n",
            "Infinite Cycle\n",
            "Infinite Cycle\n",
            "Infinite Cycle\n",
            "Infinite Cycle\n",
            "Infinite Cycle\n",
            "Infinite Cycle\n",
            "Infinite Cycle\n",
            "Infinite Cycle\n",
            "Infinite Cycle\n",
            "Infinite Cycle\n",
            "Infinite Cycle\n",
            "Infinite Cycle\n",
            "Infinite Cycle\n",
            "Infinite Cycle\n",
            "Infinite Cycle\n",
            "Infinite Cycle\n",
            "Infinite Cycle\n",
            "Infinite Cycle\n",
            "Infinite Cycle\n",
            "Infinite Cycle\n",
            "Infinite Cycle\n",
            "Infinite Cycle\n",
            "Infinite Cycle\n",
            "Infinite Cycle\n",
            "Infinite Cycle\n",
            "Infinite Cycle\n",
            "Infinite Cycle\n"
          ]
        },
        {
          "name": "stdout",
          "output_type": "stream",
          "text": [
            "Infinite Cycle\n",
            "Infinite Cycle\n",
            "Infinite Cycle\n",
            "Infinite Cycle\n",
            "Infinite Cycle\n",
            "Infinite Cycle\n",
            "Infinite Cycle\n",
            "Infinite Cycle\n",
            "Infinite Cycle\n",
            "Infinite Cycle\n",
            "Infinite Cycle\n",
            "Infinite Cycle\n",
            "Infinite Cycle\n",
            "Infinite Cycle\n",
            "Infinite Cycle\n",
            "Infinite Cycle\n",
            "Infinite Cycle\n",
            "Infinite Cycle\n",
            "Infinite Cycle\n",
            "Infinite Cycle\n",
            "Infinite Cycle\n",
            "Infinite Cycle\n",
            "Infinite Cycle\n",
            "Infinite Cycle\n",
            "Infinite Cycle\n",
            "Infinite Cycle\n",
            "Infinite Cycle\n",
            "Infinite Cycle\n",
            "Infinite Cycle\n",
            "Infinite Cycle\n",
            "Infinite Cycle\n",
            "Infinite Cycle\n",
            "Infinite Cycle\n",
            "Infinite Cycle\n",
            "Infinite Cycle\n",
            "Infinite Cycle\n",
            "Infinite Cycle\n",
            "Infinite Cycle\n",
            "Infinite Cycle\n",
            "Infinite Cycle\n",
            "Infinite Cycle\n",
            "Infinite Cycle\n",
            "Infinite Cycle\n",
            "Infinite Cycle\n",
            "Infinite Cycle\n",
            "Infinite Cycle\n",
            "Infinite Cycle\n",
            "Infinite Cycle\n",
            "Infinite Cycle\n",
            "Infinite Cycle\n",
            "Infinite Cycle\n",
            "Infinite Cycle\n",
            "Infinite Cycle\n",
            "Infinite Cycle\n",
            "Infinite Cycle\n",
            "Infinite Cycle\n",
            "Infinite Cycle\n",
            "Infinite Cycle\n",
            "Infinite Cycle\n",
            "Infinite Cycle\n",
            "Infinite Cycle\n",
            "Infinite Cycle\n",
            "Infinite Cycle\n",
            "Infinite Cycle\n",
            "Infinite Cycle\n",
            "Infinite Cycle\n",
            "Infinite Cycle\n",
            "Infinite Cycle\n",
            "Infinite Cycle\n",
            "Infinite Cycle\n",
            "Infinite Cycle\n",
            "Infinite Cycle\n",
            "Infinite Cycle\n",
            "Infinite Cycle\n",
            "Infinite Cycle\n",
            "Infinite Cycle\n",
            "Infinite Cycle\n",
            "Infinite Cycle\n",
            "Infinite Cycle\n",
            "Infinite Cycle\n",
            "Infinite Cycle\n",
            "Infinite Cycle\n",
            "Infinite Cycle\n",
            "Infinite Cycle\n",
            "Infinite Cycle\n",
            "Infinite Cycle\n",
            "Infinite Cycle\n",
            "Infinite Cycle\n",
            "Infinite Cycle\n",
            "Infinite Cycle\n",
            "Infinite Cycle\n",
            "Infinite Cycle\n",
            "Infinite Cycle\n",
            "Infinite Cycle\n",
            "Infinite Cycle\n",
            "Infinite Cycle\n",
            "Infinite Cycle\n",
            "Infinite Cycle\n",
            "Infinite Cycle\n",
            "Infinite Cycle\n",
            "Infinite Cycle\n",
            "Infinite Cycle\n",
            "Infinite Cycle\n",
            "Infinite Cycle\n",
            "Infinite Cycle\n",
            "Infinite Cycle\n",
            "Infinite Cycle\n",
            "Infinite Cycle\n",
            "Infinite Cycle\n",
            "Infinite Cycle\n",
            "Infinite Cycle\n",
            "Infinite Cycle\n",
            "Infinite Cycle\n",
            "Infinite Cycle\n",
            "Infinite Cycle\n",
            "Infinite Cycle\n",
            "Infinite Cycle\n",
            "Infinite Cycle\n",
            "Infinite Cycle\n",
            "Infinite Cycle\n",
            "Infinite Cycle\n",
            "Infinite Cycle\n",
            "Infinite Cycle\n",
            "Infinite Cycle\n",
            "Infinite Cycle\n",
            "Infinite Cycle\n",
            "Infinite Cycle\n",
            "Infinite Cycle\n",
            "Infinite Cycle\n",
            "Infinite Cycle\n",
            "Infinite Cycle\n",
            "Infinite Cycle\n",
            "Infinite Cycle\n",
            "Infinite Cycle\n",
            "Infinite Cycle\n",
            "Infinite Cycle\n",
            "Infinite Cycle\n",
            "Infinite Cycle\n",
            "Infinite Cycle\n",
            "Infinite Cycle\n",
            "Infinite Cycle\n",
            "Infinite Cycle\n",
            "Infinite Cycle\n",
            "Infinite Cycle\n",
            "Infinite Cycle\n",
            "Infinite Cycle\n",
            "Infinite Cycle\n",
            "Infinite Cycle\n",
            "Infinite Cycle\n",
            "Infinite Cycle\n",
            "Infinite Cycle\n",
            "Infinite Cycle\n",
            "Infinite Cycle\n",
            "Infinite Cycle\n",
            "Infinite Cycle\n",
            "Infinite Cycle\n",
            "Infinite Cycle\n",
            "Infinite Cycle\n",
            "Infinite Cycle\n",
            "Infinite Cycle\n",
            "Infinite Cycle\n",
            "Infinite Cycle\n",
            "Infinite Cycle\n",
            "Infinite Cycle\n",
            "Infinite Cycle\n",
            "Infinite Cycle\n",
            "Infinite Cycle\n",
            "Infinite Cycle\n",
            "Infinite Cycle\n",
            "Infinite Cycle\n",
            "Infinite Cycle\n",
            "Infinite Cycle\n",
            "Infinite Cycle\n",
            "Infinite Cycle\n",
            "Infinite Cycle\n",
            "Infinite Cycle\n",
            "Infinite Cycle\n",
            "Infinite Cycle\n",
            "Infinite Cycle\n",
            "Infinite Cycle\n",
            "Infinite Cycle\n",
            "Infinite Cycle\n",
            "Infinite Cycle\n",
            "Infinite Cycle\n",
            "Infinite Cycle\n",
            "Infinite Cycle\n",
            "Infinite Cycle\n",
            "Infinite Cycle\n",
            "Infinite Cycle\n",
            "Infinite Cycle\n",
            "Infinite Cycle\n",
            "Infinite Cycle\n",
            "Infinite Cycle\n",
            "Infinite Cycle\n",
            "Infinite Cycle\n",
            "Infinite Cycle\n",
            "Infinite Cycle\n",
            "Infinite Cycle\n",
            "Infinite Cycle\n",
            "Infinite Cycle\n",
            "Infinite Cycle\n",
            "Infinite Cycle\n",
            "Infinite Cycle\n",
            "Infinite Cycle\n",
            "Infinite Cycle\n",
            "Infinite Cycle\n",
            "Infinite Cycle\n",
            "Infinite Cycle\n",
            "Infinite Cycle\n",
            "Infinite Cycle\n",
            "Infinite Cycle\n",
            "Infinite Cycle\n",
            "Infinite Cycle\n",
            "Infinite Cycle\n",
            "Infinite Cycle\n",
            "Infinite Cycle\n",
            "Infinite Cycle\n",
            "Infinite Cycle\n",
            "Infinite Cycle\n",
            "Infinite Cycle\n",
            "Infinite Cycle\n",
            "Infinite Cycle\n",
            "Infinite Cycle\n",
            "Infinite Cycle\n",
            "Infinite Cycle\n",
            "Infinite Cycle\n",
            "Infinite Cycle\n",
            "Infinite Cycle\n",
            "Infinite Cycle\n",
            "Infinite Cycle\n",
            "Infinite Cycle\n",
            "Infinite Cycle\n",
            "Infinite Cycle\n",
            "Infinite Cycle\n",
            "Infinite Cycle\n",
            "Infinite Cycle\n",
            "Infinite Cycle\n",
            "Infinite Cycle\n",
            "Infinite Cycle\n",
            "Infinite Cycle\n",
            "Infinite Cycle\n",
            "Infinite Cycle\n",
            "Infinite Cycle\n",
            "Infinite Cycle\n",
            "Infinite Cycle\n",
            "Infinite Cycle\n",
            "Infinite Cycle\n",
            "Infinite Cycle\n",
            "Infinite Cycle\n",
            "Infinite Cycle\n",
            "Infinite Cycle\n",
            "Infinite Cycle\n",
            "Infinite Cycle\n",
            "Infinite Cycle\n",
            "Infinite Cycle\n",
            "Infinite Cycle\n",
            "Infinite Cycle\n",
            "Infinite Cycle\n",
            "Infinite Cycle\n",
            "Infinite Cycle\n",
            "Infinite Cycle\n",
            "Infinite Cycle\n",
            "Infinite Cycle\n",
            "Infinite Cycle\n",
            "Infinite Cycle\n",
            "Infinite Cycle\n",
            "Infinite Cycle\n",
            "Infinite Cycle\n",
            "Infinite Cycle\n",
            "Infinite Cycle\n",
            "Infinite Cycle\n",
            "Infinite Cycle\n",
            "Infinite Cycle\n",
            "Infinite Cycle\n",
            "Infinite Cycle\n",
            "Infinite Cycle\n",
            "Infinite Cycle\n",
            "Infinite Cycle\n",
            "Infinite Cycle\n",
            "Infinite Cycle\n",
            "Infinite Cycle\n",
            "Infinite Cycle\n",
            "Infinite Cycle\n",
            "Infinite Cycle\n",
            "Infinite Cycle\n",
            "Infinite Cycle\n",
            "Infinite Cycle\n",
            "Infinite Cycle\n",
            "Infinite Cycle\n",
            "Infinite Cycle\n",
            "Infinite Cycle\n",
            "Infinite Cycle\n",
            "Infinite Cycle\n",
            "Infinite Cycle\n",
            "Infinite Cycle\n",
            "Infinite Cycle\n",
            "Infinite Cycle\n",
            "Infinite Cycle\n",
            "Infinite Cycle\n",
            "Infinite Cycle\n",
            "Infinite Cycle\n",
            "Infinite Cycle\n",
            "Infinite Cycle\n",
            "Infinite Cycle\n",
            "Infinite Cycle\n",
            "Infinite Cycle\n",
            "Infinite Cycle\n",
            "Infinite Cycle\n",
            "Infinite Cycle\n",
            "Infinite Cycle\n",
            "Infinite Cycle\n",
            "Infinite Cycle\n",
            "Infinite Cycle\n",
            "Infinite Cycle\n",
            "Infinite Cycle\n",
            "Infinite Cycle\n",
            "Infinite Cycle\n",
            "Infinite Cycle\n",
            "Infinite Cycle\n",
            "Infinite Cycle\n",
            "Infinite Cycle\n",
            "Infinite Cycle\n",
            "Infinite Cycle\n",
            "Infinite Cycle\n",
            "Infinite Cycle\n",
            "Infinite Cycle\n",
            "Infinite Cycle\n",
            "Infinite Cycle\n",
            "Infinite Cycle\n",
            "Infinite Cycle\n",
            "Infinite Cycle\n",
            "Infinite Cycle\n",
            "Infinite Cycle\n",
            "Infinite Cycle\n",
            "Infinite Cycle\n",
            "Infinite Cycle\n",
            "Infinite Cycle\n",
            "Infinite Cycle\n",
            "Infinite Cycle\n",
            "Infinite Cycle\n",
            "Infinite Cycle\n",
            "Infinite Cycle\n",
            "Infinite Cycle\n",
            "Infinite Cycle\n",
            "Infinite Cycle\n",
            "Infinite Cycle\n",
            "Infinite Cycle\n",
            "Infinite Cycle\n",
            "Infinite Cycle\n",
            "Infinite Cycle\n",
            "Infinite Cycle\n",
            "Infinite Cycle\n",
            "Infinite Cycle\n",
            "Infinite Cycle\n",
            "Infinite Cycle\n",
            "Infinite Cycle\n",
            "Infinite Cycle\n",
            "Infinite Cycle\n",
            "Infinite Cycle\n",
            "Infinite Cycle\n",
            "Infinite Cycle\n",
            "Infinite Cycle\n",
            "Infinite Cycle\n",
            "Infinite Cycle\n",
            "Infinite Cycle\n",
            "Infinite Cycle\n",
            "Infinite Cycle\n",
            "Infinite Cycle\n",
            "Infinite Cycle\n",
            "Infinite Cycle\n",
            "Infinite Cycle\n",
            "Infinite Cycle\n",
            "Infinite Cycle\n",
            "Infinite Cycle\n",
            "Infinite Cycle\n",
            "Infinite Cycle\n",
            "Infinite Cycle\n",
            "Infinite Cycle\n",
            "Infinite Cycle\n",
            "Infinite Cycle\n",
            "Infinite Cycle\n",
            "Infinite Cycle\n",
            "Infinite Cycle\n",
            "Infinite Cycle\n",
            "Infinite Cycle\n",
            "Infinite Cycle\n",
            "Infinite Cycle\n",
            "Infinite Cycle\n",
            "Infinite Cycle\n",
            "Infinite Cycle\n",
            "Infinite Cycle\n",
            "Infinite Cycle\n",
            "Infinite Cycle\n",
            "Infinite Cycle\n",
            "Infinite Cycle\n",
            "Infinite Cycle\n",
            "Infinite Cycle\n",
            "Infinite Cycle\n",
            "Infinite Cycle\n",
            "Infinite Cycle\n",
            "Infinite Cycle\n",
            "Infinite Cycle\n",
            "Infinite Cycle\n",
            "Infinite Cycle\n",
            "Infinite Cycle\n",
            "Infinite Cycle\n",
            "Infinite Cycle\n",
            "Infinite Cycle\n",
            "Infinite Cycle\n",
            "Infinite Cycle\n",
            "Infinite Cycle\n",
            "Infinite Cycle\n",
            "Infinite Cycle\n",
            "Infinite Cycle\n",
            "Infinite Cycle\n",
            "Infinite Cycle\n",
            "Infinite Cycle\n",
            "Infinite Cycle\n",
            "Infinite Cycle\n",
            "Infinite Cycle\n",
            "Infinite Cycle\n",
            "Infinite Cycle\n",
            "Infinite Cycle\n",
            "Infinite Cycle\n",
            "Infinite Cycle\n",
            "Infinite Cycle\n",
            "Infinite Cycle\n",
            "Infinite Cycle\n",
            "Infinite Cycle\n",
            "Infinite Cycle\n",
            "Infinite Cycle\n",
            "Infinite Cycle\n",
            "Infinite Cycle\n",
            "Infinite Cycle\n",
            "Infinite Cycle\n",
            "Infinite Cycle\n",
            "Infinite Cycle\n",
            "Infinite Cycle\n",
            "Infinite Cycle\n",
            "Infinite Cycle\n",
            "Infinite Cycle\n",
            "Infinite Cycle\n",
            "Infinite Cycle\n",
            "Infinite Cycle\n",
            "Infinite Cycle\n",
            "Infinite Cycle\n",
            "Infinite Cycle\n",
            "Infinite Cycle\n",
            "Infinite Cycle\n",
            "Infinite Cycle\n",
            "Infinite Cycle\n",
            "Infinite Cycle\n",
            "Infinite Cycle\n",
            "Infinite Cycle\n",
            "Infinite Cycle\n",
            "Infinite Cycle\n",
            "Infinite Cycle\n",
            "Infinite Cycle\n",
            "Infinite Cycle\n",
            "Infinite Cycle\n",
            "Infinite Cycle\n",
            "Infinite Cycle\n",
            "Infinite Cycle\n",
            "Infinite Cycle\n",
            "Infinite Cycle\n",
            "Infinite Cycle\n",
            "Infinite Cycle\n",
            "Infinite Cycle\n",
            "Infinite Cycle\n",
            "Infinite Cycle\n",
            "Infinite Cycle\n",
            "Infinite Cycle\n",
            "Infinite Cycle\n",
            "Infinite Cycle\n",
            "Infinite Cycle\n",
            "Infinite Cycle\n",
            "Infinite Cycle\n",
            "Infinite Cycle\n",
            "Infinite Cycle\n",
            "Infinite Cycle\n",
            "Infinite Cycle\n",
            "Infinite Cycle\n",
            "Infinite Cycle\n",
            "Infinite Cycle\n",
            "Infinite Cycle\n",
            "Infinite Cycle\n",
            "Infinite Cycle\n",
            "Infinite Cycle\n",
            "Infinite Cycle\n",
            "Infinite Cycle\n",
            "Infinite Cycle\n",
            "Infinite Cycle\n",
            "Infinite Cycle\n",
            "Infinite Cycle\n",
            "Infinite Cycle\n",
            "Infinite Cycle\n",
            "Infinite Cycle\n",
            "Infinite Cycle\n",
            "Infinite Cycle\n",
            "Infinite Cycle\n",
            "Infinite Cycle\n",
            "Infinite Cycle\n",
            "Infinite Cycle\n",
            "Infinite Cycle\n",
            "Infinite Cycle\n",
            "Infinite Cycle\n",
            "Infinite Cycle\n",
            "Infinite Cycle\n",
            "Infinite Cycle\n",
            "Infinite Cycle\n",
            "Infinite Cycle\n",
            "Infinite Cycle\n",
            "Infinite Cycle\n",
            "Infinite Cycle\n",
            "Infinite Cycle\n",
            "Infinite Cycle\n",
            "Infinite Cycle\n",
            "Infinite Cycle\n",
            "Infinite Cycle\n",
            "Infinite Cycle\n",
            "Infinite Cycle\n",
            "Infinite Cycle\n",
            "Infinite Cycle\n",
            "Infinite Cycle\n",
            "Infinite Cycle\n",
            "Infinite Cycle\n",
            "Infinite Cycle\n",
            "Infinite Cycle\n",
            "Infinite Cycle\n",
            "Infinite Cycle\n",
            "Infinite Cycle\n",
            "Infinite Cycle\n",
            "Infinite Cycle\n",
            "Infinite Cycle\n",
            "Infinite Cycle\n",
            "Infinite Cycle\n",
            "Infinite Cycle\n",
            "Infinite Cycle\n",
            "Infinite Cycle\n",
            "Infinite Cycle\n",
            "Infinite Cycle\n",
            "Infinite Cycle\n",
            "Infinite Cycle\n",
            "Infinite Cycle\n",
            "Infinite Cycle\n",
            "Infinite Cycle\n",
            "Infinite Cycle\n",
            "Infinite Cycle\n",
            "Infinite Cycle\n",
            "Infinite Cycle\n",
            "Infinite Cycle\n",
            "Infinite Cycle\n",
            "Infinite Cycle\n",
            "Infinite Cycle\n",
            "Infinite Cycle\n",
            "Infinite Cycle\n",
            "Infinite Cycle\n",
            "Infinite Cycle\n",
            "Infinite Cycle\n",
            "Infinite Cycle\n",
            "Infinite Cycle\n",
            "Infinite Cycle\n",
            "Infinite Cycle\n",
            "Infinite Cycle"
          ]
        },
        {
          "ename": "KeyboardInterrupt",
          "evalue": "",
          "output_type": "error",
          "traceback": [
            "\u001b[0;31m---------------------------------------------------------------------------\u001b[0m",
            "\u001b[0;31mKeyboardInterrupt\u001b[0m                         Traceback (most recent call last)",
            "\u001b[0;32m<ipython-input-3-c934311666d6>\u001b[0m in \u001b[0;36m<module>\u001b[0;34m\u001b[0m\n\u001b[1;32m      1\u001b[0m \u001b[0;32mwhile\u001b[0m \u001b[0;32mTrue\u001b[0m\u001b[0;34m:\u001b[0m\u001b[0;34m\u001b[0m\u001b[0;34m\u001b[0m\u001b[0m\n\u001b[0;32m----> 2\u001b[0;31m   \u001b[0mprint\u001b[0m\u001b[0;34m(\u001b[0m\u001b[0;34m\"Infinite Cycle\"\u001b[0m\u001b[0;34m)\u001b[0m\u001b[0;34m\u001b[0m\u001b[0;34m\u001b[0m\u001b[0m\n\u001b[0m",
            "\u001b[0;32m/opt/conda/lib/python3.6/site-packages/ipykernel/iostream.py\u001b[0m in \u001b[0;36mwrite\u001b[0;34m(self, string)\u001b[0m\n\u001b[1;32m    398\u001b[0m             \u001b[0mis_child\u001b[0m \u001b[0;34m=\u001b[0m \u001b[0;34m(\u001b[0m\u001b[0;32mnot\u001b[0m \u001b[0mself\u001b[0m\u001b[0;34m.\u001b[0m\u001b[0m_is_master_process\u001b[0m\u001b[0;34m(\u001b[0m\u001b[0;34m)\u001b[0m\u001b[0;34m)\u001b[0m\u001b[0;34m\u001b[0m\u001b[0;34m\u001b[0m\u001b[0m\n\u001b[1;32m    399\u001b[0m             \u001b[0;31m# only touch the buffer in the IO thread to avoid races\u001b[0m\u001b[0;34m\u001b[0m\u001b[0;34m\u001b[0m\u001b[0;34m\u001b[0m\u001b[0m\n\u001b[0;32m--> 400\u001b[0;31m             \u001b[0mself\u001b[0m\u001b[0;34m.\u001b[0m\u001b[0mpub_thread\u001b[0m\u001b[0;34m.\u001b[0m\u001b[0mschedule\u001b[0m\u001b[0;34m(\u001b[0m\u001b[0;32mlambda\u001b[0m \u001b[0;34m:\u001b[0m \u001b[0mself\u001b[0m\u001b[0;34m.\u001b[0m\u001b[0m_buffer\u001b[0m\u001b[0;34m.\u001b[0m\u001b[0mwrite\u001b[0m\u001b[0;34m(\u001b[0m\u001b[0mstring\u001b[0m\u001b[0;34m)\u001b[0m\u001b[0;34m)\u001b[0m\u001b[0;34m\u001b[0m\u001b[0;34m\u001b[0m\u001b[0m\n\u001b[0m\u001b[1;32m    401\u001b[0m             \u001b[0;32mif\u001b[0m \u001b[0mis_child\u001b[0m\u001b[0;34m:\u001b[0m\u001b[0;34m\u001b[0m\u001b[0;34m\u001b[0m\u001b[0m\n\u001b[1;32m    402\u001b[0m                 \u001b[0;31m# newlines imply flush in subprocesses\u001b[0m\u001b[0;34m\u001b[0m\u001b[0;34m\u001b[0m\u001b[0;34m\u001b[0m\u001b[0m\n",
            "\u001b[0;32m/opt/conda/lib/python3.6/site-packages/ipykernel/iostream.py\u001b[0m in \u001b[0;36mschedule\u001b[0;34m(self, f)\u001b[0m\n\u001b[1;32m    201\u001b[0m             \u001b[0mself\u001b[0m\u001b[0;34m.\u001b[0m\u001b[0m_events\u001b[0m\u001b[0;34m.\u001b[0m\u001b[0mappend\u001b[0m\u001b[0;34m(\u001b[0m\u001b[0mf\u001b[0m\u001b[0;34m)\u001b[0m\u001b[0;34m\u001b[0m\u001b[0;34m\u001b[0m\u001b[0m\n\u001b[1;32m    202\u001b[0m             \u001b[0;31m# wake event thread (message content is ignored)\u001b[0m\u001b[0;34m\u001b[0m\u001b[0;34m\u001b[0m\u001b[0;34m\u001b[0m\u001b[0m\n\u001b[0;32m--> 203\u001b[0;31m             \u001b[0mself\u001b[0m\u001b[0;34m.\u001b[0m\u001b[0m_event_pipe\u001b[0m\u001b[0;34m.\u001b[0m\u001b[0msend\u001b[0m\u001b[0;34m(\u001b[0m\u001b[0;34mb''\u001b[0m\u001b[0;34m)\u001b[0m\u001b[0;34m\u001b[0m\u001b[0;34m\u001b[0m\u001b[0m\n\u001b[0m\u001b[1;32m    204\u001b[0m         \u001b[0;32melse\u001b[0m\u001b[0;34m:\u001b[0m\u001b[0;34m\u001b[0m\u001b[0;34m\u001b[0m\u001b[0m\n\u001b[1;32m    205\u001b[0m             \u001b[0mf\u001b[0m\u001b[0;34m(\u001b[0m\u001b[0;34m)\u001b[0m\u001b[0;34m\u001b[0m\u001b[0;34m\u001b[0m\u001b[0m\n",
            "\u001b[0;32m/opt/conda/lib/python3.6/site-packages/zmq/sugar/socket.py\u001b[0m in \u001b[0;36msend\u001b[0;34m(self, data, flags, copy, track, routing_id, group)\u001b[0m\n\u001b[1;32m    390\u001b[0m                                  copy_threshold=self.copy_threshold)\n\u001b[1;32m    391\u001b[0m             \u001b[0mdata\u001b[0m\u001b[0;34m.\u001b[0m\u001b[0mgroup\u001b[0m \u001b[0;34m=\u001b[0m \u001b[0mgroup\u001b[0m\u001b[0;34m\u001b[0m\u001b[0;34m\u001b[0m\u001b[0m\n\u001b[0;32m--> 392\u001b[0;31m         \u001b[0;32mreturn\u001b[0m \u001b[0msuper\u001b[0m\u001b[0;34m(\u001b[0m\u001b[0mSocket\u001b[0m\u001b[0;34m,\u001b[0m \u001b[0mself\u001b[0m\u001b[0;34m)\u001b[0m\u001b[0;34m.\u001b[0m\u001b[0msend\u001b[0m\u001b[0;34m(\u001b[0m\u001b[0mdata\u001b[0m\u001b[0;34m,\u001b[0m \u001b[0mflags\u001b[0m\u001b[0;34m=\u001b[0m\u001b[0mflags\u001b[0m\u001b[0;34m,\u001b[0m \u001b[0mcopy\u001b[0m\u001b[0;34m=\u001b[0m\u001b[0mcopy\u001b[0m\u001b[0;34m,\u001b[0m \u001b[0mtrack\u001b[0m\u001b[0;34m=\u001b[0m\u001b[0mtrack\u001b[0m\u001b[0;34m)\u001b[0m\u001b[0;34m\u001b[0m\u001b[0;34m\u001b[0m\u001b[0m\n\u001b[0m\u001b[1;32m    393\u001b[0m \u001b[0;34m\u001b[0m\u001b[0m\n\u001b[1;32m    394\u001b[0m     \u001b[0;32mdef\u001b[0m \u001b[0msend_multipart\u001b[0m\u001b[0;34m(\u001b[0m\u001b[0mself\u001b[0m\u001b[0;34m,\u001b[0m \u001b[0mmsg_parts\u001b[0m\u001b[0;34m,\u001b[0m \u001b[0mflags\u001b[0m\u001b[0;34m=\u001b[0m\u001b[0;36m0\u001b[0m\u001b[0;34m,\u001b[0m \u001b[0mcopy\u001b[0m\u001b[0;34m=\u001b[0m\u001b[0;32mTrue\u001b[0m\u001b[0;34m,\u001b[0m \u001b[0mtrack\u001b[0m\u001b[0;34m=\u001b[0m\u001b[0;32mFalse\u001b[0m\u001b[0;34m,\u001b[0m \u001b[0;34m**\u001b[0m\u001b[0mkwargs\u001b[0m\u001b[0;34m)\u001b[0m\u001b[0;34m:\u001b[0m\u001b[0;34m\u001b[0m\u001b[0;34m\u001b[0m\u001b[0m\n",
            "\u001b[0;32mzmq/backend/cython/socket.pyx\u001b[0m in \u001b[0;36mzmq.backend.cython.socket.Socket.send\u001b[0;34m()\u001b[0m\n",
            "\u001b[0;32mzmq/backend/cython/socket.pyx\u001b[0m in \u001b[0;36mzmq.backend.cython.socket.Socket.send\u001b[0;34m()\u001b[0m\n",
            "\u001b[0;32mzmq/backend/cython/socket.pyx\u001b[0m in \u001b[0;36mzmq.backend.cython.socket._send_copy\u001b[0;34m()\u001b[0m\n",
            "\u001b[0;32m/opt/conda/lib/python3.6/site-packages/zmq/backend/cython/checkrc.pxd\u001b[0m in \u001b[0;36mzmq.backend.cython.checkrc._check_rc\u001b[0;34m()\u001b[0m\n",
            "\u001b[0;31mKeyboardInterrupt\u001b[0m: "
          ]
        }
      ],
      "source": [
        "while True:\n",
        "  print(\"Infinite Cycle\")"
      ]
    },
    {
      "cell_type": "code",
      "execution_count": null,
      "metadata": {
        "id": "UAGONT6fEDnT",
        "outputId": "2c1e4ecc-e5ef-4021-e3bb-d3e9c6f13d4d"
      },
      "outputs": [
        {
          "name": "stdout",
          "output_type": "stream",
          "text": [
            "correcting...\n",
            "7\n",
            "correcting...\n",
            "6\n",
            "correcting...\n",
            "5\n",
            "correcting...\n",
            "4\n",
            "correcting...\n",
            "3\n",
            "correcting...\n",
            "2\n",
            "correcting...\n",
            "1\n",
            "correcting...\n",
            "0\n"
          ]
        }
      ],
      "source": [
        "# Initialize offset\n",
        "offset = 8\n",
        "\n",
        "# Code the while loop\n",
        "while offset != 0:\n",
        "    print(\"correcting...\")\n",
        "    offset = offset - 1 # You can use too: offset -= 1  \n",
        "    print(offset)"
      ]
    },
    {
      "cell_type": "code",
      "execution_count": null,
      "metadata": {
        "colab": {
          "base_uri": "https://localhost:8080/",
          "height": 102
        },
        "id": "WjVii7mOBtBE",
        "outputId": "6c077ea9-eedd-48ed-e10b-ddc613786138"
      },
      "outputs": [
        {
          "name": "stdout",
          "output_type": "stream",
          "text": [
            "a\n",
            "e\n",
            "i\n",
            "o\n",
            "u\n"
          ]
        }
      ],
      "source": [
        "# Iterate lists\n",
        "list1 = ['a','e','i','o','u']\n",
        "while list1:\n",
        "  print(list1.pop(0))"
      ]
    },
    {
      "cell_type": "code",
      "execution_count": null,
      "metadata": {
        "id": "7A_z2TBiiCdh",
        "outputId": "9d795bb0-f084-40e1-873b-d0d06cedf7ea"
      },
      "outputs": [
        {
          "name": "stdout",
          "output_type": "stream",
          "text": [
            "z = 3\n",
            "z = 10\n",
            "z = 5\n",
            "z = 16\n",
            "z = 8\n",
            "z = 4\n",
            "z = 2\n"
          ]
        }
      ],
      "source": [
        "z = 3\n",
        "\n",
        "while z !=  1  :  # any boolean condition could be placed here. Also, notice the : at the end!\n",
        "    print( f\"z = {z}\" )\n",
        "    if z % 2 == 0 : # if z is even, divide by 2\n",
        "        z = z // 2 \n",
        "    else : \n",
        "        z = 3 * z + 1 # if z is odd, multiply by 3 add 1"
      ]
    },
    {
      "cell_type": "markdown",
      "metadata": {
        "id": "YF_Wp9tT7jmp"
      },
      "source": [
        "### `for` loops\n",
        "\n",
        "The `for` loop executes a block $n$ times, for each number in the range 0 to $n - 1$. However, this is only the most basic use of a `for` loop. Python allows you to iterate not only over ranges, but also over the elements of a sequence (be it a list or a chain) in the order in which they appear:\n",
        "\n",
        "```python\n",
        "for idx in range (0, n):\n",
        "   block\n",
        "\n",
        "for elem in list:\n",
        "   block\n",
        "```\n",
        "\n",
        "The use of the `for` loop to iterate over the list only gives access to all the elements of the list. If you also want to access the index information, you can use the `enumerate()` method:\n",
        "\n",
        "```python\n",
        "for index, element in enumerate(list):\n",
        "   print (\"Index\" + str(index) + \":\" + str(element)\n",
        "```"
      ]
    },
    {
      "cell_type": "markdown",
      "metadata": {
        "id": "j3gPFScbQzyI"
      },
      "source": [
        "#### `for` on lists"
      ]
    },
    {
      "cell_type": "code",
      "execution_count": null,
      "metadata": {
        "colab": {
          "base_uri": "https://localhost:8080/",
          "height": 102
        },
        "id": "6vMm9zK7L2cN",
        "outputId": "fa9108e1-0aea-44cb-e8b5-6dd0187474ca"
      },
      "outputs": [
        {
          "name": "stdout",
          "output_type": "stream",
          "text": [
            "room0:11.25\n",
            "room1:18.0\n",
            "room2:20.0\n",
            "room3:10.75\n",
            "room4:9.5\n"
          ]
        }
      ],
      "source": [
        "# areas list\n",
        "areas = [11.25, 18.0, 20.0, 10.75, 9.50]\n",
        "\n",
        "# for loop using enumerate()\n",
        "for idx,a in enumerate(areas) :\n",
        "    print(\"room\" + str(idx) + \":\" + str(a))"
      ]
    },
    {
      "cell_type": "code",
      "execution_count": null,
      "metadata": {
        "colab": {
          "base_uri": "https://localhost:8080/",
          "height": 102
        },
        "id": "WfXGkaHrPy34",
        "outputId": "5db6505f-2961-49df-b104-2782f72aac1a"
      },
      "outputs": [
        {
          "name": "stdout",
          "output_type": "stream",
          "text": [
            "the hallway is 11.25sqm\n",
            "the kitchen is 18.0sqm\n",
            "the living room is 20.0sqm\n",
            "the bedroom is 10.75sqm\n",
            "the bathroom is 9.5sqm\n"
          ]
        }
      ],
      "source": [
        "# house list of lists\n",
        "house = [[\"hallway\", 11.25], \n",
        "         [\"kitchen\", 18.0], \n",
        "         [\"living room\", 20.0], \n",
        "         [\"bedroom\", 10.75], \n",
        "         [\"bathroom\", 9.50]]\n",
        "# For structure\n",
        "for elem in house:\n",
        "    print(\"the \"+str(elem[0]) + \" is \"+ str(elem[1]) + \"sqm\")"
      ]
    },
    {
      "cell_type": "markdown",
      "metadata": {
        "id": "DrALR41gQ7hH"
      },
      "source": [
        "#### `for` on dictionaries"
      ]
    },
    {
      "cell_type": "code",
      "execution_count": null,
      "metadata": {
        "colab": {
          "base_uri": "https://localhost:8080/",
          "height": 136
        },
        "id": "e_D7OgndQ_Jr",
        "outputId": "c38d430d-1793-4765-bfa4-30782d42ffde"
      },
      "outputs": [
        {
          "name": "stdout",
          "output_type": "stream",
          "text": [
            "the capital of spain is madrid\n",
            "the capital of france is paris\n",
            "the capital of germany is berlin\n",
            "the capital of norway is oslo\n",
            "the capital of italy is rome\n",
            "the capital of poland is warsaw\n",
            "the capital of austria is vienna\n"
          ]
        }
      ],
      "source": [
        "# Definition of dictionary\n",
        "europe = {'spain':'madrid', 'france':'paris', 'germany':'berlin',\n",
        "          'norway':'oslo', 'italy':'rome', 'poland':'warsaw', 'austria':'vienna' }\n",
        "          \n",
        "# Iterate over europe\n",
        "for key in europe:\n",
        "  print(\"the capital of \"+key+ \" is \"+europe[key]) "
      ]
    },
    {
      "cell_type": "code",
      "execution_count": null,
      "metadata": {
        "colab": {
          "base_uri": "https://localhost:8080/",
          "height": 136
        },
        "id": "TvVYhoEsWnEc",
        "outputId": "1df48d84-3f6f-4b87-92e3-444dfaf88238"
      },
      "outputs": [
        {
          "name": "stdout",
          "output_type": "stream",
          "text": [
            "the capital of spain is madrid\n",
            "the capital of france is paris\n",
            "the capital of germany is berlin\n",
            "the capital of norway is oslo\n",
            "the capital of italy is rome\n",
            "the capital of poland is warsaw\n",
            "the capital of austria is vienna\n"
          ]
        }
      ],
      "source": [
        "# Iterate over europe.items()\n",
        "for key, value in europe.items() :\n",
        "  print(\"the capital of \"+key+ \" is \"+value)"
      ]
    },
    {
      "cell_type": "code",
      "execution_count": null,
      "metadata": {
        "colab": {
          "base_uri": "https://localhost:8080/",
          "height": 136
        },
        "id": "91hP-_W0WnMZ",
        "outputId": "efd51f12-2233-4966-bb5b-1fb53935f437"
      },
      "outputs": [
        {
          "name": "stdout",
          "output_type": "stream",
          "text": [
            "the capital of spain is madrid\n",
            "the capital of france is paris\n",
            "the capital of germany is berlin\n",
            "the capital of norway is oslo\n",
            "the capital of italy is rome\n",
            "the capital of poland is warsaw\n",
            "the capital of austria is vienna\n"
          ]
        }
      ],
      "source": [
        "# Iterate over europe.keys()\n",
        "for key in europe.keys():\n",
        "  print(\"the capital of \"+key+ \" is \"+europe[key])"
      ]
    },
    {
      "cell_type": "code",
      "execution_count": null,
      "metadata": {
        "colab": {
          "base_uri": "https://localhost:8080/",
          "height": 136
        },
        "id": "tyI_hcEqWnW_",
        "outputId": "0fe13470-1387-4fc5-d156-f4f62838b8b0"
      },
      "outputs": [
        {
          "name": "stdout",
          "output_type": "stream",
          "text": [
            "the capitals is madrid\n",
            "the capitals is paris\n",
            "the capitals is berlin\n",
            "the capitals is oslo\n",
            "the capitals is rome\n",
            "the capitals is warsaw\n",
            "the capitals is vienna\n"
          ]
        }
      ],
      "source": [
        "# Iterate over europe.values()\n",
        "for value in europe.values() :\n",
        "  print(\"the capitals is \"+value) "
      ]
    },
    {
      "cell_type": "markdown",
      "metadata": {
        "id": "xE02aKq5b8y-"
      },
      "source": [
        "### Exercise 4:\n",
        "\n",
        "Write a function that generates a dictionary where the keys are the numbers 1 through 15 (inclusive) and the values are the squares of those keys:\n",
        "\n",
        "Example:\n",
        "```python\n",
        "{\n",
        "  1 : 1,\n",
        "  2 : 4,\n",
        "  3 : 9,\n",
        "  ...\n",
        "}\n",
        "```"
      ]
    },
    {
      "cell_type": "code",
      "execution_count": null,
      "metadata": {
        "id": "CzHOkVQGco_h",
        "outputId": "764e7bf8-fba2-43ce-8001-0c3c3b91878e"
      },
      "outputs": [
        {
          "data": {
            "text/plain": [
              "{1: 1,\n",
              " 2: 4,\n",
              " 3: 9,\n",
              " 4: 16,\n",
              " 5: 25,\n",
              " 6: 36,\n",
              " 7: 49,\n",
              " 8: 64,\n",
              " 9: 81,\n",
              " 10: 100,\n",
              " 11: 121,\n",
              " 12: 144,\n",
              " 13: 169,\n",
              " 14: 196,\n",
              " 15: 225}"
            ]
          },
          "execution_count": 73,
          "metadata": {},
          "output_type": "execute_result"
        }
      ],
      "source": [
        "dict({x:x**2 for x in range(1,16)})"
      ]
    },
    {
      "cell_type": "markdown",
      "metadata": {
        "id": "12QDJu3enKog"
      },
      "source": [
        "## Loop control\n",
        "\n",
        "Sometimes, we want to be able to control the progress of a `for` or `while` loop beyond its default behavior. There are a few keywords that allow us to do this."
      ]
    },
    {
      "cell_type": "markdown",
      "metadata": {
        "id": "c4t54cBbVZ8a"
      },
      "source": [
        "### `break`\n",
        "\n",
        "This keyword can be used in `for` and `while` loops. It simply ends the current loop and continues with the execution of the rest of the program:"
      ]
    },
    {
      "cell_type": "code",
      "execution_count": null,
      "metadata": {
        "colab": {
          "base_uri": "https://localhost:8080/",
          "height": 68
        },
        "id": "2PRJOnYfVoCQ",
        "outputId": "7fdb22b9-0dc3-4035-ad2c-5a7df82ce38e"
      },
      "outputs": [
        {
          "name": "stdout",
          "output_type": "stream",
          "text": [
            "char : P\n",
            "char : y\n",
            "char : t\n"
          ]
        }
      ],
      "source": [
        "# Break in FOR\n",
        "for char in \"Python\":\n",
        "    if char == \"h\":\n",
        "        break\n",
        "    print (\"char : \" + char)"
      ]
    },
    {
      "cell_type": "code",
      "execution_count": null,
      "metadata": {
        "id": "FnivC54iXUgl",
        "outputId": "2f4f22cd-106b-49a1-88cd-c2a4e96a9a24"
      },
      "outputs": [
        {
          "name": "stdout",
          "output_type": "stream",
          "text": [
            "i = 1\n",
            "i = 2\n",
            "i = 3\n",
            "i = 4\n",
            "i = 5\n",
            "i = 6\n",
            "i = 7\n",
            "Found 7, everybody's favorite number! No need to keep working!\n"
          ]
        }
      ],
      "source": [
        "# Break in FOR\n",
        "for i in range(1, 12) : \n",
        "    print( f\"i = {i}\" )\n",
        "    if i == 7 :  \n",
        "        print( \"Found 7, everybody's favorite number! No need to keep working!\")\n",
        "        break"
      ]
    },
    {
      "cell_type": "code",
      "execution_count": null,
      "metadata": {
        "id": "gVzuCMC8XU84",
        "outputId": "29522dff-d175-4558-80c5-759f25310581"
      },
      "outputs": [
        {
          "name": "stdout",
          "output_type": "stream",
          "text": [
            "value : 9\n",
            "value : 8\n",
            "value : 7\n",
            "value : 6\n",
            "End Script\n"
          ]
        }
      ],
      "source": [
        "# Break in WHILE\n",
        "value = 10\n",
        "while value > 0:\n",
        "    value = value -1\n",
        "    if value == 5:\n",
        "        break\n",
        "    print (\"value : \" + str(value))\n",
        "\n",
        "print (\"End Script\")"
      ]
    },
    {
      "cell_type": "markdown",
      "metadata": {
        "id": "vG1rGnfUyAw_"
      },
      "source": [
        "## `lambda` functions\n",
        "\n",
        "`lambda` is Python's way of defining very simple anonymous functions whose return value is the result of evaluating a single expression.\n",
        "\n",
        "```python\n",
        "lambda arguments: result\n",
        "```\n",
        "\n",
        "The main reason to use these types of functions is for speed and in certain cases clarity of the code."
      ]
    },
    {
      "cell_type": "code",
      "execution_count": null,
      "metadata": {
        "colab": {
          "base_uri": "https://localhost:8080/",
          "height": 34
        },
        "id": "L-9Zzcf-xV9M",
        "outputId": "c9c6d640-fa54-4d0a-ac92-95c9157fbbc6"
      },
      "outputs": [
        {
          "data": {
            "text/plain": [
              "5"
            ]
          },
          "execution_count": 44,
          "metadata": {},
          "output_type": "execute_result"
        }
      ],
      "source": [
        "# Define function\n",
        "def function_sum(x,y):\n",
        "    return x + y\n",
        "function_sum(2,3)"
      ]
    },
    {
      "cell_type": "code",
      "execution_count": null,
      "metadata": {
        "colab": {
          "base_uri": "https://localhost:8080/",
          "height": 34
        },
        "id": "F2cBw1UCzXxu",
        "outputId": "5ca8441b-b443-490a-ef78-f9a0f1e317a5"
      },
      "outputs": [
        {
          "data": {
            "text/plain": [
              "5"
            ]
          },
          "execution_count": 45,
          "metadata": {},
          "output_type": "execute_result"
        }
      ],
      "source": [
        "# Define lambda\n",
        "lambda_function = lambda x,y: x + y\n",
        "lambda_function(2,3)"
      ]
    },
    {
      "cell_type": "markdown",
      "metadata": {
        "id": "CCrgLw9kInl6"
      },
      "source": [
        "### Using `lambda` with `sorted()`"
      ]
    },
    {
      "cell_type": "code",
      "execution_count": null,
      "metadata": {
        "id": "tubNIOE1IlNX"
      },
      "outputs": [],
      "source": [
        "data_recs = [\n",
        "  [ \"Maria\",  7.0, 8.0, 3.0 ],\n",
        "  [ \"Juan\" ,  5.0, 2.0, 2.0 ],\n",
        "  [ \"Mateo\",  1.0, 4.0, 4.0 ],     \n",
        "]"
      ]
    },
    {
      "cell_type": "markdown",
      "metadata": {
        "id": "I0gMsYRKI0vS"
      },
      "source": [
        "Let's say you want to sort these records by the value of the first numeric component (index 1 in the list):"
      ]
    },
    {
      "cell_type": "code",
      "execution_count": null,
      "metadata": {
        "id": "cnnxmx34GLCP",
        "outputId": "0eaa4e78-08c3-4e3e-fe90-794f465a9a60"
      },
      "outputs": [
        {
          "data": {
            "text/plain": [
              "5.0"
            ]
          },
          "execution_count": 47,
          "metadata": {},
          "output_type": "execute_result"
        }
      ],
      "source": [
        "data_recs[:][1][1]"
      ]
    },
    {
      "cell_type": "code",
      "execution_count": null,
      "metadata": {
        "id": "gpyAT554sq6Q",
        "outputId": "42765663-3054-4082-a491-590380f8da90"
      },
      "outputs": [
        {
          "data": {
            "text/plain": [
              "[['Juan', 5.0, 2.0, 2.0], ['Maria', 7.0, 8.0, 3.0], ['Mateo', 1.0, 4.0, 4.0]]"
            ]
          },
          "execution_count": 48,
          "metadata": {},
          "output_type": "execute_result"
        }
      ],
      "source": [
        "sorted(data_recs)"
      ]
    },
    {
      "cell_type": "code",
      "execution_count": null,
      "metadata": {
        "id": "OzS9mRMOI12A",
        "outputId": "0b4c7b0c-cda9-4a5b-eb50-ea905de2560a"
      },
      "outputs": [
        {
          "data": {
            "text/plain": [
              "[['Mateo', 1.0, 4.0, 4.0], ['Juan', 5.0, 2.0, 2.0], ['Maria', 7.0, 8.0, 3.0]]"
            ]
          },
          "execution_count": 49,
          "metadata": {},
          "output_type": "execute_result"
        }
      ],
      "source": [
        "records_sorted = sorted(data_recs, key = lambda rec : rec[1])\n",
        "records_sorted"
      ]
    },
    {
      "cell_type": "markdown",
      "metadata": {
        "id": "u5yJ_cd0caZ3"
      },
      "source": [
        "### Exercise 5:\n",
        "\n",
        "Modify the previous example and sort the records in descending order by the last record."
      ]
    },
    {
      "cell_type": "code",
      "execution_count": null,
      "metadata": {
        "id": "PSAOrEaoqRWM",
        "outputId": "87686538-0af2-460d-8b37-9d4014b80799"
      },
      "outputs": [
        {
          "name": "stdout",
          "output_type": "stream",
          "text": [
            "Help on built-in function sorted in module builtins:\n",
            "\n",
            "sorted(iterable, /, *, key=None, reverse=False)\n",
            "    Return a new list containing all items from the iterable in ascending order.\n",
            "    \n",
            "    A custom key function can be supplied to customize the sort order, and the\n",
            "    reverse flag can be set to request the result in descending order.\n",
            "\n"
          ]
        }
      ],
      "source": [
        "help(sorted)"
      ]
    },
    {
      "cell_type": "code",
      "execution_count": null,
      "metadata": {
        "id": "sGLTLVN8cg-Z",
        "outputId": "3688381d-eeab-493a-b8de-beeb025ab480"
      },
      "outputs": [
        {
          "data": {
            "text/plain": [
              "[['Mateo', 1.0, 4.0, 4.0], ['Maria', 7.0, 8.0, 3.0], ['Juan', 5.0, 2.0, 2.0]]"
            ]
          },
          "execution_count": 75,
          "metadata": {},
          "output_type": "execute_result"
        }
      ],
      "source": [
        "records_sorted = sorted(data_recs, key = lambda rec : rec[-1],reverse = True)\n",
        "records_sorted"
      ]
    },
    {
      "cell_type": "markdown",
      "metadata": {
        "id": "B4ldG2-h1zj5"
      },
      "source": [
        "### `filter()` function\n",
        "\n",
        "The function `filter(function, iterable)` builds a list with those elements for which `function(iterable[i])` returns `True`. It can be used in conjunction with `lambda` functions:"
      ]
    },
    {
      "cell_type": "code",
      "execution_count": null,
      "metadata": {
        "id": "UVIJlDDm5ZKj"
      },
      "outputs": [],
      "source": [
        "a = [0, 1, -1, -2, 3, -4, 5, 6, 7]\n",
        "result = filter(lambda x: x > 0, a)"
      ]
    },
    {
      "cell_type": "code",
      "execution_count": null,
      "metadata": {
        "id": "Juc5egnQvOw7",
        "outputId": "5bdf960d-cd7e-4ada-9dfb-78a273343907"
      },
      "outputs": [
        {
          "name": "stdout",
          "output_type": "stream",
          "text": [
            "1\n",
            "3\n",
            "5\n",
            "6\n",
            "7\n"
          ]
        }
      ],
      "source": [
        "for val in result:\n",
        "    print(val)"
      ]
    },
    {
      "cell_type": "code",
      "execution_count": null,
      "metadata": {
        "id": "jTD6YlIAvZhc",
        "outputId": "8fbd9267-3c8d-4fa1-8a89-cef295f4be18"
      },
      "outputs": [
        {
          "data": {
            "text/plain": [
              "[]"
            ]
          },
          "execution_count": 53,
          "metadata": {},
          "output_type": "execute_result"
        }
      ],
      "source": [
        "list(result)"
      ]
    },
    {
      "cell_type": "code",
      "execution_count": null,
      "metadata": {
        "id": "yhhtTZNJzi3E",
        "outputId": "a3707f84-d1d0-4c95-eb0e-2ed806b13817"
      },
      "outputs": [
        {
          "data": {
            "text/plain": [
              "[5, 10, 50]"
            ]
          },
          "execution_count": 54,
          "metadata": {},
          "output_type": "execute_result"
        }
      ],
      "source": [
        "def multiple(number):    # We first declare a conditional function\n",
        "    if number % 5 == 0:  # We check if a number is a multiple of five\n",
        "        return True      # We only return True if it is\n",
        "\n",
        "numbers = [2, 5, 10, 23, 50, 33]\n",
        "\n",
        "list(filter(multiple, numbers))"
      ]
    },
    {
      "cell_type": "code",
      "execution_count": null,
      "metadata": {
        "id": "S3Wh1MMf2jy7",
        "outputId": "bd22b9c6-27cf-483f-a843-05b4b93a5164"
      },
      "outputs": [
        {
          "data": {
            "text/plain": [
              "[5, 10, 50]"
            ]
          },
          "execution_count": 55,
          "metadata": {},
          "output_type": "execute_result"
        }
      ],
      "source": [
        "list(filter(lambda number: number % 5 == 0, numbers))"
      ]
    },
    {
      "cell_type": "markdown",
      "metadata": {
        "id": "ea0V1PIz2_k3"
      },
      "source": [
        "#### Filtering objects"
      ]
    },
    {
      "cell_type": "code",
      "execution_count": null,
      "metadata": {
        "id": "6vyVk4GE2-sB",
        "outputId": "6218f5f5-01bb-4e7d-ac15-ea73027f0fd7"
      },
      "outputs": [
        {
          "name": "stdout",
          "output_type": "stream",
          "text": [
            "Juan is 35 years old\n",
            "Marta is 16 years old\n",
            "Manuel is 78 years old\n",
            "Eduardo is 12 years old\n"
          ]
        }
      ],
      "source": [
        "# We define a person class\n",
        "class Person:\n",
        "\n",
        "    def __init__(self, name, age):\n",
        "        self.name = name\n",
        "        self.age = age\n",
        "\n",
        "    def __str__(self):\n",
        "        return \"{} is {} years old\".format(self.name, self.age)\n",
        "\n",
        "# A list with 4 people is created\n",
        "persons = [\n",
        "    Person(\"Juan\", 35),\n",
        "    Person(\"Marta\", 16),\n",
        "    Person(\"Manuel\", 78),\n",
        "    Person(\"Eduardo\", 12)\n",
        "]\n",
        "\n",
        "# We display the list\n",
        "for p in persons:\n",
        "    print(p)"
      ]
    },
    {
      "cell_type": "code",
      "execution_count": null,
      "metadata": {
        "id": "1aZrKfZ723vB",
        "outputId": "6087df3e-4a2d-4868-c3b5-5ff707a43de5"
      },
      "outputs": [
        {
          "name": "stdout",
          "output_type": "stream",
          "text": [
            "Marta is 16 years old\n",
            "Eduardo is 12 years old\n"
          ]
        }
      ],
      "source": [
        "# You want to filter those under 18\n",
        "minors = filter(lambda person: person.age < 18, persons)\n",
        "\n",
        "# We display the objects in the filtered list\n",
        "for minor in minors:\n",
        "    print(minor)"
      ]
    },
    {
      "cell_type": "markdown",
      "metadata": {
        "id": "jvwFgni-G21s"
      },
      "source": [
        "### `map()` function\n",
        "\n",
        "This is similar to `filter()`, with the difference that instead of applying a condition to an element of a list or sequence, it applies a function on all the elements and as a result an iterable of type `map` is returned:"
      ]
    },
    {
      "cell_type": "code",
      "execution_count": null,
      "metadata": {
        "id": "Lh2S_KoBGEYo",
        "outputId": "34b8814b-a740-4741-aaa7-46da32f6af1a"
      },
      "outputs": [
        {
          "data": {
            "text/plain": [
              "[4, 10, 20, 46, 100, 66]"
            ]
          },
          "execution_count": 58,
          "metadata": {},
          "output_type": "execute_result"
        }
      ],
      "source": [
        "numbers = [2, 5, 10, 23, 50, 33]\n",
        "list(map(lambda x: x*2, numbers))"
      ]
    },
    {
      "cell_type": "markdown",
      "metadata": {
        "id": "9YusI2PeH23G"
      },
      "source": [
        "The `map()` function is widely used in conjunction with lambda expressions as it saves effort from creating `for` loops. Additionally, it can be used on more than one iterable at a time, with the condition that they have the same length:"
      ]
    },
    {
      "cell_type": "code",
      "execution_count": null,
      "metadata": {
        "id": "PEzzQDI9HiTn",
        "outputId": "276a74b1-f78b-472d-aedd-4a339a818d8b"
      },
      "outputs": [
        {
          "data": {
            "text/plain": [
              "[6, 14, 24, 36, 50]"
            ]
          },
          "execution_count": 59,
          "metadata": {},
          "output_type": "execute_result"
        }
      ],
      "source": [
        "a = [1, 2, 3, 4, 5]\n",
        "b = [6, 7, 8, 9, 10]\n",
        "\n",
        "list( map(lambda x,y : x*y, a,b) )"
      ]
    },
    {
      "cell_type": "code",
      "execution_count": null,
      "metadata": {
        "id": "uKmVqAWxH8Fy",
        "outputId": "b0f1aaac-fc10-4b59-fc24-9ac6fa8c71ab"
      },
      "outputs": [
        {
          "data": {
            "text/plain": [
              "[66, 168, 312, 504, 750]"
            ]
          },
          "execution_count": 60,
          "metadata": {},
          "output_type": "execute_result"
        }
      ],
      "source": [
        "c = [11, 12, 13, 14, 15]\n",
        "\n",
        "list( map(lambda x,y,z : x*y*z, a,b,c) )"
      ]
    },
    {
      "cell_type": "markdown",
      "metadata": {
        "id": "1NbNO5ATIDOn"
      },
      "source": [
        "#### Mapping objects"
      ]
    },
    {
      "cell_type": "code",
      "execution_count": null,
      "metadata": {
        "id": "Wglb4CfPH83A",
        "outputId": "e15eaf42-bc5f-440f-c08f-f135037be7ea"
      },
      "outputs": [
        {
          "name": "stdout",
          "output_type": "stream",
          "text": [
            "Juan is 36 years old\n",
            "Marta is 17 years old\n",
            "Manuel is 79 years old\n",
            "Eduardo is 13 years old\n"
          ]
        }
      ],
      "source": [
        "persons = map(lambda p: Person(p.name, p.age + 1), persons)\n",
        "\n",
        "for person in persons:\n",
        "    print(person)"
      ]
    },
    {
      "cell_type": "markdown",
      "metadata": {
        "id": "X9i2_7F4MUlV"
      },
      "source": [
        "## List comprenhensions\n",
        "\n",
        "Suppose that we have:\n",
        "\n",
        "* A list of input `input_arr = [elem1, elem2, elem3, ...]`\n",
        "* A `fun()` function\n",
        "\n",
        "We want to produce the array `output_arr = [fun(elem1), fun(elem2), fun(elem3)`; that is, by applying `fun()` to each element of the array and returning the results.\n",
        "\n",
        "Here is how most programmers would approach this problem:"
      ]
    },
    {
      "cell_type": "code",
      "execution_count": null,
      "metadata": {
        "colab": {
          "base_uri": "https://localhost:8080/",
          "height": 34
        },
        "id": "t2B-RQvMILkw",
        "outputId": "f5f3d77c-e668-4faa-e8d1-b736e96b0fac"
      },
      "outputs": [
        {
          "data": {
            "text/plain": [
              "['Maria', 'Ana', 'Sara']"
            ]
          },
          "execution_count": 62,
          "metadata": {},
          "output_type": "execute_result"
        }
      ],
      "source": [
        "input_arr = [\"maria\", \"ana\", \"sara\"]\n",
        "capitalize = lambda a_str :  a_str[0].upper() + a_str[1:]\n",
        "\n",
        "# Non-idiomatic Python code follows: \n",
        "output_arr = []\n",
        "for elem in input_arr : \n",
        "    output_arr.append( capitalize( elem ) )\n",
        "    \n",
        "output_arr"
      ]
    },
    {
      "cell_type": "markdown",
      "metadata": {
        "id": "kI86sjG2J18y"
      },
      "source": [
        "That is about 3 lines. Not bad, but could be much better. Python's idiomatic solution is called **list comprehension**.\n",
        "\n",
        "```python\n",
        "[funcion(x) for item in list1]\n",
        "```"
      ]
    },
    {
      "cell_type": "code",
      "execution_count": null,
      "metadata": {
        "colab": {
          "base_uri": "https://localhost:8080/",
          "height": 34
        },
        "id": "VN4k_PnqJrRL",
        "outputId": "e0c14089-58bc-4e5c-cf01-2487f00a2a7b"
      },
      "outputs": [
        {
          "name": "stdout",
          "output_type": "stream",
          "text": [
            "['Maria', 'Ana', 'Sara']\n"
          ]
        }
      ],
      "source": [
        "output_arr2 = [ capitalize(elem)  for elem in input_arr ]\n",
        "print(output_arr2)"
      ]
    },
    {
      "cell_type": "markdown",
      "metadata": {
        "id": "IBgBFzGGMvAq"
      },
      "source": [
        "### Conditionals in list comprehensions\n",
        "\n",
        "In this case you want to make a conditional to define the values in the list:\n",
        "\n",
        "```python\n",
        "[result1 if conditional else result2 for item in list1 ]\n",
        "[result for item in list1 if conditional]\n",
        "```"
      ]
    },
    {
      "cell_type": "code",
      "execution_count": null,
      "metadata": {
        "colab": {
          "base_uri": "https://localhost:8080/",
          "height": 34
        },
        "id": "TmY6FybfJ8l3",
        "outputId": "6c5409b7-5a53-47c2-de40-8351fc65fba4"
      },
      "outputs": [
        {
          "name": "stdout",
          "output_type": "stream",
          "text": [
            "[1, 4, 27, 16, 125, 36, 343, 64, 729, 100, 1331, 144, 2197, 196, 3375]\n"
          ]
        }
      ],
      "source": [
        "squares_cubes = [n**2 if n%2 == 0 else n**3 for n in range(1,16)]\n",
        "print(squares_cubes)"
      ]
    },
    {
      "cell_type": "code",
      "execution_count": null,
      "metadata": {
        "colab": {
          "base_uri": "https://localhost:8080/",
          "height": 34
        },
        "id": "_1c0EeWNLmHi",
        "outputId": "445a37ef-4698-4aab-8a6f-df62f4b93179"
      },
      "outputs": [
        {
          "name": "stdout",
          "output_type": "stream",
          "text": [
            "[2, 4, 6, 8, 10, 12, 14, 16, 18, 20]\n"
          ]
        }
      ],
      "source": [
        "evens = [n for n in range(1,21) if n%2 == 0] \n",
        "print(evens)"
      ]
    },
    {
      "cell_type": "markdown",
      "metadata": {
        "id": "x5BXGCvtL1xX"
      },
      "source": [
        "### List comprehensions for nested loops\n",
        "\n",
        "List comprehensions can also be used to perform operations on nested loops, such as traversing a list of lists:\n",
        "\n",
        "```python\n",
        "[ <the_expression> for <element_a> in <iterable_a> (optional if <condition_a>)\n",
        "                   for <element_b> in <iterable_b> (optional if <condition_b>)\n",
        "                   for <element_c> in <iterable_c> (optional if <condition_c>)\n",
        "                   ... and so on ...]\n",
        "```"
      ]
    },
    {
      "cell_type": "code",
      "execution_count": null,
      "metadata": {
        "id": "WpW-Pn3DLo7F",
        "outputId": "cc342f2b-5b82-48b3-e4a0-b5494fca3536"
      },
      "outputs": [
        {
          "name": "stdout",
          "output_type": "stream",
          "text": [
            "[6, 8, 10, 12]\n"
          ]
        }
      ],
      "source": [
        "matrix = [\n",
        "    [1, 2, 3, 4],\n",
        "    [5, 6, 7, 8],\n",
        "    [9, 10, 11, 12],\n",
        "]\n",
        " \n",
        "flatten = [n for row in matrix if sum(row)>11 for n in row if n%2==0]\n",
        " \n",
        "print(flatten)"
      ]
    },
    {
      "cell_type": "markdown",
      "metadata": {
        "id": "9kAz9Pw9NrKn"
      },
      "source": [
        "### Nested list comprehensions"
      ]
    },
    {
      "cell_type": "code",
      "execution_count": null,
      "metadata": {
        "id": "yZcbroKdMI9X",
        "outputId": "ca3e9f82-ce78-4c3c-ca4e-ab275bf43af0"
      },
      "outputs": [
        {
          "name": "stdout",
          "output_type": "stream",
          "text": [
            "[[1, 5, 9], [2, 6, 10], [3, 7, 11], [4, 8, 12]]\n"
          ]
        }
      ],
      "source": [
        "matrix = [\n",
        "    [1, 2, 3, 4],\n",
        "    [5, 6, 7, 8],\n",
        "    [9, 10, 11, 12],\n",
        "]\n",
        " \n",
        "transpose = [[row[n] for row in matrix] for n in range(4)]\n",
        " \n",
        "print(transpose)"
      ]
    },
    {
      "cell_type": "markdown",
      "metadata": {
        "id": "RqXeK4cKdHyx"
      },
      "source": [
        "### Exercise 6:\n",
        "\n",
        "Define a function `avg1()` that takes a list consisting of a person's name (`str`) and then only numbers, then calculates and returns the average of those numbers.\n",
        "\n",
        "For example:\n",
        "```python\n",
        "avg1 (['Mateo', 5.0, 2.0, 2.0])\n",
        "``` \n",
        "should return 3, as it is the result of performing the following operation: `((5 + 2 + 2) / 3))`."
      ]
    },
    {
      "cell_type": "code",
      "execution_count": null,
      "metadata": {
        "id": "hRdoA366dpAg"
      },
      "outputs": [],
      "source": [
        "avg1= lambda _list: sum(_list[1:])/len(_list[1:])"
      ]
    },
    {
      "cell_type": "markdown",
      "metadata": {
        "id": "0u78C5UsdxP_"
      },
      "source": [
        "### Exercise 7:\n",
        "\n",
        "Use list comprehension to apply the `avg1()` function defined above to each record in `data_recs`:\n",
        "\n",
        "```python\n",
        "data_recs = [\n",
        "  [ \"Juan\" ,  5.0, 2.0, 2.0 ],\n",
        "  [ \"Maria\",  7.0, 8.0, 3.0 ], \n",
        "  [ \"Mateo\",  1.0, 4.0, 4.0 ],     \n",
        "]\n",
        "````"
      ]
    },
    {
      "cell_type": "code",
      "execution_count": null,
      "metadata": {
        "id": "WR9gxkcOdwC1",
        "outputId": "bd6c91d8-7669-46b2-b1b2-271754fa11b2"
      },
      "outputs": [
        {
          "data": {
            "text/plain": [
              "[3.0, 6.0, 3.0]"
            ]
          },
          "execution_count": 78,
          "metadata": {},
          "output_type": "execute_result"
        }
      ],
      "source": [
        "data_recs = [\n",
        "  [ \"Juan\" ,  5.0, 2.0, 2.0 ],\n",
        "  [ \"Maria\",  7.0, 8.0, 3.0 ], \n",
        "  [ \"Mateo\",  1.0, 4.0, 4.0 ],     \n",
        "]\n",
        "\n",
        "list(map(avg1,data_recs))"
      ]
    },
    {
      "cell_type": "markdown",
      "metadata": {
        "id": "V64E5XkRPEK-"
      },
      "source": [
        "## Modules and packages\n",
        "\n",
        "**Modules** are files that can be **imported** by other scripts, which in turn can use the functionality included in those modules. This allows one to avoid \"reinventing the wheel\" and take advantage of previous work that was done in Python. Modules can be orgaized into **packages**.\n",
        "\n",
        "We can create our own modules or packages, or use some already created by others and that are available for use.\n",
        "\n",
        "To install a package in Python, do the following:\n",
        "\n",
        "```python\n",
        "pip install pandas\n",
        "```\n",
        "\n",
        "If you want to install the package:\n",
        "\n",
        "```python\n",
        "pip uninstall pandas\n",
        "```"
      ]
    },
    {
      "cell_type": "code",
      "execution_count": null,
      "metadata": {
        "id": "uM4IjrYB4-I2",
        "outputId": "070f3365-67dd-4197-e9d0-23fbb289e6a1"
      },
      "outputs": [
        {
          "name": "stdout",
          "output_type": "stream",
          "text": [
            "Requirement already satisfied: pandas in /opt/conda/lib/python3.6/site-packages (0.23.4)\n",
            "Requirement already satisfied: numpy>=1.9.0 in /opt/conda/lib/python3.6/site-packages (from pandas) (1.13.3)\n",
            "Requirement already satisfied: pytz>=2011k in /opt/conda/lib/python3.6/site-packages (from pandas) (2018.7)\n",
            "Requirement already satisfied: python-dateutil>=2.5.0 in /opt/conda/lib/python3.6/site-packages (from pandas) (2.7.5)\n",
            "Requirement already satisfied: six>=1.5 in /opt/conda/lib/python3.6/site-packages (from python-dateutil>=2.5.0->pandas) (1.12.0)\n"
          ]
        }
      ],
      "source": [
        "!pip install pandas"
      ]
    },
    {
      "cell_type": "code",
      "execution_count": null,
      "metadata": {
        "id": "-B9kluio5Okd",
        "outputId": "9796f7e9-6bee-46e6-f9d8-9f32fe813751"
      },
      "outputs": [
        {
          "name": "stdout",
          "output_type": "stream",
          "text": [
            " Datasets\t\t\t     'Python Fundamentals Part I.ipynb'\r\n",
            "'Python Fundamentals Part II.ipynb'\r\n"
          ]
        }
      ],
      "source": [
        "!ls"
      ]
    },
    {
      "cell_type": "code",
      "execution_count": null,
      "metadata": {
        "id": "QU89EhF-5pqA"
      },
      "outputs": [],
      "source": [
        "!mkdir temp"
      ]
    },
    {
      "cell_type": "markdown",
      "metadata": {
        "id": "IOVKRhDzQ-YV"
      },
      "source": [
        "## Other essential modules\n",
        "\n",
        "The following is a list of Python modules that you will use extremely often in your own work:"
      ]
    },
    {
      "cell_type": "markdown",
      "metadata": {
        "id": "Hj0RjhH3ZNud"
      },
      "source": [
        "### `collections`\n",
        "\n",
        "This adds specific functionalities to lists:"
      ]
    },
    {
      "cell_type": "code",
      "execution_count": null,
      "metadata": {
        "id": "ruIp3K95NxpY",
        "outputId": "31b66168-9373-4c01-aaf0-53a26268a732"
      },
      "outputs": [
        {
          "data": {
            "text/plain": [
              "Counter({1: 4, 2: 3, 3: 2, 4: 1})"
            ]
          },
          "execution_count": 82,
          "metadata": {},
          "output_type": "execute_result"
        }
      ],
      "source": [
        "# Counts the number of instances of each value in a list\n",
        "from collections import Counter\n",
        "\n",
        "l = [1,2,3,4,1,2,3,1,2,1]\n",
        "Counter(l)"
      ]
    },
    {
      "cell_type": "code",
      "execution_count": null,
      "metadata": {
        "id": "Ox_LPFQcQHK3",
        "outputId": "165dc4e7-3929-432e-b7c1-84636b48e354"
      },
      "outputs": [
        {
          "name": "stdout",
          "output_type": "stream",
          "text": [
            "Counter({'perro': 3, 'canario': 2, 'gato': 1})\n"
          ]
        }
      ],
      "source": [
        "# Splits a string into its constituent \"words\" before counting them\n",
        "animales = \"gato perro canario perro canario perro\"\n",
        "c = Counter(animales.split())\n",
        "print(c)"
      ]
    },
    {
      "cell_type": "markdown",
      "metadata": {
        "id": "O1jt3F0HVTHT"
      },
      "source": [
        "### `datetime`\n",
        "\n",
        "This is used to handle dates and times:"
      ]
    },
    {
      "cell_type": "code",
      "execution_count": null,
      "metadata": {
        "id": "fbQfzFwMUzpL",
        "outputId": "6c820574-c7e9-4ee2-ea55-10f5cfffb1d1"
      },
      "outputs": [
        {
          "name": "stdout",
          "output_type": "stream",
          "text": [
            "2020-11-21 01:58:32.185612\n",
            "2020\n",
            "11\n",
            "21\n",
            "1\n",
            "58\n",
            "32\n",
            "185612\n",
            "1:58:32\n",
            "21/11/2020\n"
          ]
        }
      ],
      "source": [
        "from datetime import datetime\n",
        "\n",
        "dt = datetime.now ()   # Current date and time\n",
        "\n",
        "print (dt)\n",
        "print (dt.year)        # year\n",
        "print (dt.month)       # month\n",
        "print (dt.day)         # day\n",
        "\n",
        "print (dt.hour)        # hour\n",
        "print (dt.minute)      # minutes\n",
        "print (dt.second)      # seconds\n",
        "print (dt.microsecond) # microseconds\n",
        "\n",
        "print(\"{}:{}:{}\".format(dt.hour, dt.minute, dt.second))\n",
        "print(\"{}/{}/{}\".format(dt.day, dt.month, dt.year))"
      ]
    },
    {
      "cell_type": "code",
      "execution_count": null,
      "metadata": {
        "id": "TjH6nk3cV0Ok",
        "outputId": "b0b946e6-034c-4df6-b50a-df3146a76f8f"
      },
      "outputs": [
        {
          "name": "stdout",
          "output_type": "stream",
          "text": [
            "Saturday 21 de Nov del 20 - 01:58\n"
          ]
        }
      ],
      "source": [
        "from datetime import datetime, timedelta\n",
        "\n",
        "dt = datetime.now()\n",
        "print(dt.strftime(\"%A %d de %b del %y - %H:%M\"))"
      ]
    },
    {
      "cell_type": "code",
      "execution_count": null,
      "metadata": {
        "id": "dvPDZUI48B-0",
        "outputId": "56a434e9-a738-41e9-bc38-db737f373ca1"
      },
      "outputs": [
        {
          "name": "stdout",
          "output_type": "stream",
          "text": [
            "Saturday 05 de December del 2020 - 06:15\n",
            "Friday 06 de November del 2020 - 21:41\n"
          ]
        }
      ],
      "source": [
        "# We generate 14 days with 4 hours and 1000 seconds of time\n",
        "t = timedelta(days=14, hours=4, seconds=1000)\n",
        "\n",
        "# We operate it with the datetime of the current date and time\n",
        "in_two_weeks = dt + t\n",
        "print(in_two_weeks.strftime(\"%A %d de %B del %Y - %H:%M\"))\n",
        "two_weeks_ago = dt - t\n",
        "print(two_weeks_ago.strftime(\"%A %d de %B del %Y - %H:%M\"))"
      ]
    },
    {
      "cell_type": "markdown",
      "metadata": {
        "id": "ipNj14XIVX3b"
      },
      "source": [
        "### `math`\n",
        "\n",
        "This module includes many standard mathematical functions:"
      ]
    },
    {
      "cell_type": "code",
      "execution_count": null,
      "metadata": {
        "id": "JtXisqlxWNkY",
        "outputId": "afafcef4-61f2-4697-acba-e019138d1ae4"
      },
      "outputs": [
        {
          "name": "stdout",
          "output_type": "stream",
          "text": [
            "3\n",
            "4\n"
          ]
        }
      ],
      "source": [
        "import math\n",
        "\n",
        "print(math.floor(3.99)) # Round down (ground)\n",
        "print(math.ceil(3.01))  # Round up (ceiling)"
      ]
    },
    {
      "cell_type": "code",
      "execution_count": null,
      "metadata": {
        "id": "j9j31YJlWVaB",
        "outputId": "325a4caf-a457-40cf-9348-92c2bcafa25d"
      },
      "outputs": [
        {
          "name": "stdout",
          "output_type": "stream",
          "text": [
            "3.141592653589793\n",
            "2.718281828459045\n"
          ]
        }
      ],
      "source": [
        "print(math.pi)  # pi Constant\n",
        "print(math.e)   # e Constant "
      ]
    }
  ],
  "metadata": {
    "colab": {
      "provenance": []
    },
    "kernelspec": {
      "display_name": "Python 3 (ipykernel)",
      "language": "python",
      "name": "python3"
    },
    "language_info": {
      "codemirror_mode": {
        "name": "ipython",
        "version": 3
      },
      "file_extension": ".py",
      "mimetype": "text/x-python",
      "name": "python",
      "nbconvert_exporter": "python",
      "pygments_lexer": "ipython3",
      "version": "3.9.7"
    }
  },
  "nbformat": 4,
  "nbformat_minor": 0
}