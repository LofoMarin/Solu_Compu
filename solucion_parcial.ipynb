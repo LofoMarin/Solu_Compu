{
 "cells": [
  {
   "attachments": {},
   "cell_type": "markdown",
   "metadata": {},
   "source": [
    "# Punto 1"
   ]
  },
  {
   "cell_type": "code",
   "execution_count": 13,
   "metadata": {},
   "outputs": [],
   "source": [
    "valor = 1.8"
   ]
  },
  {
   "cell_type": "code",
   "execution_count": 14,
   "metadata": {},
   "outputs": [],
   "source": [
    "def decimal_to_ieee754(valor):\n",
    "    \"\"\"\n",
    "    Convierte un número decimal de 32 bits a su representación en formato IEEE 754.\n",
    "\n",
    "    Args:\n",
    "        num: El número decimal de 32 bits a convertir.\n",
    "\n",
    "    Returns:\n",
    "        El número en su representación en formato IEEE 754 como una cadena de bits.\n",
    "    \"\"\"\n",
    "    # Comprueba el signo del número y conviértelo a positivo\n",
    "    sign = 0 if valor >= 0 else 1\n",
    "    valor = abs(valor)\n",
    "\n",
    "    # Convierte el número en una fracción binaria normalizada\n",
    "    exponent = 0\n",
    "    while valor >= 2:\n",
    "        valor /= 2\n",
    "        exponent += 1\n",
    "    while valor < 1:\n",
    "        valor *= 2\n",
    "        exponent -= 1\n",
    "    fraction = valor - 1\n",
    "\n",
    "    # Calcula el exponente en exceso\n",
    "    exp_offset = 127\n",
    "    exponent += exp_offset\n",
    "\n",
    "    # Convierte los diferentes campos en cadenas de bits\n",
    "    sign_bits = bin(sign)[2:]\n",
    "    exponent_bits = bin(exponent)[2:].zfill(8)\n",
    "    fraction_bits = \"\"\n",
    "    for i in range(23):\n",
    "        fraction *= 2\n",
    "        bit = int(fraction)\n",
    "        fraction_bits += str(bit)\n",
    "        fraction -= bit\n",
    "\n",
    "    # Concatena los diferentes campos en una cadena de bits\n",
    "    bits = sign_bits + exponent_bits + fraction_bits\n",
    "\n",
    "    # Devuelve la cadena de bits de la representación IEEE 754\n",
    "    return bits\n"
   ]
  },
  {
   "cell_type": "code",
   "execution_count": 15,
   "metadata": {},
   "outputs": [
    {
     "name": "stdout",
     "output_type": "stream",
     "text": [
      "00111111111001100110011001100110\n"
     ]
    }
   ],
   "source": [
    "ieee754 = decimal_to_ieee754(valor)\n",
    "print(ieee754)\n"
   ]
  },
  {
   "cell_type": "code",
   "execution_count": 16,
   "metadata": {},
   "outputs": [],
   "source": [
    "def ieee754_to_hex(bits):\n",
    "    \"\"\"\n",
    "    Convierte una cadena de bits en formato IEEE 754 a su representación hexadecimal.\n",
    "\n",
    "    Args:\n",
    "        bits: La cadena de bits en formato IEEE 754.\n",
    "\n",
    "    Returns:\n",
    "        La representación hexadecimal del número.\n",
    "    \"\"\"\n",
    "    # Convierte la cadena de bits en un número entero\n",
    "    valor = int(bits, 2)\n",
    "\n",
    "    # Convierte el número entero en su representación hexadecimal\n",
    "    hex_str = hex(valor)[2:].zfill(8)\n",
    "\n",
    "    # Devuelve la representación hexadecimal\n",
    "    return hex_str\n"
   ]
  },
  {
   "cell_type": "code",
   "execution_count": 17,
   "metadata": {},
   "outputs": [
    {
     "name": "stdout",
     "output_type": "stream",
     "text": [
      "3fe66666\n"
     ]
    }
   ],
   "source": [
    "bits = decimal_to_ieee754(valor)\n",
    "hex_str = ieee754_to_hex(bits)\n",
    "print(hex_str)\n"
   ]
  },
  {
   "attachments": {},
   "cell_type": "markdown",
   "metadata": {},
   "source": [
    "# Punto 2"
   ]
  },
  {
   "cell_type": "code",
   "execution_count": 18,
   "metadata": {},
   "outputs": [],
   "source": [
    "from IPython.display import display, Math\n",
    "import sympy as sp\n",
    "from sympy.parsing.sympy_parser import parse_expr\n",
    "import warnings\n",
    "warnings.filterwarnings('ignore')\n",
    "import matplotlib.pyplot as plt\n",
    "import sympy.plotting as pls\n",
    "import seaborn as sns\n",
    "import numpy as np\n",
    "import math as mt"
   ]
  },
  {
   "cell_type": "code",
   "execution_count": 19,
   "metadata": {},
   "outputs": [],
   "source": [
    "x = parse_expr(\"x\")\n",
    "f = parse_expr(\"(x+1)**(1/3)\")\n"
   ]
  },
  {
   "cell_type": "code",
   "execution_count": 20,
   "metadata": {},
   "outputs": [
    {
     "data": {
      "text/latex": [
       "$\\displaystyle \\sqrt[3]{x + 1}$"
      ],
      "text/plain": [
       "(x + 1)**(1/3)"
      ]
     },
     "execution_count": 20,
     "metadata": {},
     "output_type": "execute_result"
    }
   ],
   "source": [
    "f"
   ]
  },
  {
   "cell_type": "code",
   "execution_count": 24,
   "metadata": {},
   "outputs": [
    {
     "data": {
      "text/latex": [
       "$\\displaystyle 1.7099759466767$"
      ],
      "text/plain": [
       "1.70997594667670"
      ]
     },
     "execution_count": 24,
     "metadata": {},
     "output_type": "execute_result"
    }
   ],
   "source": [
    "valor = 4\n",
    "error = []\n",
    "error_relativo = []\n",
    "pol = []\n",
    "funcion_eval = f.subs(x,valor).evalf()\n",
    "funcion_eval"
   ]
  },
  {
   "cell_type": "code",
   "execution_count": 27,
   "metadata": {},
   "outputs": [
    {
     "name": "stdout",
     "output_type": "stream",
     "text": [
      "Punto de expansión en x=0\n",
      "Aproximación de Taylor: 0.8646372344023854\n",
      "Valor exacto de f(4): 1.7099759466766968\n",
      "Error relativo: 0.49435707789762184\n",
      "Error porcentual: 49.43570778976218%\n",
      "\n",
      "Punto de expansión en x=1\n",
      "Aproximación de Taylor: 0.3732821739073952\n",
      "Valor exacto de f(4): 1.7099759466766968\n",
      "Error relativo: 0.7817032604272233\n",
      "Error porcentual: 78.17032604272232%\n",
      "\n",
      "Punto de expansión en x=2\n",
      "Aproximación de Taylor: 12.91640520706183\n",
      "Valor exacto de f(4): 1.7099759466766968\n",
      "Error relativo: 6.553559587878765\n",
      "Error porcentual: 655.3559587878765%\n",
      "\n"
     ]
    }
   ],
   "source": [
    "import math\n",
    "\n",
    "# Definimos la función f(x)\n",
    "def f(x):\n",
    "    return (x+1)**(1/3)\n",
    "\n",
    "# Definimos la expansión en serie de Taylor de f(x) hasta el orden 10\n",
    "def taylor_series(x, n):\n",
    "    result = 0\n",
    "    for i in range(n+1):\n",
    "        result += ((-1)**i * math.gamma(1/3)) / (math.gamma(i+1/3) * math.gamma(1/3-i)) * (x-1)**i\n",
    "    return result\n",
    "\n",
    "# Evaluamos la serie de Taylor en x=4 para tres valores diferentes de punto de expansión\n",
    "x_values = [0, 1, 2]\n",
    "for x in x_values:\n",
    "    taylor_approx = taylor_series(x, 10)\n",
    "    exact_value = f(4)\n",
    "    rel_error = abs(taylor_approx - exact_value) / exact_value\n",
    "    pct_error = rel_error * 100\n",
    "    print(f\"Punto de expansión en x={x}\")\n",
    "    print(f\"Aproximación de Taylor: {taylor_approx}\")\n",
    "    print(f\"Valor exacto de f(4): {exact_value}\")\n",
    "    print(f\"Error relativo: {rel_error}\")\n",
    "    print(f\"Error porcentual: {pct_error}%\\n\")\n"
   ]
  },
  {
   "cell_type": "code",
   "execution_count": 29,
   "metadata": {},
   "outputs": [
    {
     "data": {
      "image/png": "[encoded data removed]",
      "text/plain": [
       "<Figure size 640x480 with 1 Axes>"
      ]
     },
     "metadata": {},
     "output_type": "display_data"
    }
   ],
   "source": [
    "import numpy as np\n",
    "import matplotlib.pyplot as plt\n",
    "\n",
    "# Definimos la función f(x)\n",
    "def f(x):\n",
    "    return (x+1)**(1/3)\n",
    "\n",
    "# Definimos la expansión en serie de Taylor de f(x) hasta el orden 10\n",
    "def taylor_series(x, n):\n",
    "    result = 0\n",
    "    for i in range(n+1):\n",
    "        result += ((-1)**i * math.gamma(1/3)) / (math.gamma(i+1/3) * math.gamma(1/3-i)) * (x-1)**i\n",
    "    return result\n",
    "\n",
    "# Evaluamos la función y las aproximaciones de Taylor para cada punto de expansión en el intervalo [0, 5]\n",
    "x_values = np.linspace(0, 5, 100)\n",
    "f_values = f(x_values)\n",
    "approx_values_0 = taylor_series(x_values, 10)\n",
    "approx_values_1 = taylor_series(x_values-1, 10)\n",
    "approx_values_2 = taylor_series(x_values-2, 10)\n",
    "\n",
    "# Graficamos los resultados\n",
    "plt.plot(x_values, f_values, label=\"f(x)\")\n",
    "plt.plot(x_values, approx_values_0, label=\"Punto de expansión en x=0\")\n",
    "plt.plot(x_values+1, approx_values_1, label=\"Punto de expansión en x=1\")\n",
    "plt.plot(x_values+2, approx_values_2, label=\"Punto de expansión en x=2\")\n",
    "plt.legend()\n",
    "plt.show()"
   ]
  }
 ],
 "metadata": {
  "kernelspec": {
   "display_name": "base",
   "language": "python",
   "name": "python3"
  },
  "language_info": {
   "codemirror_mode": {
    "name": "ipython",
    "version": 3
   },
   "file_extension": ".py",
   "mimetype": "text/x-python",
   "name": "python",
   "nbconvert_exporter": "python",
   "pygments_lexer": "ipython3",
   "version": "3.9.13"
  },
  "orig_nbformat": 4,
  "vscode": {
   "interpreter": {
    "hash": "518c192f7786372b2fa5d01703255364732baed999d5e796ad98dffe85f0e786"
   }
  }
 },
 "nbformat": 4,
 "nbformat_minor": 2
}
